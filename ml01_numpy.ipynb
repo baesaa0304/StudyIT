{
  "nbformat": 4,
  "nbformat_minor": 0,
  "metadata": {
    "colab": {
      "provenance": [],
      "include_colab_link": true
    },
    "kernelspec": {
      "name": "python3",
      "display_name": "Python 3"
    },
    "language_info": {
      "name": "python"
    }
  },
  "cells": [
    {
      "cell_type": "markdown",
      "metadata": {
        "id": "view-in-github",
        "colab_type": "text"
      },
      "source": [
        "<a href=\"https://colab.research.google.com/github/baesunyoung34/Machine_Learning/blob/main/ml01_numpy.ipynb\" target=\"_parent\"><img src=\"https://colab.research.google.com/assets/colab-badge.svg\" alt=\"Open In Colab\"/></a>"
      ]
    },
    {
      "cell_type": "code",
      "execution_count": null,
      "metadata": {
        "id": "kzUW6_qMcvI4"
      },
      "outputs": [],
      "source": [
        "import numpy as np"
      ]
    },
    {
      "cell_type": "markdown",
      "source": [
        "# `np.ndarray` 클래스의 속성(property)"
      ],
      "metadata": {
        "id": "pZiHkqpDdDqA"
      }
    },
    {
      "cell_type": "code",
      "source": [
        "arr = np.ones(shape=(2, 3)) # 모든 원소가 1.0인 (2, 3) 모양의 배열"
      ],
      "metadata": {
        "id": "PABKKslXdJIB"
      },
      "execution_count": null,
      "outputs": []
    },
    {
      "cell_type": "code",
      "source": [
        "print(arr)"
      ],
      "metadata": {
        "colab": {
          "base_uri": "https://localhost:8080/"
        },
        "id": "UClcsiLbdlkS",
        "outputId": "bf880357-3608-4441-922f-78bc2d1204e8"
      },
      "execution_count": null,
      "outputs": [
        {
          "output_type": "stream",
          "name": "stdout",
          "text": [
            "[[1. 1. 1.]\n",
            " [1. 1. 1.]]\n"
          ]
        }
      ]
    },
    {
      "cell_type": "code",
      "source": [
        "arr.dtype  # 배열 원소의 데이터 타입"
      ],
      "metadata": {
        "colab": {
          "base_uri": "https://localhost:8080/"
        },
        "id": "leCR13GmdmVP",
        "outputId": "b36b10c9-4c56-4743-e9a2-10662bba61b2"
      },
      "execution_count": null,
      "outputs": [
        {
          "output_type": "execute_result",
          "data": {
            "text/plain": [
              "dtype('float64')"
            ]
          },
          "metadata": {},
          "execution_count": 4
        }
      ]
    },
    {
      "cell_type": "code",
      "source": [
        "arr.shape  # 배열의 모양: 배열의 각 축(axis)를 따라서 있는 원소의 개수."
      ],
      "metadata": {
        "colab": {
          "base_uri": "https://localhost:8080/"
        },
        "id": "JuGXBd_yeOgr",
        "outputId": "066b48d8-9db9-4c8f-b945-7913eb76ac3f"
      },
      "execution_count": null,
      "outputs": [
        {
          "output_type": "execute_result",
          "data": {
            "text/plain": [
              "(2, 3)"
            ]
          },
          "metadata": {},
          "execution_count": 5
        }
      ]
    },
    {
      "cell_type": "code",
      "source": [
        "arr.ndim  # 배열의 차원(dimension): 배열의 축(axis)이 개수."
      ],
      "metadata": {
        "colab": {
          "base_uri": "https://localhost:8080/"
        },
        "id": "-6navvsZef8f",
        "outputId": "16170725-b98e-437b-fc06-9596e1747efe"
      },
      "execution_count": null,
      "outputs": [
        {
          "output_type": "execute_result",
          "data": {
            "text/plain": [
              "2"
            ]
          },
          "metadata": {},
          "execution_count": 6
        }
      ]
    },
    {
      "cell_type": "code",
      "source": [
        "arr.size  # 배열의 크기: 배열의 전체 원소 개수"
      ],
      "metadata": {
        "colab": {
          "base_uri": "https://localhost:8080/"
        },
        "id": "k3ylEcm8fR6Y",
        "outputId": "5eb46749-bf79-445c-baca-cd3fb190a705"
      },
      "execution_count": null,
      "outputs": [
        {
          "output_type": "execute_result",
          "data": {
            "text/plain": [
              "6"
            ]
          },
          "metadata": {},
          "execution_count": 7
        }
      ]
    },
    {
      "cell_type": "code",
      "source": [
        "arr = np.arange(10)  # [0, 10) 범위의 1씩 증가하는 정수들로 만들어진 1차원 배열\n",
        "print(arr)\n",
        "print('dtype:', arr.dtype)\n",
        "print('shape:', arr.shape)\n",
        "print('ndim:', arr.ndim)\n",
        "print('size:', arr.size)"
      ],
      "metadata": {
        "colab": {
          "base_uri": "https://localhost:8080/"
        },
        "id": "MRgD1Huif5Qw",
        "outputId": "54088ecb-102e-4d3c-ab5d-800a0ffb9cb9"
      },
      "execution_count": null,
      "outputs": [
        {
          "output_type": "stream",
          "name": "stdout",
          "text": [
            "[0 1 2 3 4 5 6 7 8 9]\n",
            "dtype: int64\n",
            "shape: (10,)\n",
            "ndim: 1\n",
            "size: 10\n"
          ]
        }
      ]
    },
    {
      "cell_type": "markdown",
      "source": [
        "# indexing\n",
        "\n",
        "*  Python list:\n",
        "    *  `list[i], list[i][j], list[i][j][k], ...`\n",
        "*  numpy ndarray:\n",
        "    *  `array[i], array[i][j], array[i][j][k], ...`\n",
        "    *  `array[i], array[i, j], array[i, j, k], ...`\n"
      ],
      "metadata": {
        "id": "HItuIF1agsjx"
      }
    },
    {
      "cell_type": "code",
      "source": [
        "arr = np.arange(1, 13).reshape((3, 4))\n",
        "print(arr)"
      ],
      "metadata": {
        "colab": {
          "base_uri": "https://localhost:8080/"
        },
        "id": "1g7anoGSgacJ",
        "outputId": "27009603-23f4-4c91-841e-467194b0a28b"
      },
      "execution_count": null,
      "outputs": [
        {
          "output_type": "stream",
          "name": "stdout",
          "text": [
            "[[ 1  2  3  4]\n",
            " [ 5  6  7  8]\n",
            " [ 9 10 11 12]]\n"
          ]
        }
      ]
    },
    {
      "cell_type": "code",
      "source": [
        "arr[0]"
      ],
      "metadata": {
        "colab": {
          "base_uri": "https://localhost:8080/"
        },
        "id": "XD4UODeih1P5",
        "outputId": "35aecff6-e196-4247-e0a3-8353e32a18df"
      },
      "execution_count": null,
      "outputs": [
        {
          "output_type": "execute_result",
          "data": {
            "text/plain": [
              "array([1, 2, 3, 4])"
            ]
          },
          "metadata": {},
          "execution_count": 10
        }
      ]
    },
    {
      "cell_type": "code",
      "source": [
        "arr[0, 1]  # arr[0][1]과 동일."
      ],
      "metadata": {
        "colab": {
          "base_uri": "https://localhost:8080/"
        },
        "id": "SSiTAJtqiI0x",
        "outputId": "6869940c-59f6-4816-ca6e-fec93c49e5e3"
      },
      "execution_count": null,
      "outputs": [
        {
          "output_type": "execute_result",
          "data": {
            "text/plain": [
              "2"
            ]
          },
          "metadata": {},
          "execution_count": 11
        }
      ]
    },
    {
      "cell_type": "markdown",
      "source": [
        "# slicing"
      ],
      "metadata": {
        "id": "MGAbDN-diYPx"
      }
    },
    {
      "cell_type": "markdown",
      "source": [
        "## 1차원 배열 slicing"
      ],
      "metadata": {
        "id": "q9JR0LYVidOJ"
      }
    },
    {
      "cell_type": "code",
      "source": [
        "np.random.seed(1)\n",
        "arr = np.random.randint(100, size=10)  # [0, 100) 범위의 정수 난수 10개를 갖는 1차원 배열\n",
        "print(arr)"
      ],
      "metadata": {
        "colab": {
          "base_uri": "https://localhost:8080/"
        },
        "id": "2tKZE1CViMwp",
        "outputId": "9ea74dca-ac3f-4fa2-f644-b9d33e9412e8"
      },
      "execution_count": null,
      "outputs": [
        {
          "output_type": "stream",
          "name": "stdout",
          "text": [
            "[37 12 72  9 75  5 79 64 16  1]\n"
          ]
        }
      ]
    },
    {
      "cell_type": "code",
      "source": [
        "arr[2:6]"
      ],
      "metadata": {
        "colab": {
          "base_uri": "https://localhost:8080/"
        },
        "id": "01D0YvkXi-95",
        "outputId": "79ddcc01-1ab5-4b8c-da36-d77545a98bd8"
      },
      "execution_count": null,
      "outputs": [
        {
          "output_type": "execute_result",
          "data": {
            "text/plain": [
              "array([72,  9, 75,  5])"
            ]
          },
          "metadata": {},
          "execution_count": 13
        }
      ]
    },
    {
      "cell_type": "code",
      "source": [
        "arr[:3]  # arr[0:3]과 동일"
      ],
      "metadata": {
        "colab": {
          "base_uri": "https://localhost:8080/"
        },
        "id": "lNL576cXjNB5",
        "outputId": "e68a7f9d-62d4-485d-f88e-b6298fd980e3"
      },
      "execution_count": null,
      "outputs": [
        {
          "output_type": "execute_result",
          "data": {
            "text/plain": [
              "array([37, 12, 72])"
            ]
          },
          "metadata": {},
          "execution_count": 14
        }
      ]
    },
    {
      "cell_type": "code",
      "source": [
        "arr[-3:]"
      ],
      "metadata": {
        "colab": {
          "base_uri": "https://localhost:8080/"
        },
        "id": "T6tNd4zzjUeR",
        "outputId": "ec7d1679-488c-4038-fe13-489ac0d54219"
      },
      "execution_count": null,
      "outputs": [
        {
          "output_type": "execute_result",
          "data": {
            "text/plain": [
              "array([64, 16,  1])"
            ]
          },
          "metadata": {},
          "execution_count": 15
        }
      ]
    },
    {
      "cell_type": "code",
      "source": [
        "arr[7:]  # arr[7:10]과 동일."
      ],
      "metadata": {
        "colab": {
          "base_uri": "https://localhost:8080/"
        },
        "id": "dXg0bBpyjiii",
        "outputId": "af987fb8-698b-49fb-8be2-b8137ae37e1b"
      },
      "execution_count": null,
      "outputs": [
        {
          "output_type": "execute_result",
          "data": {
            "text/plain": [
              "array([64, 16,  1])"
            ]
          },
          "metadata": {},
          "execution_count": 16
        }
      ]
    },
    {
      "cell_type": "markdown",
      "source": [
        "## 2차원 배열 slicing"
      ],
      "metadata": {
        "id": "ljdil45kkCds"
      }
    },
    {
      "cell_type": "code",
      "source": [
        "np.random.seed(10)\n",
        "arr = np.random.randint(100, size=(4, 5))\n",
        "print(arr)"
      ],
      "metadata": {
        "colab": {
          "base_uri": "https://localhost:8080/"
        },
        "id": "4oBrwlIbkEoK",
        "outputId": "884b9120-f4b2-46b3-b83f-7b6332c674a1"
      },
      "execution_count": null,
      "outputs": [
        {
          "output_type": "stream",
          "name": "stdout",
          "text": [
            "[[ 9 15 64 28 89]\n",
            " [93 29  8 73  0]\n",
            " [40 36 16 11 54]\n",
            " [88 62 33 72 78]]\n"
          ]
        }
      ]
    },
    {
      "cell_type": "code",
      "source": [
        "# 첫 2개의 row를 선택. 컬럼의 모든 원소 선택.\n",
        "arr[:2, :]"
      ],
      "metadata": {
        "colab": {
          "base_uri": "https://localhost:8080/"
        },
        "id": "JUWBzXMoki8R",
        "outputId": "4fe22bee-4844-4708-ea12-5c16453f164c"
      },
      "execution_count": null,
      "outputs": [
        {
          "output_type": "execute_result",
          "data": {
            "text/plain": [
              "array([[ 9, 15, 64, 28, 89],\n",
              "       [93, 29,  8, 73,  0]])"
            ]
          },
          "metadata": {},
          "execution_count": 18
        }
      ]
    },
    {
      "cell_type": "code",
      "source": [
        "arr[:2]"
      ],
      "metadata": {
        "colab": {
          "base_uri": "https://localhost:8080/"
        },
        "id": "l52Gav6_lLH6",
        "outputId": "0dbbcf9f-616b-4295-80b0-8b895f2e6ab9"
      },
      "execution_count": null,
      "outputs": [
        {
          "output_type": "execute_result",
          "data": {
            "text/plain": [
              "array([[ 9, 15, 64, 28, 89],\n",
              "       [93, 29,  8, 73,  0]])"
            ]
          },
          "metadata": {},
          "execution_count": 19
        }
      ]
    },
    {
      "cell_type": "code",
      "source": [
        "# 첫 2개의 row에서 첫 3개의 column 원소들\n",
        "arr[:2, :3]"
      ],
      "metadata": {
        "colab": {
          "base_uri": "https://localhost:8080/"
        },
        "id": "jCd2AvjKlqPK",
        "outputId": "49605751-4c42-4709-a925-07c24cb744cf"
      },
      "execution_count": null,
      "outputs": [
        {
          "output_type": "execute_result",
          "data": {
            "text/plain": [
              "array([[ 9, 15, 64],\n",
              "       [93, 29,  8]])"
            ]
          },
          "metadata": {},
          "execution_count": 20
        }
      ]
    },
    {
      "cell_type": "code",
      "source": [
        "arr[2:, 3:]"
      ],
      "metadata": {
        "colab": {
          "base_uri": "https://localhost:8080/"
        },
        "id": "NNVzSU27mHg6",
        "outputId": "9f1f1ff3-69ce-45dc-a6ab-b180aa08ae3d"
      },
      "execution_count": null,
      "outputs": [
        {
          "output_type": "execute_result",
          "data": {
            "text/plain": [
              "array([[11, 54],\n",
              "       [72, 78]])"
            ]
          },
          "metadata": {},
          "execution_count": 21
        }
      ]
    },
    {
      "cell_type": "markdown",
      "source": [
        "# Shape 변경"
      ],
      "metadata": {
        "id": "iNXV5hgymTAN"
      }
    },
    {
      "cell_type": "markdown",
      "source": [
        "## `np.ndarray.reshape(shape)`\n",
        "\n",
        "배열의 모양을 변경한 새로운 배열을 리턴."
      ],
      "metadata": {
        "id": "w4KHQLbvqA5k"
      }
    },
    {
      "cell_type": "code",
      "source": [
        "arr_1d = np.arange(12)\n",
        "print(arr_1d)"
      ],
      "metadata": {
        "colab": {
          "base_uri": "https://localhost:8080/"
        },
        "id": "GRBCMTyamJW5",
        "outputId": "cd66c4a9-1797-48a0-e2b8-ee74cdb38056"
      },
      "execution_count": null,
      "outputs": [
        {
          "output_type": "stream",
          "name": "stdout",
          "text": [
            "[ 0  1  2  3  4  5  6  7  8  9 10 11]\n"
          ]
        }
      ]
    },
    {
      "cell_type": "code",
      "source": [
        "arr_2d = arr_1d.reshape((3, 4))\n",
        "print(arr_2d)"
      ],
      "metadata": {
        "colab": {
          "base_uri": "https://localhost:8080/"
        },
        "id": "T-k9gEBmqRFs",
        "outputId": "5551b1ad-80e8-4db3-dae7-6de4266faf95"
      },
      "execution_count": null,
      "outputs": [
        {
          "output_type": "stream",
          "name": "stdout",
          "text": [
            "[[ 0  1  2  3]\n",
            " [ 4  5  6  7]\n",
            " [ 8  9 10 11]]\n"
          ]
        }
      ]
    },
    {
      "cell_type": "code",
      "source": [
        "print(arr_1d)"
      ],
      "metadata": {
        "colab": {
          "base_uri": "https://localhost:8080/"
        },
        "id": "FkEJg91pqtFE",
        "outputId": "5465eb7f-bdf2-4a5a-8d98-897cc843eb83"
      },
      "execution_count": null,
      "outputs": [
        {
          "output_type": "stream",
          "name": "stdout",
          "text": [
            "[ 0  1  2  3  4  5  6  7  8  9 10 11]\n"
          ]
        }
      ]
    },
    {
      "cell_type": "code",
      "source": [
        "# reshape을 할 때 자동으로 계산될 수 있는 차원의 값은 -1로 설정할 수 있음.\n",
        "arr_2d = arr_1d.reshape((2, -1))  # (2, 6)\n",
        "print(arr_2d)"
      ],
      "metadata": {
        "colab": {
          "base_uri": "https://localhost:8080/"
        },
        "id": "h4vage-rqzFs",
        "outputId": "b7448ddc-461c-4982-9d6c-7b1429a21601"
      },
      "execution_count": null,
      "outputs": [
        {
          "output_type": "stream",
          "name": "stdout",
          "text": [
            "[[ 0  1  2  3  4  5]\n",
            " [ 6  7  8  9 10 11]]\n"
          ]
        }
      ]
    },
    {
      "cell_type": "code",
      "source": [
        "arr_2d = arr_1d.reshape((-1, 3))  # (4, 3)\n",
        "print(arr_2d)"
      ],
      "metadata": {
        "colab": {
          "base_uri": "https://localhost:8080/"
        },
        "id": "2Bd7mAhWrT8c",
        "outputId": "33c77c51-2d1b-4a51-c954-ce77e2726da0"
      },
      "execution_count": null,
      "outputs": [
        {
          "output_type": "stream",
          "name": "stdout",
          "text": [
            "[[ 0  1  2]\n",
            " [ 3  4  5]\n",
            " [ 6  7  8]\n",
            " [ 9 10 11]]\n"
          ]
        }
      ]
    },
    {
      "cell_type": "markdown",
      "source": [
        "## `np.ndarray.ravel()`\n",
        "\n",
        "1차원으로 변환된 배열의 **view**를 리턴. 새로운 배열이 리턴되는 것이 아님. 단지 모양만 다르게 보여줌."
      ],
      "metadata": {
        "id": "_EKGKE4_rvvE"
      }
    },
    {
      "cell_type": "code",
      "source": [
        "print(arr_2d)  # (4, 3) shape의 2차원 배열"
      ],
      "metadata": {
        "colab": {
          "base_uri": "https://localhost:8080/"
        },
        "id": "RiV6usFNrjd8",
        "outputId": "8a7bface-1bff-472a-a343-4f1eaaef80a1"
      },
      "execution_count": null,
      "outputs": [
        {
          "output_type": "stream",
          "name": "stdout",
          "text": [
            "[[ 0  1  2]\n",
            " [ 3  4  5]\n",
            " [ 6  7  8]\n",
            " [ 9 10 11]]\n"
          ]
        }
      ]
    },
    {
      "cell_type": "code",
      "source": [
        "raveled = arr_2d.ravel()\n",
        "print(raveled)"
      ],
      "metadata": {
        "colab": {
          "base_uri": "https://localhost:8080/"
        },
        "id": "lVTNaXDrsQfN",
        "outputId": "a63d6e1a-2397-4796-b80d-1477566dcf8d"
      },
      "execution_count": null,
      "outputs": [
        {
          "output_type": "stream",
          "name": "stdout",
          "text": [
            "[ 0  1  2  3  4  5  6  7  8  9 10 11]\n"
          ]
        }
      ]
    },
    {
      "cell_type": "code",
      "source": [
        "raveled[0] = 100  # 모양이 변경된 1차원 배열의 원소 값을 변경\n",
        "print(raveled)"
      ],
      "metadata": {
        "colab": {
          "base_uri": "https://localhost:8080/"
        },
        "id": "jEOmLtuBscx0",
        "outputId": "ec486b8e-ac2c-4b15-c816-11cd2c7f6127"
      },
      "execution_count": null,
      "outputs": [
        {
          "output_type": "stream",
          "name": "stdout",
          "text": [
            "[100   1   2   3   4   5   6   7   8   9  10  11]\n"
          ]
        }
      ]
    },
    {
      "cell_type": "code",
      "source": [
        "print(arr_2d)  # ravel() 결과 배열에서 값을 변경하면 원본 2차원 배열의 원소도 변경"
      ],
      "metadata": {
        "colab": {
          "base_uri": "https://localhost:8080/"
        },
        "id": "MUNnccMTs4VN",
        "outputId": "1514c31c-e913-4451-9211-6c455bcc2aaa"
      },
      "execution_count": null,
      "outputs": [
        {
          "output_type": "stream",
          "name": "stdout",
          "text": [
            "[[100   1   2]\n",
            " [  3   4   5]\n",
            " [  6   7   8]\n",
            " [  9  10  11]]\n"
          ]
        }
      ]
    },
    {
      "cell_type": "markdown",
      "source": [
        "## `np.ndarray.flatten()`\n",
        "\n",
        "1차원으로 변환된 배열의 **복사본**을 리턴. 원본 배열과는 별개의 *새로운 배열*을 리턴."
      ],
      "metadata": {
        "id": "vIQImabutXTV"
      }
    },
    {
      "cell_type": "code",
      "source": [
        "print(arr_2d)"
      ],
      "metadata": {
        "colab": {
          "base_uri": "https://localhost:8080/"
        },
        "id": "MUE_7A9as5dd",
        "outputId": "2c02e08e-79c1-474e-fdff-766f73482e79"
      },
      "execution_count": null,
      "outputs": [
        {
          "output_type": "stream",
          "name": "stdout",
          "text": [
            "[[100   1   2]\n",
            " [  3   4   5]\n",
            " [  6   7   8]\n",
            " [  9  10  11]]\n"
          ]
        }
      ]
    },
    {
      "cell_type": "code",
      "source": [
        "flattened = arr_2d.flatten()\n",
        "print(flattened)"
      ],
      "metadata": {
        "colab": {
          "base_uri": "https://localhost:8080/"
        },
        "id": "jj_JR-REt0o9",
        "outputId": "330ebf17-2c94-461f-a864-93187b9d7ffc"
      },
      "execution_count": null,
      "outputs": [
        {
          "output_type": "stream",
          "name": "stdout",
          "text": [
            "[100   1   2   3   4   5   6   7   8   9  10  11]\n"
          ]
        }
      ]
    },
    {
      "cell_type": "code",
      "source": [
        "flattened[0] = 0\n",
        "print(flattened)"
      ],
      "metadata": {
        "colab": {
          "base_uri": "https://localhost:8080/"
        },
        "id": "No15NAktt-Zl",
        "outputId": "1c7d2168-88e7-48a0-da56-5ad89c353609"
      },
      "execution_count": null,
      "outputs": [
        {
          "output_type": "stream",
          "name": "stdout",
          "text": [
            "[ 0  1  2  3  4  5  6  7  8  9 10 11]\n"
          ]
        }
      ]
    },
    {
      "cell_type": "code",
      "source": [
        "print(arr_2d)  # flatten() 결과에서 값을 변경한 것은 원본 2차원 배열에 아무 영향을 주지 않음."
      ],
      "metadata": {
        "colab": {
          "base_uri": "https://localhost:8080/"
        },
        "id": "v0uDwvf_uKO9",
        "outputId": "0bfcd020-5ea7-41cc-90d2-42443adc2de1"
      },
      "execution_count": null,
      "outputs": [
        {
          "output_type": "stream",
          "name": "stdout",
          "text": [
            "[[100   1   2]\n",
            " [  3   4   5]\n",
            " [  6   7   8]\n",
            " [  9  10  11]]\n"
          ]
        }
      ]
    },
    {
      "cell_type": "markdown",
      "source": [
        "## `np.newaxis` 속성을 사용한 차원 늘리기"
      ],
      "metadata": {
        "id": "TOGDdwxevCH1"
      }
    },
    {
      "cell_type": "code",
      "source": [
        "arr = np.arange(5)  # [0, 5) 범위의 정수 5개를 갖는 (5,) shape의 1차원 배열\n",
        "print(arr)\n",
        "print(arr.shape)\n",
        "print(arr.ndim)"
      ],
      "metadata": {
        "colab": {
          "base_uri": "https://localhost:8080/"
        },
        "id": "8T3hK3JAuLnN",
        "outputId": "34f31761-e30a-418d-e9c9-44d4e3f3336b"
      },
      "execution_count": null,
      "outputs": [
        {
          "output_type": "stream",
          "name": "stdout",
          "text": [
            "[0 1 2 3 4]\n",
            "(5,)\n",
            "1\n"
          ]
        }
      ]
    },
    {
      "cell_type": "code",
      "source": [
        "# 배열 arr을 (1, 5) shape의 2차원 배열로 변환\n",
        "arr_2d = arr.reshape((1, -1))  # (1, 5)\n",
        "print(arr_2d)"
      ],
      "metadata": {
        "colab": {
          "base_uri": "https://localhost:8080/"
        },
        "id": "JZtE7iklvbQm",
        "outputId": "b04329b6-1e8b-4c7a-ca30-ecb1a983bc6f"
      },
      "execution_count": null,
      "outputs": [
        {
          "output_type": "stream",
          "name": "stdout",
          "text": [
            "[[0 1 2 3 4]]\n"
          ]
        }
      ]
    },
    {
      "cell_type": "code",
      "source": [
        "result = arr[np.newaxis, :]\n",
        "print(result)"
      ],
      "metadata": {
        "colab": {
          "base_uri": "https://localhost:8080/"
        },
        "id": "IoBluvZ2v6IW",
        "outputId": "41b9aa47-a255-485c-cce9-05b26f74231a"
      },
      "execution_count": null,
      "outputs": [
        {
          "output_type": "stream",
          "name": "stdout",
          "text": [
            "[[0 1 2 3 4]]\n"
          ]
        }
      ]
    },
    {
      "cell_type": "code",
      "source": [
        "# 배열 arr을 (5, 1) shape의 2차원 배열로 변환\n",
        "arr_2d = arr.reshape((-1, 1))  # (5, 1), (5, -1)\n",
        "print(arr_2d)"
      ],
      "metadata": {
        "colab": {
          "base_uri": "https://localhost:8080/"
        },
        "id": "MuOWGZDNwBut",
        "outputId": "cb1a41db-3a07-41b0-96b4-30564461c4f2"
      },
      "execution_count": null,
      "outputs": [
        {
          "output_type": "stream",
          "name": "stdout",
          "text": [
            "[[0]\n",
            " [1]\n",
            " [2]\n",
            " [3]\n",
            " [4]]\n"
          ]
        }
      ]
    },
    {
      "cell_type": "code",
      "source": [
        "result = arr[:, np.newaxis]\n",
        "print(result)"
      ],
      "metadata": {
        "colab": {
          "base_uri": "https://localhost:8080/"
        },
        "id": "kZD5WLa9w4gm",
        "outputId": "811a65a2-a34d-4b0f-c20c-a1cce7618821"
      },
      "execution_count": null,
      "outputs": [
        {
          "output_type": "stream",
          "name": "stdout",
          "text": [
            "[[0]\n",
            " [1]\n",
            " [2]\n",
            " [3]\n",
            " [4]]\n"
          ]
        }
      ]
    },
    {
      "cell_type": "markdown",
      "source": [
        "# 배열 합치기(concatenate)"
      ],
      "metadata": {
        "id": "iDJNpVZmxV5u"
      }
    },
    {
      "cell_type": "markdown",
      "source": [
        "## `np.concatenate([array1, array2, ...], axis=0)`\n",
        "\n",
        "특정 축(axis) 방향으로 이어 붙이기."
      ],
      "metadata": {
        "id": "-8JziYHcxbwe"
      }
    },
    {
      "cell_type": "code",
      "source": [
        "arr1 = np.arange(6).reshape((2, 3))\n",
        "print(arr1)"
      ],
      "metadata": {
        "colab": {
          "base_uri": "https://localhost:8080/"
        },
        "id": "ntK-qqBjxHb2",
        "outputId": "df75b998-3621-4da5-ce89-d53a0b30418f"
      },
      "execution_count": null,
      "outputs": [
        {
          "output_type": "stream",
          "name": "stdout",
          "text": [
            "[[0 1 2]\n",
            " [3 4 5]]\n"
          ]
        }
      ]
    },
    {
      "cell_type": "code",
      "source": [
        "arr2 = np.array([[10, 20, 30]])  # (1, 3)\n",
        "print(arr2)"
      ],
      "metadata": {
        "colab": {
          "base_uri": "https://localhost:8080/"
        },
        "id": "6jF9Up0Ax4s2",
        "outputId": "f607df86-371f-414f-f676-f7a1d0837b7f"
      },
      "execution_count": null,
      "outputs": [
        {
          "output_type": "stream",
          "name": "stdout",
          "text": [
            "[[10 20 30]]\n"
          ]
        }
      ]
    },
    {
      "cell_type": "code",
      "source": [
        "result = np.concatenate([arr1, arr2])  # axis 기본값 0.\n",
        "print(result)"
      ],
      "metadata": {
        "colab": {
          "base_uri": "https://localhost:8080/"
        },
        "id": "p3Q0pOXjyHa-",
        "outputId": "1ff0c49a-7fa1-43cb-f679-32fddfc4e14c"
      },
      "execution_count": null,
      "outputs": [
        {
          "output_type": "stream",
          "name": "stdout",
          "text": [
            "[[ 0  1  2]\n",
            " [ 3  4  5]\n",
            " [10 20 30]]\n"
          ]
        }
      ]
    },
    {
      "cell_type": "code",
      "source": [
        "arr3 = np.array([[100], [200]])  # (1, 2) shape의 2차원 배열\n",
        "print(arr3)"
      ],
      "metadata": {
        "colab": {
          "base_uri": "https://localhost:8080/"
        },
        "id": "-qoeKffNyhwm",
        "outputId": "891fad70-eec4-40f4-a772-b327af930bd7"
      },
      "execution_count": null,
      "outputs": [
        {
          "output_type": "stream",
          "name": "stdout",
          "text": [
            "[[100]\n",
            " [200]]\n"
          ]
        }
      ]
    },
    {
      "cell_type": "code",
      "source": [
        "result = np.concatenate([arr1, arr3], axis=1)\n",
        "print(result)"
      ],
      "metadata": {
        "colab": {
          "base_uri": "https://localhost:8080/"
        },
        "id": "pWlo0TkBysC3",
        "outputId": "1fcedccb-9596-4cf9-b03a-cfb003b92f7b"
      },
      "execution_count": null,
      "outputs": [
        {
          "output_type": "stream",
          "name": "stdout",
          "text": [
            "[[  0   1   2 100]\n",
            " [  3   4   5 200]]\n"
          ]
        }
      ]
    },
    {
      "cell_type": "markdown",
      "source": [
        "## `np.r_[array1, array2]`, `np.c_[array1, array2]`\n",
        "\n",
        "*  `np.r_`: 행(row) 이어붙이기. concatenate(axis=0)\n",
        "*  `np.c_`: 열(column) 이어붙이기. concatenate(axis=1)\n"
      ],
      "metadata": {
        "id": "iwbLSiLPzI3n"
      }
    },
    {
      "cell_type": "code",
      "source": [
        "np.r_[arr1, arr2]"
      ],
      "metadata": {
        "colab": {
          "base_uri": "https://localhost:8080/"
        },
        "id": "W1gCYQSizmz_",
        "outputId": "036939c7-99ea-4c32-9117-959a316332b8"
      },
      "execution_count": null,
      "outputs": [
        {
          "output_type": "execute_result",
          "data": {
            "text/plain": [
              "array([[ 0,  1,  2],\n",
              "       [ 3,  4,  5],\n",
              "       [10, 20, 30]])"
            ]
          },
          "metadata": {},
          "execution_count": 45
        }
      ]
    },
    {
      "cell_type": "code",
      "source": [
        "np.c_[arr1, arr3]"
      ],
      "metadata": {
        "colab": {
          "base_uri": "https://localhost:8080/"
        },
        "id": "17MdWKopzttO",
        "outputId": "05692b82-6013-4ec0-f29a-ed00d8a4d26d"
      },
      "execution_count": null,
      "outputs": [
        {
          "output_type": "execute_result",
          "data": {
            "text/plain": [
              "array([[  0,   1,   2, 100],\n",
              "       [  3,   4,   5, 200]])"
            ]
          },
          "metadata": {},
          "execution_count": 46
        }
      ]
    },
    {
      "cell_type": "markdown",
      "source": [
        "# Broadcasting(브로드캐스팅)\n",
        "\n",
        "*  `np.ndaray`의 산술 연산(+, -, *, /, ...)은 같은 위치(인덱스)에 있는 원소들끼리(element-wise) 연산을 수행함.\n",
        "    *  같은 모양의 배열들끼리 산술 연산이 가능.\n",
        "*  broadcast: 서로 다른 모양의 배열들끼리 산술 연산이 가능한 경우."
      ],
      "metadata": {
        "id": "USASf3A52_tA"
      }
    },
    {
      "cell_type": "markdown",
      "source": [
        "## ndarray와 scalar의 연산"
      ],
      "metadata": {
        "id": "DTzlVnIf4Cp5"
      }
    },
    {
      "cell_type": "code",
      "source": [
        "arr1 = np.arange(1, 4)\n",
        "print(arr1)"
      ],
      "metadata": {
        "colab": {
          "base_uri": "https://localhost:8080/"
        },
        "id": "94fa2KbRzxPW",
        "outputId": "ba5bde97-637d-4e98-ac1a-3a06fa42930d"
      },
      "execution_count": null,
      "outputs": [
        {
          "output_type": "stream",
          "name": "stdout",
          "text": [
            "[1 2 3]\n"
          ]
        }
      ]
    },
    {
      "cell_type": "code",
      "source": [
        "arr1 + 10"
      ],
      "metadata": {
        "colab": {
          "base_uri": "https://localhost:8080/"
        },
        "id": "gwvVe4uy4Vdo",
        "outputId": "5dfe0a68-fa4d-4c36-87f0-d8103c862ecb"
      },
      "execution_count": null,
      "outputs": [
        {
          "output_type": "execute_result",
          "data": {
            "text/plain": [
              "array([11, 12, 13])"
            ]
          },
          "metadata": {},
          "execution_count": 48
        }
      ]
    },
    {
      "cell_type": "code",
      "source": [
        "arr2 = np.array([\n",
        "    [1],\n",
        "    [2],\n",
        "    [3]\n",
        "])  # (3, 1) shape\n",
        "print(arr2)"
      ],
      "metadata": {
        "colab": {
          "base_uri": "https://localhost:8080/"
        },
        "id": "uyc8p7rz5bnL",
        "outputId": "135eaa70-6411-4d52-e5d4-a0bd6a835c10"
      },
      "execution_count": null,
      "outputs": [
        {
          "output_type": "stream",
          "name": "stdout",
          "text": [
            "[[1]\n",
            " [2]\n",
            " [3]]\n"
          ]
        }
      ]
    },
    {
      "cell_type": "code",
      "source": [
        "arr2 + 10"
      ],
      "metadata": {
        "colab": {
          "base_uri": "https://localhost:8080/"
        },
        "id": "dfte3Oop5lOh",
        "outputId": "73885a26-183a-4a3d-d6b1-e47e361aa5c4"
      },
      "execution_count": null,
      "outputs": [
        {
          "output_type": "execute_result",
          "data": {
            "text/plain": [
              "array([[11],\n",
              "       [12],\n",
              "       [13]])"
            ]
          },
          "metadata": {},
          "execution_count": 50
        }
      ]
    },
    {
      "cell_type": "markdown",
      "source": [
        "## 2차원 배열과 1차원 배열에서 broadcast"
      ],
      "metadata": {
        "id": "lDpYs4O26JtU"
      }
    },
    {
      "cell_type": "code",
      "source": [
        "arr1 = np.arange(6).reshape((2, -1))  # (2, 3) shape의 2차원 배열\n",
        "print(arr1)"
      ],
      "metadata": {
        "colab": {
          "base_uri": "https://localhost:8080/"
        },
        "id": "gSien31M5mnZ",
        "outputId": "3bad7869-72cf-43b2-c208-2ed80c68715f"
      },
      "execution_count": null,
      "outputs": [
        {
          "output_type": "stream",
          "name": "stdout",
          "text": [
            "[[0 1 2]\n",
            " [3 4 5]]\n"
          ]
        }
      ]
    },
    {
      "cell_type": "code",
      "source": [
        "arr2 = np.array([10, 20, 30])  # (3, ) shape의 1차원 배열\n",
        "print(arr2)"
      ],
      "metadata": {
        "colab": {
          "base_uri": "https://localhost:8080/"
        },
        "id": "Thh5YgvD6YGJ",
        "outputId": "53ec4e1c-1288-45d1-fc13-11c4bac4013a"
      },
      "execution_count": null,
      "outputs": [
        {
          "output_type": "stream",
          "name": "stdout",
          "text": [
            "[10 20 30]\n"
          ]
        }
      ]
    },
    {
      "cell_type": "code",
      "source": [
        "arr1 + arr2"
      ],
      "metadata": {
        "colab": {
          "base_uri": "https://localhost:8080/"
        },
        "id": "I1Di2ZDI6qZJ",
        "outputId": "3b72dc44-45c6-493f-f29a-0147083fbe39"
      },
      "execution_count": null,
      "outputs": [
        {
          "output_type": "execute_result",
          "data": {
            "text/plain": [
              "array([[10, 21, 32],\n",
              "       [13, 24, 35]])"
            ]
          },
          "metadata": {},
          "execution_count": 53
        }
      ]
    },
    {
      "cell_type": "code",
      "source": [
        "arr3 = np.array([10, 20])  # (2,) shape의 1차원 배열\n",
        "print(arr3)"
      ],
      "metadata": {
        "colab": {
          "base_uri": "https://localhost:8080/"
        },
        "id": "otM1UEjW7eZZ",
        "outputId": "41c8e140-95e8-42c2-b571-d373e6c2425b"
      },
      "execution_count": null,
      "outputs": [
        {
          "output_type": "stream",
          "name": "stdout",
          "text": [
            "[10 20]\n"
          ]
        }
      ]
    },
    {
      "cell_type": "code",
      "source": [
        "# arr1 + arr3\n",
        "#> (2, 3) shape과 (2,) shape의 배열은 broadcast할 수 없음."
      ],
      "metadata": {
        "id": "Ty1-V9Fw7nFy"
      },
      "execution_count": null,
      "outputs": []
    },
    {
      "cell_type": "code",
      "source": [
        "arr3 = arr3.reshape((-1, 1))  # (2, 1) shape\n",
        "print(arr3)"
      ],
      "metadata": {
        "colab": {
          "base_uri": "https://localhost:8080/"
        },
        "id": "YaOs1WH47ond",
        "outputId": "56e7fb3c-aff6-4909-e0be-ceb240c6171e"
      },
      "execution_count": null,
      "outputs": [
        {
          "output_type": "stream",
          "name": "stdout",
          "text": [
            "[[10]\n",
            " [20]]\n"
          ]
        }
      ]
    },
    {
      "cell_type": "code",
      "source": [
        "arr1 + arr3"
      ],
      "metadata": {
        "colab": {
          "base_uri": "https://localhost:8080/"
        },
        "id": "GEqNDp8m8oji",
        "outputId": "cee33e22-3e4c-4365-a14a-d98bee30962d"
      },
      "execution_count": null,
      "outputs": [
        {
          "output_type": "execute_result",
          "data": {
            "text/plain": [
              "array([[10, 11, 12],\n",
              "       [23, 24, 25]])"
            ]
          },
          "metadata": {},
          "execution_count": 57
        }
      ]
    },
    {
      "cell_type": "markdown",
      "source": [
        "## broadcast 연습"
      ],
      "metadata": {
        "id": "KmMMEHY99o_S"
      }
    },
    {
      "cell_type": "markdown",
      "source": [
        "표준화(standardization): 배열의 원소들을 평균이 0이 되고 표준편차가 1이 되도록 변수들의 스케일을 변환하는 것.\n",
        "\n",
        "$$\n",
        "X_{scaled} = \\frac{X- \\mu}{\\sigma}\n",
        "$$\n",
        "\n",
        "*  $ \\mu $: 평균\n",
        "*  $ \\sigma $: 표준편차\n"
      ],
      "metadata": {
        "id": "xtp01i7D9sBj"
      }
    },
    {
      "cell_type": "code",
      "source": [
        "x = np.arange(1, 6)\n",
        "print(x)"
      ],
      "metadata": {
        "colab": {
          "base_uri": "https://localhost:8080/"
        },
        "id": "DEFBzL_r-8gb",
        "outputId": "f5115a3e-9d01-4966-df06-0845f302bdd2"
      },
      "execution_count": null,
      "outputs": [
        {
          "output_type": "stream",
          "name": "stdout",
          "text": [
            "[1 2 3 4 5]\n"
          ]
        }
      ]
    },
    {
      "cell_type": "code",
      "source": [
        "mu = np.mean(x)  # 평균\n",
        "print(mu)"
      ],
      "metadata": {
        "colab": {
          "base_uri": "https://localhost:8080/"
        },
        "id": "NFOCrpwM_Cfr",
        "outputId": "7b28394c-8ec2-4ba9-a51c-2db5ca5e1fa2"
      },
      "execution_count": null,
      "outputs": [
        {
          "output_type": "stream",
          "name": "stdout",
          "text": [
            "3.0\n"
          ]
        }
      ]
    },
    {
      "cell_type": "code",
      "source": [
        "sigma = np.std(x)  # 표준편차\n",
        "print(sigma)"
      ],
      "metadata": {
        "colab": {
          "base_uri": "https://localhost:8080/"
        },
        "id": "lBWin4dP_KWr",
        "outputId": "52061f0b-edba-4d3c-f29e-98060a850486"
      },
      "execution_count": null,
      "outputs": [
        {
          "output_type": "stream",
          "name": "stdout",
          "text": [
            "1.4142135623730951\n"
          ]
        }
      ]
    },
    {
      "cell_type": "code",
      "source": [
        "x_scaled = (x - mu) / sigma\n",
        "print(x_scaled)"
      ],
      "metadata": {
        "colab": {
          "base_uri": "https://localhost:8080/"
        },
        "id": "69EsKm_o_Pv7",
        "outputId": "259aa1f9-e5f3-4dab-e409-e96b0db42ed8"
      },
      "execution_count": null,
      "outputs": [
        {
          "output_type": "stream",
          "name": "stdout",
          "text": [
            "[-1.41421356 -0.70710678  0.          0.70710678  1.41421356]\n"
          ]
        }
      ]
    },
    {
      "cell_type": "code",
      "source": [
        "print(np.mean(x_scaled))\n",
        "print(np.std(x_scaled))"
      ],
      "metadata": {
        "colab": {
          "base_uri": "https://localhost:8080/"
        },
        "id": "K3MIZwPE_lIT",
        "outputId": "ee5569fa-387a-4975-ad05-1fe0dbec5688"
      },
      "execution_count": null,
      "outputs": [
        {
          "output_type": "stream",
          "name": "stdout",
          "text": [
            "0.0\n",
            "0.9999999999999999\n"
          ]
        }
      ]
    },
    {
      "cell_type": "markdown",
      "source": [
        "정규화(normalization): min-max scaling. 배열의 원소들을 최솟값이 0이 되도록, 최댓값이 1이 되도록 변환을 하는 것.\n",
        "\n",
        "$$\n",
        "X_{normalized} = \\frac{(X - min(X))}{(max(X) - min(X))}\n",
        "$$\n"
      ],
      "metadata": {
        "id": "ZccARMphSXPB"
      }
    },
    {
      "cell_type": "code",
      "source": [
        "print(x)"
      ],
      "metadata": {
        "colab": {
          "base_uri": "https://localhost:8080/"
        },
        "id": "gw1LXqMM_1Vj",
        "outputId": "b6bfb80a-f35d-4f53-e17b-6690710b6aa9"
      },
      "execution_count": null,
      "outputs": [
        {
          "output_type": "stream",
          "name": "stdout",
          "text": [
            "[1 2 3 4 5]\n"
          ]
        }
      ]
    },
    {
      "cell_type": "code",
      "source": [
        "xmin = np.min(x)\n",
        "xmin"
      ],
      "metadata": {
        "colab": {
          "base_uri": "https://localhost:8080/"
        },
        "id": "zHTB8YN0TM0y",
        "outputId": "6c3d9679-4934-46e2-d8ef-bad6a1ce4566"
      },
      "execution_count": null,
      "outputs": [
        {
          "output_type": "execute_result",
          "data": {
            "text/plain": [
              "1"
            ]
          },
          "metadata": {},
          "execution_count": 64
        }
      ]
    },
    {
      "cell_type": "code",
      "source": [
        "xmax = np.max(x)\n",
        "xmax"
      ],
      "metadata": {
        "colab": {
          "base_uri": "https://localhost:8080/"
        },
        "id": "FHQ47C4jTU_R",
        "outputId": "fb15384e-3001-448b-80da-c9ae256d7852"
      },
      "execution_count": null,
      "outputs": [
        {
          "output_type": "execute_result",
          "data": {
            "text/plain": [
              "5"
            ]
          },
          "metadata": {},
          "execution_count": 65
        }
      ]
    },
    {
      "cell_type": "code",
      "source": [
        "x_normalized = (x - xmin) / (xmax - xmin)\n",
        "print(x_normalized)"
      ],
      "metadata": {
        "colab": {
          "base_uri": "https://localhost:8080/"
        },
        "id": "BP01ozr5TYoZ",
        "outputId": "6e7a0c51-3159-440a-cd2b-78bf6edd5f8f"
      },
      "execution_count": null,
      "outputs": [
        {
          "output_type": "stream",
          "name": "stdout",
          "text": [
            "[0.   0.25 0.5  0.75 1.  ]\n"
          ]
        }
      ]
    },
    {
      "cell_type": "markdown",
      "source": [
        "## 2차원 배열에서 표준화, 정규화"
      ],
      "metadata": {
        "id": "3ZqB5IKHVPwq"
      }
    },
    {
      "cell_type": "code",
      "source": [
        "X = np.arange(1, 7).reshape((3, -1))  # (3, 2) shape의 2차원 배열\n",
        "print(X)"
      ],
      "metadata": {
        "colab": {
          "base_uri": "https://localhost:8080/"
        },
        "id": "KZ0_d6XjULXi",
        "outputId": "c66ab036-1984-4126-fdaa-01d9bcc0ad69"
      },
      "execution_count": null,
      "outputs": [
        {
          "output_type": "stream",
          "name": "stdout",
          "text": [
            "[[1 2]\n",
            " [3 4]\n",
            " [5 6]]\n"
          ]
        }
      ]
    },
    {
      "cell_type": "markdown",
      "source": [
        "axis=0 축 방향으로 표준화"
      ],
      "metadata": {
        "id": "5HJhFw8IWO6a"
      }
    },
    {
      "cell_type": "code",
      "source": [
        "mu = np.mean(X, axis=0)\n",
        "mu"
      ],
      "metadata": {
        "colab": {
          "base_uri": "https://localhost:8080/"
        },
        "id": "rW8y59PdVr0q",
        "outputId": "f4bfae2c-d578-4b23-8d20-84c2901b4552"
      },
      "execution_count": null,
      "outputs": [
        {
          "output_type": "execute_result",
          "data": {
            "text/plain": [
              "array([3., 4.])"
            ]
          },
          "metadata": {},
          "execution_count": 68
        }
      ]
    },
    {
      "cell_type": "code",
      "source": [
        "sigma = np.std(X, axis=0)\n",
        "sigma"
      ],
      "metadata": {
        "colab": {
          "base_uri": "https://localhost:8080/"
        },
        "id": "9Fe0E2jzWkFT",
        "outputId": "2084f395-9c02-4ab1-8a12-cca1bd223404"
      },
      "execution_count": null,
      "outputs": [
        {
          "output_type": "execute_result",
          "data": {
            "text/plain": [
              "array([1.63299316, 1.63299316])"
            ]
          },
          "metadata": {},
          "execution_count": 69
        }
      ]
    },
    {
      "cell_type": "code",
      "source": [
        "X_scaled = (X - mu) / sigma\n",
        "print(X_scaled)"
      ],
      "metadata": {
        "colab": {
          "base_uri": "https://localhost:8080/"
        },
        "id": "8uqVwInEWyNj",
        "outputId": "5c1ad3ce-5dff-4dca-d2c0-eb7a4091e9af"
      },
      "execution_count": null,
      "outputs": [
        {
          "output_type": "stream",
          "name": "stdout",
          "text": [
            "[[-1.22474487 -1.22474487]\n",
            " [ 0.          0.        ]\n",
            " [ 1.22474487  1.22474487]]\n"
          ]
        }
      ]
    },
    {
      "cell_type": "code",
      "source": [
        "print(np.mean(X_scaled, axis=0))\n",
        "print(np.std(X_scaled, axis=0))"
      ],
      "metadata": {
        "colab": {
          "base_uri": "https://localhost:8080/"
        },
        "id": "QXenSPutW7yT",
        "outputId": "2f22a490-aa1b-41b2-baf0-7818eaa69a6b"
      },
      "execution_count": null,
      "outputs": [
        {
          "output_type": "stream",
          "name": "stdout",
          "text": [
            "[0. 0.]\n",
            "[1. 1.]\n"
          ]
        }
      ]
    },
    {
      "cell_type": "code",
      "source": [
        "xmax = np.max(X, axis=0)\n",
        "xmax"
      ],
      "metadata": {
        "colab": {
          "base_uri": "https://localhost:8080/"
        },
        "id": "cKANF32eYNJL",
        "outputId": "5080f6fb-4c94-4c8c-e9ba-605aa7160574"
      },
      "execution_count": null,
      "outputs": [
        {
          "output_type": "execute_result",
          "data": {
            "text/plain": [
              "array([5, 6])"
            ]
          },
          "metadata": {},
          "execution_count": 72
        }
      ]
    },
    {
      "cell_type": "code",
      "source": [
        "xmin = np.min(X, axis=0)\n",
        "xmin"
      ],
      "metadata": {
        "colab": {
          "base_uri": "https://localhost:8080/"
        },
        "id": "JeqDJlVqYTLz",
        "outputId": "1c0eca33-ae54-4963-b5f8-64f099b50e8a"
      },
      "execution_count": null,
      "outputs": [
        {
          "output_type": "execute_result",
          "data": {
            "text/plain": [
              "array([1, 2])"
            ]
          },
          "metadata": {},
          "execution_count": 73
        }
      ]
    },
    {
      "cell_type": "code",
      "source": [
        "X_normalized = (X - xmin) / (xmax - xmin)\n",
        "print(X_normalized)"
      ],
      "metadata": {
        "colab": {
          "base_uri": "https://localhost:8080/"
        },
        "id": "AI6DQBA5Yewc",
        "outputId": "0f094b5a-d638-4485-eb57-f8f9e4d8f30d"
      },
      "execution_count": null,
      "outputs": [
        {
          "output_type": "stream",
          "name": "stdout",
          "text": [
            "[[0.  0. ]\n",
            " [0.5 0.5]\n",
            " [1.  1. ]]\n"
          ]
        }
      ]
    }
  ]
}