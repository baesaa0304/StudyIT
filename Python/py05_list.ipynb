{
  "nbformat": 4,
  "nbformat_minor": 0,
  "metadata": {
    "colab": {
      "provenance": [],
      "include_colab_link": true
    },
    "kernelspec": {
      "name": "python3",
      "display_name": "Python 3"
    },
    "language_info": {
      "name": "python"
    }
  },
  "cells": [
    {
      "cell_type": "markdown",
      "metadata": {
        "id": "view-in-github",
        "colab_type": "text"
      },
      "source": [
        "<a href=\"https://colab.research.google.com/github/baesunyoung34/Python/blob/main/py05_list.ipynb\" target=\"_parent\"><img src=\"https://colab.research.google.com/assets/colab-badge.svg\" alt=\"Open In Colab\"/></a>"
      ]
    },
    {
      "cell_type": "markdown",
      "source": [
        "# list\n",
        "\n",
        "*  여러 개의 값들을 하나의 변수에 저장하기 위한 데이터 타입.\n",
        "*  element(원소, 요소): 리스트에 저장되는 각각의 값.\n",
        "*  index(인덱스): 리스트에서 원소가 저장된 위치\n",
        "    *  리스트의 인덱스는 **0**부터 시작.\n",
        "    *  리스트의 마지막 인덱스는 (원소 개수 - 1).\n",
        "*  리스트는 원소들을 추가, 삭제, 변경할 수 있음.\n",
        "    *  `tuple`과 다른 점!\n"
      ],
      "metadata": {
        "id": "6R8zViXrhu1B"
      }
    },
    {
      "cell_type": "code",
      "execution_count": 5,
      "metadata": {
        "colab": {
          "base_uri": "https://localhost:8080/"
        },
        "id": "bWKrr_uzhh0j",
        "outputId": "46edc8f4-3fff-4018-fa9d-96dedb23d4f8"
      },
      "outputs": [
        {
          "output_type": "execute_result",
          "data": {
            "text/plain": [
              "[1, 2, 3, 10, 20, 30]"
            ]
          },
          "metadata": {},
          "execution_count": 5
        }
      ],
      "source": [
        "# 숫자들을 저장하는 리스트\n",
        "numbers = [1, 2, 3, 10, 20, 30]\n",
        "numbers"
      ]
    },
    {
      "cell_type": "markdown",
      "source": [
        "# 인덱싱(indexing)\n",
        "\n",
        "인덱스를 사용해서 리스트의 원소를 참조하는 방법."
      ],
      "metadata": {
        "id": "twdoTUGgj9YA"
      }
    },
    {
      "cell_type": "code",
      "source": [
        "numbers[0]  # 리스트 numbers의 인덱스 0 위치의 원소"
      ],
      "metadata": {
        "colab": {
          "base_uri": "https://localhost:8080/"
        },
        "id": "fsHKiSC5jtIA",
        "outputId": "6a580224-804b-4e07-c4a8-a821d5ad1753"
      },
      "execution_count": 6,
      "outputs": [
        {
          "output_type": "execute_result",
          "data": {
            "text/plain": [
              "1"
            ]
          },
          "metadata": {},
          "execution_count": 6
        }
      ]
    },
    {
      "cell_type": "code",
      "source": [
        "numbers[5]  # 리스트 numbers의 인덱스 5 위치의 원소"
      ],
      "metadata": {
        "colab": {
          "base_uri": "https://localhost:8080/"
        },
        "id": "_jQQaPIYn532",
        "outputId": "02285061-8f54-47c4-9752-a1bdb8b22043"
      },
      "execution_count": 7,
      "outputs": [
        {
          "output_type": "execute_result",
          "data": {
            "text/plain": [
              "30"
            ]
          },
          "metadata": {},
          "execution_count": 7
        }
      ]
    },
    {
      "cell_type": "code",
      "source": [
        "numbers[-1]  # 리스트에서 가장 마지막 원소"
      ],
      "metadata": {
        "colab": {
          "base_uri": "https://localhost:8080/"
        },
        "id": "nWlBJtD2oGPx",
        "outputId": "d68d4242-340f-42cf-99a3-493862579ca0"
      },
      "execution_count": 8,
      "outputs": [
        {
          "output_type": "execute_result",
          "data": {
            "text/plain": [
              "30"
            ]
          },
          "metadata": {},
          "execution_count": 8
        }
      ]
    },
    {
      "cell_type": "code",
      "source": [
        "numbers[-6]"
      ],
      "metadata": {
        "colab": {
          "base_uri": "https://localhost:8080/"
        },
        "id": "Q5FnC5nNpzTB",
        "outputId": "5b4d0d9f-5ef4-4833-c261-bde1c5b1a0e8"
      },
      "execution_count": 9,
      "outputs": [
        {
          "output_type": "execute_result",
          "data": {
            "text/plain": [
              "1"
            ]
          },
          "metadata": {},
          "execution_count": 9
        }
      ]
    },
    {
      "cell_type": "markdown",
      "source": [
        "# slicing\n",
        "\n",
        "인덱스를 사용해서 리스트의 부분집합(리스트)를 잘라내는 방법.\n",
        "\n",
        "`list[start:end]`\n",
        "\n",
        "*  start <= index < end 범위의 인덱스 위치의 원소들을 잘라냄.\n",
        "*  start를 생략한 경우에는 첫번째 원소부터 잘라냄.\n",
        "    *  `list[0:5]`과 `list[:5]`는 같은 결과.\n",
        "*  end를 생략한 경우에는 마지막 원소까지 잘라냄.\n",
        "*  리스트를 slicing한 결과는 또다른 새로운 **리스트**.\n"
      ],
      "metadata": {
        "id": "wmTPyXkYqIJR"
      }
    },
    {
      "cell_type": "code",
      "source": [
        "numbers"
      ],
      "metadata": {
        "colab": {
          "base_uri": "https://localhost:8080/"
        },
        "id": "W4QF4nGErZ_B",
        "outputId": "335d3acc-c45c-456c-a7b8-183c223452f4"
      },
      "execution_count": 10,
      "outputs": [
        {
          "output_type": "execute_result",
          "data": {
            "text/plain": [
              "[1, 2, 3, 10, 20, 30]"
            ]
          },
          "metadata": {},
          "execution_count": 10
        }
      ]
    },
    {
      "cell_type": "code",
      "source": [
        "numbers[1:4]  # 1 <= index < 4"
      ],
      "metadata": {
        "colab": {
          "base_uri": "https://localhost:8080/"
        },
        "id": "EJwa7faurbb5",
        "outputId": "52097bd0-8713-47c0-fde8-49f584ac61a0"
      },
      "execution_count": 11,
      "outputs": [
        {
          "output_type": "execute_result",
          "data": {
            "text/plain": [
              "[2, 3, 10]"
            ]
          },
          "metadata": {},
          "execution_count": 11
        }
      ]
    },
    {
      "cell_type": "code",
      "source": [
        "numbers[3:6]"
      ],
      "metadata": {
        "colab": {
          "base_uri": "https://localhost:8080/"
        },
        "id": "YZSa2U5-rp0o",
        "outputId": "04abec70-75b8-453d-a5db-61df42eccb73"
      },
      "execution_count": 12,
      "outputs": [
        {
          "output_type": "execute_result",
          "data": {
            "text/plain": [
              "[10, 20, 30]"
            ]
          },
          "metadata": {},
          "execution_count": 12
        }
      ]
    },
    {
      "cell_type": "code",
      "source": [
        "numbers[3:]"
      ],
      "metadata": {
        "colab": {
          "base_uri": "https://localhost:8080/"
        },
        "id": "WmSfciv8sfnp",
        "outputId": "47edc2b8-7a36-4310-c4e8-ef440e024a16"
      },
      "execution_count": 13,
      "outputs": [
        {
          "output_type": "execute_result",
          "data": {
            "text/plain": [
              "[10, 20, 30]"
            ]
          },
          "metadata": {},
          "execution_count": 13
        }
      ]
    },
    {
      "cell_type": "code",
      "source": [
        "numbers[:3] # 리스트에서 앞에서 3개를 선택"
      ],
      "metadata": {
        "colab": {
          "base_uri": "https://localhost:8080/"
        },
        "id": "BvHilgV2sqD5",
        "outputId": "94463535-c889-4931-c51e-eaa6e45cca27"
      },
      "execution_count": 14,
      "outputs": [
        {
          "output_type": "execute_result",
          "data": {
            "text/plain": [
              "[1, 2, 3]"
            ]
          },
          "metadata": {},
          "execution_count": 14
        }
      ]
    },
    {
      "cell_type": "code",
      "source": [
        "numbers[-3:]  # 리스트에서 뒤에서 3개"
      ],
      "metadata": {
        "colab": {
          "base_uri": "https://localhost:8080/"
        },
        "id": "c9UpLxsktTP5",
        "outputId": "0c8f6eb9-88cd-4be5-f07b-1ab42e6a1f26"
      },
      "execution_count": 15,
      "outputs": [
        {
          "output_type": "execute_result",
          "data": {
            "text/plain": [
              "[10, 20, 30]"
            ]
          },
          "metadata": {},
          "execution_count": 15
        }
      ]
    },
    {
      "cell_type": "code",
      "source": [
        "numbers[0:1]  # slicing -> 리스트"
      ],
      "metadata": {
        "colab": {
          "base_uri": "https://localhost:8080/"
        },
        "id": "dzrk1CzpuD0B",
        "outputId": "0b1ed2e5-8ced-4d97-c7a6-d1d1438c80f0"
      },
      "execution_count": 16,
      "outputs": [
        {
          "output_type": "execute_result",
          "data": {
            "text/plain": [
              "[1]"
            ]
          },
          "metadata": {},
          "execution_count": 16
        }
      ]
    },
    {
      "cell_type": "code",
      "source": [
        "numbers[0]  # indexing -> 값(숫자)"
      ],
      "metadata": {
        "colab": {
          "base_uri": "https://localhost:8080/"
        },
        "id": "edZiqhA4uaDZ",
        "outputId": "646bde61-a83c-47b1-d538-d2db68e4c863"
      },
      "execution_count": 17,
      "outputs": [
        {
          "output_type": "execute_result",
          "data": {
            "text/plain": [
              "1"
            ]
          },
          "metadata": {},
          "execution_count": 17
        }
      ]
    },
    {
      "cell_type": "markdown",
      "source": [
        "# 문자열(str)\n",
        "\n",
        "*  문자들의 *리스트*.\n",
        "*  문자열은 인덱스를 사용할 수 있음.\n",
        "    *  indexing, slicing 가능.\n"
      ],
      "metadata": {
        "id": "9w4nEyH_u4sh"
      }
    },
    {
      "cell_type": "code",
      "source": [
        "message = '안녕하세요, 여러분!'  # 11개의 문자들로 이루어진 리스트."
      ],
      "metadata": {
        "id": "fM-_dVJfvaGh"
      },
      "execution_count": 18,
      "outputs": []
    },
    {
      "cell_type": "code",
      "source": [
        "message[0]  # 문자열에서 첫번째 문자"
      ],
      "metadata": {
        "colab": {
          "base_uri": "https://localhost:8080/",
          "height": 35
        },
        "id": "XUqA6mOcveJE",
        "outputId": "0d32e5f5-ae01-414f-9570-e1f94a48a413"
      },
      "execution_count": 19,
      "outputs": [
        {
          "output_type": "execute_result",
          "data": {
            "text/plain": [
              "'안'"
            ],
            "application/vnd.google.colaboratory.intrinsic+json": {
              "type": "string"
            }
          },
          "metadata": {},
          "execution_count": 19
        }
      ]
    },
    {
      "cell_type": "code",
      "source": [
        "message[-1]  # 문자열에서 마지막 문자"
      ],
      "metadata": {
        "colab": {
          "base_uri": "https://localhost:8080/",
          "height": 35
        },
        "id": "m61-l1WOvymR",
        "outputId": "13ed641c-10a0-432c-8c8c-94ed1088f0e0"
      },
      "execution_count": 20,
      "outputs": [
        {
          "output_type": "execute_result",
          "data": {
            "text/plain": [
              "'!'"
            ],
            "application/vnd.google.colaboratory.intrinsic+json": {
              "type": "string"
            }
          },
          "metadata": {},
          "execution_count": 20
        }
      ]
    },
    {
      "cell_type": "code",
      "source": [
        "message[:3]  # 문자열에서 앞에서 3글자"
      ],
      "metadata": {
        "colab": {
          "base_uri": "https://localhost:8080/",
          "height": 35
        },
        "id": "ZPrcIpipwLsp",
        "outputId": "09855dfa-90c5-43d2-a364-5cdb3aaee487"
      },
      "execution_count": 21,
      "outputs": [
        {
          "output_type": "execute_result",
          "data": {
            "text/plain": [
              "'안녕하'"
            ],
            "application/vnd.google.colaboratory.intrinsic+json": {
              "type": "string"
            }
          },
          "metadata": {},
          "execution_count": 21
        }
      ]
    },
    {
      "cell_type": "code",
      "source": [
        "message[-3:]  # 문자열에서 뒤에서 3글자"
      ],
      "metadata": {
        "colab": {
          "base_uri": "https://localhost:8080/",
          "height": 35
        },
        "id": "UyZSGs6hwRfi",
        "outputId": "4cd6e3fd-c87b-47e2-e864-e9275a2541ed"
      },
      "execution_count": 22,
      "outputs": [
        {
          "output_type": "execute_result",
          "data": {
            "text/plain": [
              "'러분!'"
            ],
            "application/vnd.google.colaboratory.intrinsic+json": {
              "type": "string"
            }
          },
          "metadata": {},
          "execution_count": 22
        }
      ]
    },
    {
      "cell_type": "code",
      "source": [
        "# 문자열 산술 연산: +, *\n",
        "print('hello' + 'python')\n",
        "print('hello' * 3)"
      ],
      "metadata": {
        "colab": {
          "base_uri": "https://localhost:8080/"
        },
        "id": "2uo-NpB1w4eJ",
        "outputId": "0aec4079-8b51-4992-d477-5939b4595cf4"
      },
      "execution_count": 23,
      "outputs": [
        {
          "output_type": "stream",
          "name": "stdout",
          "text": [
            "hellopython\n",
            "hellohellohello\n"
          ]
        }
      ]
    },
    {
      "cell_type": "markdown",
      "source": [
        "# 리스트의 산술 연산\n",
        "\n",
        "*  `list + list`\n",
        "*  `list * int` 또는 `int * list`\n"
      ],
      "metadata": {
        "id": "jhq2wXlzxJcM"
      }
    },
    {
      "cell_type": "code",
      "source": [
        "[1, 2, 3] + [4, 5, 6]  # concatenate"
      ],
      "metadata": {
        "colab": {
          "base_uri": "https://localhost:8080/"
        },
        "id": "SrLilu29xdp7",
        "outputId": "80fed853-d3a1-4613-a9fb-8e56211ca8c0"
      },
      "execution_count": 24,
      "outputs": [
        {
          "output_type": "execute_result",
          "data": {
            "text/plain": [
              "[1, 2, 3, 4, 5, 6]"
            ]
          },
          "metadata": {},
          "execution_count": 24
        }
      ]
    },
    {
      "cell_type": "code",
      "source": [
        "[1, 2, 3] * 3  # replicate"
      ],
      "metadata": {
        "colab": {
          "base_uri": "https://localhost:8080/"
        },
        "id": "ozrYWXPbxh2M",
        "outputId": "87b95845-c76f-4a32-cb35-4904adc052f2"
      },
      "execution_count": 25,
      "outputs": [
        {
          "output_type": "execute_result",
          "data": {
            "text/plain": [
              "[1, 2, 3, 1, 2, 3, 1, 2, 3]"
            ]
          },
          "metadata": {},
          "execution_count": 25
        }
      ]
    },
    {
      "cell_type": "markdown",
      "source": [
        "# list와 for 반복문"
      ],
      "metadata": {
        "id": "9b_MBrNE1_TC"
      }
    },
    {
      "cell_type": "code",
      "source": [
        "for x in 'hello':\n",
        "    print(x)"
      ],
      "metadata": {
        "colab": {
          "base_uri": "https://localhost:8080/"
        },
        "id": "Y91wNgfcxvMJ",
        "outputId": "16c159b7-9e85-40c1-c864-33968a5bf5ce"
      },
      "execution_count": 26,
      "outputs": [
        {
          "output_type": "stream",
          "name": "stdout",
          "text": [
            "h\n",
            "e\n",
            "l\n",
            "l\n",
            "o\n"
          ]
        }
      ]
    },
    {
      "cell_type": "code",
      "source": [
        "numbers = [1, 10, 5, 100]\n",
        "for x in numbers:\n",
        "    print(x)"
      ],
      "metadata": {
        "colab": {
          "base_uri": "https://localhost:8080/"
        },
        "id": "Kk0lXujf2U-y",
        "outputId": "5e50e209-a297-4769-dd39-54ca04267f77"
      },
      "execution_count": 27,
      "outputs": [
        {
          "output_type": "stream",
          "name": "stdout",
          "text": [
            "1\n",
            "10\n",
            "5\n",
            "100\n"
          ]
        }
      ]
    },
    {
      "cell_type": "code",
      "source": [
        "for i in range(len(numbers)):  # 0 <= x < len\n",
        "    print(i, ':', numbers[i])"
      ],
      "metadata": {
        "colab": {
          "base_uri": "https://localhost:8080/"
        },
        "id": "vYaPdMcE2r3a",
        "outputId": "fda5431e-25ba-46af-bc93-33fbb85c5a50"
      },
      "execution_count": 28,
      "outputs": [
        {
          "output_type": "stream",
          "name": "stdout",
          "text": [
            "0 : 1\n",
            "1 : 10\n",
            "2 : 5\n",
            "3 : 100\n"
          ]
        }
      ]
    },
    {
      "cell_type": "code",
      "source": [
        "for i, v in enumerate(numbers):\n",
        "    print(i, ':', v)"
      ],
      "metadata": {
        "colab": {
          "base_uri": "https://localhost:8080/"
        },
        "id": "g5EznqhY4Oxa",
        "outputId": "feeb2588-dde5-4ff5-8a87-46bf17c3ac1b"
      },
      "execution_count": 29,
      "outputs": [
        {
          "output_type": "stream",
          "name": "stdout",
          "text": [
            "0 : 1\n",
            "1 : 10\n",
            "2 : 5\n",
            "3 : 100\n"
          ]
        }
      ]
    },
    {
      "cell_type": "code",
      "source": [
        "numbers1 = [1, 2, 3]\n",
        "numbers2 = [10, 11, 12]\n",
        "# numbers1과 numbers2의 같은 인덱스의 원소들끼리의 합을 원소로 갖는 리스트\n",
        "# [11, 13, 15]"
      ],
      "metadata": {
        "id": "cdmpXtVS53ua"
      },
      "execution_count": 30,
      "outputs": []
    },
    {
      "cell_type": "code",
      "source": [
        "result = []  # 빈(empty) 리스트\n",
        "for i in range(len(numbers1)):  # 0 <= i < len\n",
        "    result.append(numbers1[i] + numbers2[i])\n",
        "\n",
        "result"
      ],
      "metadata": {
        "colab": {
          "base_uri": "https://localhost:8080/"
        },
        "id": "Qx_--_7y7pcy",
        "outputId": "3b5c05e5-d5b9-4968-bb54-6d02c6f63534"
      },
      "execution_count": 31,
      "outputs": [
        {
          "output_type": "execute_result",
          "data": {
            "text/plain": [
              "[11, 13, 15]"
            ]
          },
          "metadata": {},
          "execution_count": 31
        }
      ]
    },
    {
      "cell_type": "code",
      "source": [
        "result = []\n",
        "for x, y in zip(numbers1, numbers2):\n",
        "    result.append(x + y)\n",
        "\n",
        "result"
      ],
      "metadata": {
        "colab": {
          "base_uri": "https://localhost:8080/"
        },
        "id": "TMasFIM-8LVz",
        "outputId": "da7dbd5e-9226-4ac7-8839-2bcd3704f079"
      },
      "execution_count": 32,
      "outputs": [
        {
          "output_type": "execute_result",
          "data": {
            "text/plain": [
              "[11, 13, 15]"
            ]
          },
          "metadata": {},
          "execution_count": 32
        }
      ]
    },
    {
      "cell_type": "markdown",
      "source": [
        "파이썬에 난수를 만드는 방법:"
      ],
      "metadata": {
        "id": "TDIdqXoP-A2z"
      }
    },
    {
      "cell_type": "code",
      "source": [
        "import random  # random 모듈을 임포트"
      ],
      "metadata": {
        "id": "nhFTiVs68qfK"
      },
      "execution_count": 3,
      "outputs": []
    },
    {
      "cell_type": "code",
      "source": [
        "# random 모듈의 random() 함수를 호출\n",
        "random.random()  # [0, 1) 범위(0 <= x < 1)의 실수 난수를 리턴."
      ],
      "metadata": {
        "colab": {
          "base_uri": "https://localhost:8080/"
        },
        "id": "FIOf51M_-IET",
        "outputId": "90ff0557-770e-4e67-ca4a-98b3b75edb8d"
      },
      "execution_count": 33,
      "outputs": [
        {
          "output_type": "execute_result",
          "data": {
            "text/plain": [
              "0.1378381592540271"
            ]
          },
          "metadata": {},
          "execution_count": 33
        }
      ]
    },
    {
      "cell_type": "code",
      "source": [
        "# random 모듈의 randrange() 함수를 호출\n",
        "random.randrange(3)  # [0, 3) 범위의 정수 난수를 리턴."
      ],
      "metadata": {
        "colab": {
          "base_uri": "https://localhost:8080/"
        },
        "id": "XTkrlnQw-2_t",
        "outputId": "706a36b6-1c6d-4688-b49a-20185905c6e9"
      },
      "execution_count": 34,
      "outputs": [
        {
          "output_type": "execute_result",
          "data": {
            "text/plain": [
              "2"
            ]
          },
          "metadata": {},
          "execution_count": 34
        }
      ]
    },
    {
      "cell_type": "code",
      "source": [
        "random.randrange(1, 4)  #[1, 4) 범위의 정수 난수를 리턴."
      ],
      "metadata": {
        "colab": {
          "base_uri": "https://localhost:8080/"
        },
        "id": "n8pg6S9G_dJD",
        "outputId": "8a45e1db-18f2-4f00-f688-0e118abfc9c7"
      },
      "execution_count": 35,
      "outputs": [
        {
          "output_type": "execute_result",
          "data": {
            "text/plain": [
              "1"
            ]
          },
          "metadata": {},
          "execution_count": 35
        }
      ]
    },
    {
      "cell_type": "markdown",
      "source": [
        "# Exercises"
      ],
      "metadata": {
        "id": "AuiZGPN2AMUC"
      }
    },
    {
      "cell_type": "markdown",
      "source": [
        "## Ex 1.\n",
        "\n",
        "1. 빈 리스트를 생성.\n",
        "1. 1 이상 10 이하의 정수 난수 5개를 저장.\n",
        "1. 리스트의 모든 정수들의 합을 출력.\n",
        "1. 리스트의 모든 정수들의 평균을 출력."
      ],
      "metadata": {
        "id": "cUxs2B7tAQ7j"
      }
    },
    {
      "cell_type": "code",
      "source": [
        "numbers = []\n",
        "for _ in range(5):\n",
        "    numbers.append(random.randrange(1, 11))\n",
        "\n",
        "print(numbers)"
      ],
      "metadata": {
        "colab": {
          "base_uri": "https://localhost:8080/"
        },
        "id": "_0Mx8VxvgJy1",
        "outputId": "3d148a8b-132d-4c45-a135-de97e3247938"
      },
      "execution_count": 36,
      "outputs": [
        {
          "output_type": "stream",
          "name": "stdout",
          "text": [
            "[3, 2, 4, 1, 10]\n"
          ]
        }
      ]
    },
    {
      "cell_type": "code",
      "source": [
        "sum(numbers)"
      ],
      "metadata": {
        "colab": {
          "base_uri": "https://localhost:8080/"
        },
        "id": "XQzGCCAKhnTd",
        "outputId": "2a713dce-6c16-4c86-f5f5-8e6182c7124d"
      },
      "execution_count": 37,
      "outputs": [
        {
          "output_type": "execute_result",
          "data": {
            "text/plain": [
              "20"
            ]
          },
          "metadata": {},
          "execution_count": 37
        }
      ]
    },
    {
      "cell_type": "code",
      "source": [
        "total = 0\n",
        "for x in numbers:\n",
        "    total += x;\n",
        "\n",
        "print(f'total = {total}')"
      ],
      "metadata": {
        "colab": {
          "base_uri": "https://localhost:8080/"
        },
        "id": "66u0knleh_VF",
        "outputId": "dfda07c3-78fe-4203-e2f6-b84d802f0588"
      },
      "execution_count": 38,
      "outputs": [
        {
          "output_type": "stream",
          "name": "stdout",
          "text": [
            "total = 20\n"
          ]
        }
      ]
    },
    {
      "cell_type": "code",
      "source": [
        "average = total / len(numbers)\n",
        "print(f'average = {average}')"
      ],
      "metadata": {
        "colab": {
          "base_uri": "https://localhost:8080/"
        },
        "id": "sppuHwyQikCV",
        "outputId": "429ca645-7f28-479b-b4ef-10b4bbaa2065"
      },
      "execution_count": 39,
      "outputs": [
        {
          "output_type": "stream",
          "name": "stdout",
          "text": [
            "average = 4.0\n"
          ]
        }
      ]
    },
    {
      "cell_type": "markdown",
      "source": [
        "## Ex 2.\n",
        "\n",
        "1. 빈 리스트(numbers)를 생성.\n",
        "1. 10 이상, 100 미만의 정수 난수 10개를 numbers에 저장.\n",
        "1. numbers에서 짝수들만 선택해서 evens 리스트를 만들고 출력.\n",
        "1. numbers에서 홀수들만 선택해서 odds 리스트를 만들고 출력."
      ],
      "metadata": {
        "id": "IhKMNYLTAVva"
      }
    },
    {
      "cell_type": "code",
      "source": [
        "numbers = []\n",
        "for _ in range(10):\n",
        "    numbers.append(random.randrange(10, 100))\n",
        "\n",
        "numbers"
      ],
      "metadata": {
        "colab": {
          "base_uri": "https://localhost:8080/"
        },
        "id": "qcIla829i1X_",
        "outputId": "bb13e194-3238-45a4-f1a2-0d6972919a19"
      },
      "execution_count": 40,
      "outputs": [
        {
          "output_type": "execute_result",
          "data": {
            "text/plain": [
              "[11, 61, 77, 36, 31, 84, 39, 62, 62, 24]"
            ]
          },
          "metadata": {},
          "execution_count": 40
        }
      ]
    },
    {
      "cell_type": "code",
      "source": [
        "evens = []  # 짝수들을 저장할 빈 리스트\n",
        "odds = []  # 홀수들을 저장할 빈 리스트\n",
        "for x in numbers:  # 리스트 numbers의 원소들을 순서대로 반복하면서\n",
        "    if x % 2:  # 리스트에서 찾은 값을 2로 나눈 나머지가 있으면(홀수이면)\n",
        "        odds.append(x)\n",
        "    else:\n",
        "        evens.append(x)\n",
        "\n",
        "print(f'evens = {evens}')\n",
        "print(f'odds = {odds}')"
      ],
      "metadata": {
        "colab": {
          "base_uri": "https://localhost:8080/"
        },
        "id": "6HNx9FJujeg-",
        "outputId": "5665b720-afd4-463a-dae1-91a439dfa646"
      },
      "execution_count": 41,
      "outputs": [
        {
          "output_type": "stream",
          "name": "stdout",
          "text": [
            "evens = [36, 84, 62, 62, 24]\n",
            "odds = [11, 61, 77, 31, 39]\n"
          ]
        }
      ]
    },
    {
      "cell_type": "markdown",
      "source": [
        "## Ex 3.\n",
        "\n",
        "1. 빈 리스트 numbers를 만듦.\n",
        "1. -10 이상 10 이하인 범위의 정수 난수 10개를 numbers에 저장.\n",
        "1. numbers의 원소가 양수이면 True, 그렇지 않으면 False를 저장하는 is_positive 리스트를 만들고 출력."
      ],
      "metadata": {
        "id": "oJVxQBSSAeqL"
      }
    },
    {
      "cell_type": "code",
      "source": [
        "numbers = []\n",
        "for _ in range(10):\n",
        "    numbers.append(random.randrange(-10, 11))\n",
        "\n",
        "numbers"
      ],
      "metadata": {
        "colab": {
          "base_uri": "https://localhost:8080/"
        },
        "id": "1pH1NhEfkvsW",
        "outputId": "d936cdd8-8c27-431a-f8c3-051aa55480a6"
      },
      "execution_count": 42,
      "outputs": [
        {
          "output_type": "execute_result",
          "data": {
            "text/plain": [
              "[2, 8, 10, 10, -2, -3, -3, 5, -4, -9]"
            ]
          },
          "metadata": {},
          "execution_count": 42
        }
      ]
    },
    {
      "cell_type": "code",
      "source": [
        "is_positive = []\n",
        "for x in numbers:\n",
        "    if x > 0:\n",
        "        is_positive.append(True)\n",
        "    else:\n",
        "        is_positive.append(False)\n",
        "\n",
        "is_positive"
      ],
      "metadata": {
        "colab": {
          "base_uri": "https://localhost:8080/"
        },
        "id": "6PL2bAxWlmZP",
        "outputId": "b3e9aefe-8519-4b25-af32-6c194802b2f1"
      },
      "execution_count": 43,
      "outputs": [
        {
          "output_type": "execute_result",
          "data": {
            "text/plain": [
              "[True, True, True, True, False, False, False, True, False, False]"
            ]
          },
          "metadata": {},
          "execution_count": 43
        }
      ]
    },
    {
      "cell_type": "markdown",
      "source": [
        "## Ex 4.\n",
        "\n",
        "1. gender_codes 리스트에 0 또는 1을 랜덤하게 10개를 저장.\n",
        "1. gender_codes의 값이 0이면 'Male', 그렇지 않으며 'Female'을 저장하는 genders 리스트를 만들고 출력.\n"
      ],
      "metadata": {
        "id": "xETYmANrAlIb"
      }
    },
    {
      "cell_type": "code",
      "source": [
        "gender_codes = []\n",
        "for _ in range(10):\n",
        "    gender_codes.append(random.randrange(0, 2))\n",
        "\n",
        "gender_codes"
      ],
      "metadata": {
        "colab": {
          "base_uri": "https://localhost:8080/"
        },
        "id": "y_uXj436mRpH",
        "outputId": "42202c83-7c91-4002-ece0-82d4f2a561eb"
      },
      "execution_count": 44,
      "outputs": [
        {
          "output_type": "execute_result",
          "data": {
            "text/plain": [
              "[1, 0, 0, 1, 1, 1, 0, 1, 1, 0]"
            ]
          },
          "metadata": {},
          "execution_count": 44
        }
      ]
    },
    {
      "cell_type": "code",
      "source": [
        "genders = []\n",
        "for x in gender_codes:\n",
        "    if x == 0:\n",
        "        genders.append('Male')\n",
        "    else:\n",
        "        genders.append('Female')\n",
        "\n",
        "genders"
      ],
      "metadata": {
        "colab": {
          "base_uri": "https://localhost:8080/"
        },
        "id": "nqqJzOSTm8M_",
        "outputId": "7945da30-ba47-4145-c876-b364cc44d4b3"
      },
      "execution_count": 45,
      "outputs": [
        {
          "output_type": "execute_result",
          "data": {
            "text/plain": [
              "['Female',\n",
              " 'Male',\n",
              " 'Male',\n",
              " 'Female',\n",
              " 'Female',\n",
              " 'Female',\n",
              " 'Male',\n",
              " 'Female',\n",
              " 'Female',\n",
              " 'Male']"
            ]
          },
          "metadata": {},
          "execution_count": 45
        }
      ]
    },
    {
      "cell_type": "markdown",
      "source": [
        "## Ex 5.\n",
        "\n",
        "1. `numbers1`: 100 미만의 정수 난수 10개를 저장하는 리스트.\n",
        "1. `numbers2`: 100 미만의 정수 난수 10개를 저장하는 리스트.\n",
        "1. `multiplication`: `numbers1`과 `numbers2`의 같은 인덱스에 있는 원소들끼리의 곱셈 결과를 저장하는 리스트.\n",
        "1. `subtraction`: `numbers1`의 원소에서 같은 인덱스에 있는 `numbers2`의 원소를 뺀 값을 저장하는 리스트.\n",
        "\n",
        "`numbers1`, `numbers2`, `multiplication`, `subtraction`를 출력."
      ],
      "metadata": {
        "id": "4kJZYsUKAtDT"
      }
    },
    {
      "cell_type": "code",
      "source": [
        "numbers1 = []\n",
        "numbers2 = []\n",
        "for _ in range(10):\n",
        "    numbers1.append(random.randrange(100))\n",
        "    numbers2.append(random.randrange(100))\n",
        "\n",
        "print(f'numbers1 = {numbers1}')\n",
        "print(f'numbers2 = {numbers2}')"
      ],
      "metadata": {
        "colab": {
          "base_uri": "https://localhost:8080/"
        },
        "id": "0YCoE9RWndav",
        "outputId": "d023e2f6-2c69-494e-88a6-5020a38819e1"
      },
      "execution_count": 46,
      "outputs": [
        {
          "output_type": "stream",
          "name": "stdout",
          "text": [
            "numbers1 = [18, 34, 53, 62, 10, 17, 50, 67, 96, 16]\n",
            "numbers2 = [46, 82, 29, 60, 29, 29, 32, 75, 34, 53]\n"
          ]
        }
      ]
    },
    {
      "cell_type": "code",
      "source": [
        "multiplication = []\n",
        "subtraction = []\n",
        "for x, y in zip(numbers1, numbers2):\n",
        "    multiplication.append(x * y)\n",
        "    subtraction.append(x - y)\n",
        "\n",
        "print(f'multiplication = {multiplication}')\n",
        "print(f'subtraction = {subtraction}')"
      ],
      "metadata": {
        "colab": {
          "base_uri": "https://localhost:8080/"
        },
        "id": "SqFPJku2oOXo",
        "outputId": "10084def-5293-4a68-f003-d68df964ffee"
      },
      "execution_count": 47,
      "outputs": [
        {
          "output_type": "stream",
          "name": "stdout",
          "text": [
            "multiplication = [828, 2788, 1537, 3720, 290, 493, 1600, 5025, 3264, 848]\n",
            "subtraction = [-28, -48, 24, 2, -19, -12, 18, -8, 62, -37]\n"
          ]
        }
      ]
    },
    {
      "cell_type": "markdown",
      "source": [
        "# List comprehension(리스트 내포)"
      ],
      "metadata": {
        "id": "VWPc6mkRsUdh"
      }
    },
    {
      "cell_type": "markdown",
      "source": [
        "1 ~ 10 정수들을 순서대로 리스트에 저장: `[1, 2, 3, ..., 9, 10]`"
      ],
      "metadata": {
        "id": "6wMi5pxMsrwK"
      }
    },
    {
      "cell_type": "code",
      "source": [
        "numbers = []\n",
        "for x in range(1, 11):\n",
        "    numbers.append(x)\n",
        "\n",
        "numbers"
      ],
      "metadata": {
        "colab": {
          "base_uri": "https://localhost:8080/"
        },
        "id": "nvmkOPYys7Yj",
        "outputId": "b1cc768a-0e97-4781-b1bf-5d08c2fe3477"
      },
      "execution_count": 48,
      "outputs": [
        {
          "output_type": "execute_result",
          "data": {
            "text/plain": [
              "[1, 2, 3, 4, 5, 6, 7, 8, 9, 10]"
            ]
          },
          "metadata": {},
          "execution_count": 48
        }
      ]
    },
    {
      "cell_type": "code",
      "source": [
        "numbers = [x for x in range(1, 11)]\n",
        "numbers"
      ],
      "metadata": {
        "colab": {
          "base_uri": "https://localhost:8080/"
        },
        "id": "O0n_2XHVtGNJ",
        "outputId": "d1424ffe-834e-4964-864c-e4483abb9ba1"
      },
      "execution_count": 49,
      "outputs": [
        {
          "output_type": "execute_result",
          "data": {
            "text/plain": [
              "[1, 2, 3, 4, 5, 6, 7, 8, 9, 10]"
            ]
          },
          "metadata": {},
          "execution_count": 49
        }
      ]
    },
    {
      "cell_type": "code",
      "source": [
        "# [1, 4, 9, 16, ..., 81, 100]\n",
        "squares = [x ** 2 for x in range(1, 11)]\n",
        "squares"
      ],
      "metadata": {
        "colab": {
          "base_uri": "https://localhost:8080/"
        },
        "id": "4QoYbsHctiQR",
        "outputId": "5aa21aeb-1319-4323-d704-2483efd15525"
      },
      "execution_count": 50,
      "outputs": [
        {
          "output_type": "execute_result",
          "data": {
            "text/plain": [
              "[1, 4, 9, 16, 25, 36, 49, 64, 81, 100]"
            ]
          },
          "metadata": {},
          "execution_count": 50
        }
      ]
    },
    {
      "cell_type": "code",
      "source": [
        "# [0, 10) 범위의 난수 10개를 저장하는 리스트\n",
        "numbers = [random.randrange(10) for _ in range(10)]\n",
        "numbers"
      ],
      "metadata": {
        "colab": {
          "base_uri": "https://localhost:8080/"
        },
        "id": "4iD3BJ3Kub_B",
        "outputId": "ddb4adb6-f2ec-42ff-c998-0b92c535326e"
      },
      "execution_count": 51,
      "outputs": [
        {
          "output_type": "execute_result",
          "data": {
            "text/plain": [
              "[6, 7, 6, 4, 0, 2, 2, 0, 4, 3]"
            ]
          },
          "metadata": {},
          "execution_count": 51
        }
      ]
    },
    {
      "cell_type": "markdown",
      "source": [
        "Ex1 ~ Ex5 연습문제를 list comprehension을 사용해서 작성.\n",
        "\n",
        "* filtering:\n",
        "\n",
        "    `[value for x in iterable if condition]`\n",
        "\n",
        "* mapping:\n",
        "\n",
        "    `[value1 if condition else value2 for x in iterable]`\n"
      ],
      "metadata": {
        "id": "JvB0j5KuvlBR"
      }
    },
    {
      "cell_type": "markdown",
      "source": [
        "## Ex 1."
      ],
      "metadata": {
        "id": "9Y28bFYY1QwU"
      }
    },
    {
      "cell_type": "code",
      "source": [
        "numbers = [random.randrange(1, 11) for _ in range(5)]\n",
        "print(f'numbers = {numbers}')\n",
        "\n",
        "total = 0\n",
        "for x in numbers:\n",
        "    total += x\n",
        "print(f'total = {total}')\n",
        "\n",
        "average = total / len(numbers)\n",
        "print(f'averae = {average}')"
      ],
      "metadata": {
        "colab": {
          "base_uri": "https://localhost:8080/"
        },
        "id": "NNPGtlUivIrJ",
        "outputId": "4fa9cdc8-b9ae-4f76-ec4d-d3d94db7b2cd"
      },
      "execution_count": 52,
      "outputs": [
        {
          "output_type": "stream",
          "name": "stdout",
          "text": [
            "numbers = [1, 4, 7, 7, 1]\n",
            "total = 20\n",
            "averae = 4.0\n"
          ]
        }
      ]
    },
    {
      "cell_type": "markdown",
      "source": [
        "##Ex 2."
      ],
      "metadata": {
        "id": "0qEhPbdX6Ovz"
      }
    },
    {
      "cell_type": "code",
      "source": [
        "numbers = [random.randrange(10, 100) for _ in range(10)]\n",
        "print(f'numbers = {numbers}')\n",
        "\n",
        "evens = [x for x in numbers if x % 2 == 0]\n",
        "print(f'evens = {evens}')\n",
        "\n",
        "odds=[x for x in numbers if x % 2 == 1]\n",
        "print(f'odds = {odds}')"
      ],
      "metadata": {
        "colab": {
          "base_uri": "https://localhost:8080/"
        },
        "id": "27UtlQFl6Rxn",
        "outputId": "b9130742-b030-4b2b-96a2-2a37d1117e9e"
      },
      "execution_count": 53,
      "outputs": [
        {
          "output_type": "stream",
          "name": "stdout",
          "text": [
            "numbers = [10, 47, 52, 62, 23, 54, 77, 25, 18, 84]\n",
            "evens = [10, 52, 62, 54, 18, 84]\n",
            "odds = [47, 23, 77, 25]\n"
          ]
        }
      ]
    },
    {
      "cell_type": "markdown",
      "source": [
        "## Ex 3."
      ],
      "metadata": {
        "id": "uvtnvFYb78EL"
      }
    },
    {
      "cell_type": "code",
      "source": [
        "# 삼항 연산자\n",
        "x = 1\n",
        "is_positive = True if x > 0 else False # 삼항 연산자\n",
        "\n",
        "is_positive\n"
      ],
      "metadata": {
        "colab": {
          "base_uri": "https://localhost:8080/"
        },
        "id": "f-8OJSbW7-mR",
        "outputId": "e154c121-06ed-4883-8969-8166bdee80b4"
      },
      "execution_count": 54,
      "outputs": [
        {
          "output_type": "execute_result",
          "data": {
            "text/plain": [
              "True"
            ]
          },
          "metadata": {},
          "execution_count": 54
        }
      ]
    },
    {
      "cell_type": "code",
      "source": [
        "numbers = [random.randrange(-10, 11) for _ in range(10)]\n",
        "print(f'numbers = {numbers}')\n",
        "\n",
        "is_positive = [True if x > 0 else False for x in numbers]\n",
        "\n",
        "print(f'is_positive = {is_positive}')"
      ],
      "metadata": {
        "colab": {
          "base_uri": "https://localhost:8080/"
        },
        "id": "J2TpxpSX9NYS",
        "outputId": "ddd8bf43-3d71-40d1-c525-2ad647ec0169"
      },
      "execution_count": 56,
      "outputs": [
        {
          "output_type": "stream",
          "name": "stdout",
          "text": [
            "numbers = [8, -2, -1, 9, 3, -10, -6, -2, 6, -4]\n",
            "is_positive = [True, False, False, True, True, False, False, False, True, False]\n"
          ]
        }
      ]
    },
    {
      "cell_type": "markdown",
      "source": [
        "## Ex. 4"
      ],
      "metadata": {
        "id": "1NuF-eXE-g3x"
      }
    },
    {
      "cell_type": "code",
      "source": [
        "gender_codes = [random.randrange(0,2) for _ in range(10)]\n",
        "print(f'gender_codes = {gender_codes}')\n",
        "\n",
        "gender = ['Male' if x == 0 else 'Female' for x in gender_codes]\n",
        "print (f'gender = {gender}')"
      ],
      "metadata": {
        "colab": {
          "base_uri": "https://localhost:8080/"
        },
        "id": "rk_n0UU4-f5E",
        "outputId": "72664999-552d-4600-f5ef-88e4e1d70864"
      },
      "execution_count": 59,
      "outputs": [
        {
          "output_type": "stream",
          "name": "stdout",
          "text": [
            "gender_codes = [0, 0, 0, 1, 0, 1, 0, 1, 1, 1]\n",
            "gender = ['Male', 'Male', 'Male', 'Female', 'Male', 'Female', 'Male', 'Female', 'Female', 'Female']\n"
          ]
        }
      ]
    },
    {
      "cell_type": "markdown",
      "source": [
        "##Ex. 5"
      ],
      "metadata": {
        "id": "Is2kA3Pr_XsI"
      }
    },
    {
      "cell_type": "code",
      "source": [
        "numbers1 = [random.randrange(100) for _ in range(10)]\n",
        "numbers2 = [random.randrange(100) for _ in range(10)]\n",
        "print(f'numbers1 = {numbers1}')\n",
        "print(f'numbers2 = {numbers2}')\n",
        "\n",
        "multiplication = [x * y for x, y in zip (numbers1 , numbers2)]\n",
        "print(f'multiplication = {multiplication}')\n",
        "\n",
        "subtraction = [x - y for x, y in zip(numbers1 , numbers2)]\n",
        "print(f'subtraction = {subtraction}')"
      ],
      "metadata": {
        "colab": {
          "base_uri": "https://localhost:8080/"
        },
        "id": "31_yE-q0_cP4",
        "outputId": "e4b9bfa2-326e-4f75-c5de-de42d62a8589"
      },
      "execution_count": 61,
      "outputs": [
        {
          "output_type": "stream",
          "name": "stdout",
          "text": [
            "numbers1 = [78, 32, 63, 87, 85, 7, 93, 39, 28, 73]\n",
            "numbers2 = [15, 58, 91, 21, 81, 58, 62, 54, 50, 92]\n",
            "multiplication = [1170, 1856, 5733, 1827, 6885, 406, 5766, 2106, 1400, 6716]\n",
            "subtraction = [63, -26, -28, 66, 4, -51, 31, -15, -22, -19]\n"
          ]
        }
      ]
    },
    {
      "cell_type": "code",
      "source": [
        "gender_codes = [1, 2, 1, 2, 3]\n",
        "# 1 -> \"M\" 2 -> 'F' 3 -> 'Unknown' mapping\n",
        "genders = ['M' if x == 1 else 'F' if x == 2 else 'Unknown' for x in gender_codes]\n",
        "genders"
      ],
      "metadata": {
        "colab": {
          "base_uri": "https://localhost:8080/"
        },
        "id": "FSzT-LX8A3Uq",
        "outputId": "c549a219-5fb0-4a04-e986-d95240cc340a"
      },
      "execution_count": 65,
      "outputs": [
        {
          "output_type": "execute_result",
          "data": {
            "text/plain": [
              "['M', 'F', 'M', 'F', 'Unknown']"
            ]
          },
          "metadata": {},
          "execution_count": 65
        }
      ]
    }
  ]
}