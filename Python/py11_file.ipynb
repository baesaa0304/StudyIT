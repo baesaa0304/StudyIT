{
  "nbformat": 4,
  "nbformat_minor": 0,
  "metadata": {
    "colab": {
      "provenance": [],
      "mount_file_id": "1mCDVgdkT5UFX7VqtCPuNbLcEcU3wNPHi",
      "authorship_tag": "ABX9TyMI04a8BmiBWMNOJ4aKVxvG",
      "include_colab_link": true
    },
    "kernelspec": {
      "name": "python3",
      "display_name": "Python 3"
    },
    "language_info": {
      "name": "python"
    }
  },
  "cells": [
    {
      "cell_type": "markdown",
      "metadata": {
        "id": "view-in-github",
        "colab_type": "text"
      },
      "source": [
        "<a href=\"https://colab.research.google.com/github/baesunyoung34/Python/blob/main/py11_file.ipynb\" target=\"_parent\"><img src=\"https://colab.research.google.com/assets/colab-badge.svg\" alt=\"Open In Colab\"/></a>"
      ]
    },
    {
      "cell_type": "markdown",
      "source": [
        "# 파일 쓰기(write)\n"
      ],
      "metadata": {
        "id": "YCIJF3fvRzcr"
      }
    },
    {
      "cell_type": "markdown",
      "source": [
        "파일 쓰기 순서\n",
        "1. 파일 열기 (open)\n",
        "1. 파일 내용 쓰기 (write)\n",
        "1. 파일 닫기 (close)\n",
        "\n",
        "`open(file, mode = 'rt' , ...)`:\n",
        "* file : 폴더(디렉토리)를 포함한 파일 이름.\n",
        "* mode : 파일을 여는 방법 (모드).\n",
        "    * r(read) : 읽기, 기본값.\n",
        "        * 파일이 없으면  FileFoundError가 발생.\n",
        "    * w(write) : 쓰기.\n",
        "        * 파일이 있으면 기존 내용이 모두 삭제되고 파일의 처음부터 다시쓰기 시작.\n",
        "        * 파일이 없으면 새로운 파일을 생성하고 파일 쓰기가 됨.\n",
        "    * a(append) : 이어쓰기. 기존 작성된 내용 이후부터 이어서 쓰기.\n",
        "        * 파일이 있으면 기존 파일 뒤에 이어쓰기\n",
        "        * 파일이 없으면 새로운 파일을 생성하고 이어쓰기\n",
        "    * t(text) : 텍스트 (읽기/쓰기) , 인코딩된 문자열. 기본값.\n",
        "    * b(binary) : 이진 데이터를 (읽기/쓰기). 예 : 이미지, 동영상, ...."
      ],
      "metadata": {
        "id": "idkOYX1vR4p5"
      }
    },
    {
      "cell_type": "code",
      "execution_count": 3,
      "metadata": {
        "id": "qUFrXDnfRcGn"
      },
      "outputs": [],
      "source": [
        "# 1. 파일을 텍스트 쓰기 모드로 open:\n",
        "f = open('test1.txt' , mode=\"wt\")\n",
        "\n",
        "# 2. 파일 쓰기:\n",
        "f.write('안녕하세요....\\n')\n",
        "f.write('Hello, python!\\n')\n",
        "f.write('123456789\\n')\n",
        "# 3. 파일 닫기:\n",
        "f.close()"
      ]
    },
    {
      "cell_type": "code",
      "source": [
        "# with ~ as 구문 : 오픈된 리소스(파일)에서 close() 메서드를 자동으로 호출.\n",
        "with open('test2.txt' , 'wt') as f:\n",
        "    f.write('hello\\n')\n",
        "    f.write('즐거운 월요일\\n')"
      ],
      "metadata": {
        "id": "ogXVJ4TtXUtn"
      },
      "execution_count": 4,
      "outputs": []
    },
    {
      "cell_type": "markdown",
      "source": [
        "# 파일 읽기"
      ],
      "metadata": {
        "id": "2zKD9itRcuMV"
      }
    },
    {
      "cell_type": "code",
      "source": [
        "with open('test1.txt' , mode='rt') as f:\n",
        "    line = f.readline()\n",
        "    # 문자열.strip : 문자열의 왼쪽과 오른쪽에 있는 공백 문자들(space, tab , 줄바꿈)을 제거.\n",
        "    print(line.strip())\n",
        "    line = f.readline()\n",
        "    print(line.strip())\n",
        "    line = f.readline()\n",
        "    print(line.strip())"
      ],
      "metadata": {
        "colab": {
          "base_uri": "https://localhost:8080/"
        },
        "id": "YGCtPZbbc0bz",
        "outputId": "cbff6f32-9ade-438a-97aa-1c5a241a9b5a"
      },
      "execution_count": 11,
      "outputs": [
        {
          "output_type": "stream",
          "name": "stdout",
          "text": [
            "안녕하세요....\n",
            "Hello, python!\n",
            "123456789\n"
          ]
        }
      ]
    },
    {
      "cell_type": "code",
      "source": [
        "with open('test2.txt', mode='rt') as f:\n",
        "    for line in f:\n",
        "        # 파일의 처음부터 끝까지 readline()을 호출\n",
        "        print(line)"
      ],
      "metadata": {
        "colab": {
          "base_uri": "https://localhost:8080/"
        },
        "id": "IKzMW-cYgBuS",
        "outputId": "72ced6fc-eca2-4082-d494-512759397562"
      },
      "execution_count": 12,
      "outputs": [
        {
          "output_type": "stream",
          "name": "stdout",
          "text": [
            "hello\n",
            "\n",
            "즐거운 월요일\n",
            "\n"
          ]
        }
      ]
    },
    {
      "cell_type": "markdown",
      "source": [
        "지금까지의 과정은 Google Colab에서 할당받은 가상머신(개발환경)의 하드디스크에 파일을 쓰고, 파일을 읽는 기능을 수행한 것임.\n",
        "\n",
        "Google Colab과 연결이 끊어진 후 재연결(가상머신 재할당)을 하면, 가상 머신의 리소스(RAM, HDD, CPU...)들을 초기화 됨. 저장했던 파일들도 모두 삭제됨.\n",
        "\n",
        "파일을 개인 Goole 드라이브에 저장하고 읽는 방법이 제공됨."
      ],
      "metadata": {
        "id": "tOareXYfg0RA"
      }
    },
    {
      "cell_type": "markdown",
      "source": [
        "# Colab 가상머신에서 구글 드라이브 연결(Mount)"
      ],
      "metadata": {
        "id": "OF6z8lmNh6mg"
      }
    },
    {
      "cell_type": "code",
      "source": [
        "from IPython.utils.path import filefind\n",
        "# 구글 드라이브 폴더 경로\n",
        "dir_path = '/content/drive/MyDrive/Colab Notebooks/lap_python'\n",
        "# 저장할 파일 이름\n",
        "file_name = 'test.txt'\n",
        "\n",
        "import os # os 모듈 임포트 ; os.path.join() 함수 이용하기 위해서\n",
        "\n",
        "file = os.path.join(dir_path, file_name)\n",
        "file"
      ],
      "metadata": {
        "colab": {
          "base_uri": "https://localhost:8080/",
          "height": 35
        },
        "id": "lE0wr_51gz0o",
        "outputId": "4061f54a-7119-4e68-dc5d-5846e6564b8b"
      },
      "execution_count": 13,
      "outputs": [
        {
          "output_type": "execute_result",
          "data": {
            "text/plain": [
              "'/content/drive/MyDrive/Colab Notebooks/lap_python/test.txt'"
            ],
            "application/vnd.google.colaboratory.intrinsic+json": {
              "type": "string"
            }
          },
          "metadata": {},
          "execution_count": 13
        }
      ]
    },
    {
      "cell_type": "code",
      "source": [
        "with open(file, mode='wt') as f:\n",
        "    f.write('admin@com\\n')\n",
        "    f.write('test@itwill\\n')\n",
        "    f.write(\"jake@gamil.com\\n\")"
      ],
      "metadata": {
        "id": "aTKlAp8JkZxh"
      },
      "execution_count": 16,
      "outputs": []
    },
    {
      "cell_type": "code",
      "source": [
        "with open(file, mode=\"rt\") as f:\n",
        "    for line in f:\n",
        "        print(line)"
      ],
      "metadata": {
        "colab": {
          "base_uri": "https://localhost:8080/"
        },
        "id": "aTFnBDeykfPx",
        "outputId": "4f05a8f0-225c-4b6e-8ee9-c8f64e7c81df"
      },
      "execution_count": 17,
      "outputs": [
        {
          "output_type": "stream",
          "name": "stdout",
          "text": [
            "admin@com\n",
            "\n",
            "test@itwill\n",
            "\n",
            "jake@gamil.com\n",
            "\n"
          ]
        }
      ]
    }
  ]
}