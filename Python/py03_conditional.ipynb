{
  "nbformat": 4,
  "nbformat_minor": 0,
  "metadata": {
    "colab": {
      "provenance": [],
      "include_colab_link": true
    },
    "kernelspec": {
      "name": "python3",
      "display_name": "Python 3"
    },
    "language_info": {
      "name": "python"
    }
  },
  "cells": [
    {
      "cell_type": "markdown",
      "metadata": {
        "id": "view-in-github",
        "colab_type": "text"
      },
      "source": [
        "<a href=\"https://colab.research.google.com/github/baesunyoung34/Python/blob/main/py03_conditional.ipynb\" target=\"_parent\"><img src=\"https://colab.research.google.com/assets/colab-badge.svg\" alt=\"Open In Colab\"/></a>"
      ]
    },
    {
      "cell_type": "markdown",
      "source": [
        "# else가 없는 조건문\n",
        "\n",
        "```\n",
        "if 조건식:\n",
        "    조건식이 참일 때 실행할 코드 (블록)\n",
        "```\n",
        "\n",
        "*  `if 조건식` 뒤에는 반드시 콜론(:)을 사용해야 함.\n",
        "*  코드 블록을 작성할 때 `{}`를 사용하지 않음.\n",
        "*  `if` 블록 안의 문장들은 반드시 **같은 크기로 들여쓰기(indentation)**을 해야 함.\n"
      ],
      "metadata": {
        "id": "evFiIrdRxUQ7"
      }
    },
    {
      "cell_type": "code",
      "execution_count": 1,
      "metadata": {
        "id": "ktH7oYmRxITh"
      },
      "outputs": [],
      "source": [
        "n = -100"
      ]
    },
    {
      "cell_type": "code",
      "source": [
        "if n > 0:\n",
        "    print('양수')\n",
        "    print('if 블록 끝')\n",
        "print('if 블록 바깥')  # if 블록과 상관없이 무조건 실행하는 문장."
      ],
      "metadata": {
        "id": "vmtAXRWHzLmF",
        "colab": {
          "base_uri": "https://localhost:8080/"
        },
        "outputId": "a3ec1305-3e5b-4545-9dd5-74553f8598e3"
      },
      "execution_count": 2,
      "outputs": [
        {
          "output_type": "stream",
          "name": "stdout",
          "text": [
            "if 블록 바깥\n"
          ]
        }
      ]
    },
    {
      "cell_type": "markdown",
      "source": [
        "# else가 있는 조건문\n",
        "\n",
        "```\n",
        "if 조건식:\n",
        "    참일 때 실행할 코드 블록\n",
        "else:\n",
        "    거짓을 때 실행할 코드 블록\n",
        "```\n"
      ],
      "metadata": {
        "id": "VFabanbF0yej"
      }
    },
    {
      "cell_type": "code",
      "source": [
        "n = 123\n",
        "if n % 2:\n",
        "    print('홀수')\n",
        "else:\n",
        "    print('짝수')"
      ],
      "metadata": {
        "colab": {
          "base_uri": "https://localhost:8080/"
        },
        "id": "TA4zVmB_zgrq",
        "outputId": "6f44b6f2-30ed-4aed-82e9-23abc7df7559"
      },
      "execution_count": 3,
      "outputs": [
        {
          "output_type": "stream",
          "name": "stdout",
          "text": [
            "홀수\n"
          ]
        }
      ]
    },
    {
      "cell_type": "markdown",
      "source": [
        "파이썬에서 참(True)로 취급하는 값:\n",
        "\n",
        "*  0이 아닌 숫자들.\n",
        "*  1개 이상의 문자를 가지고 있는 문자열.\n",
        "*  1개 이상의 원소를 가지고 있는 리스트(와 비슷한 객체)\n"
      ],
      "metadata": {
        "id": "ZpI817bW2Lrr"
      }
    },
    {
      "cell_type": "markdown",
      "source": [
        "# chained conditional\n",
        "\n",
        "```\n",
        "if 조건식1:\n",
        "    조건식1이 참일 때 실행할 코드 블록\n",
        "elif 조건식2:\n",
        "    조건식1이 거짓이고, 조건식2가 참일 때 실행할 코드 블록\n",
        "...\n",
        "else:\n",
        "    위의 모든 조건이 거짓일 때 실행할 코드 블록\n",
        "```\n"
      ],
      "metadata": {
        "id": "KRWNLT4s25NC"
      }
    },
    {
      "cell_type": "markdown",
      "source": [
        "Ex1. 정수 3개를 입력받고 변수에 저장. 평균이 90 이상이면 'A', 80 이상이면 'B', 70 이상이면 'C', 70 미만이면 'F'를 출력."
      ],
      "metadata": {
        "id": "7zg6MFDT33Dk"
      }
    },
    {
      "cell_type": "code",
      "source": [
        "x = int(input('정수 입력>>> '))\n",
        "y = int(input('정수 입력>>> '))\n",
        "z = int(input('정수 입력>>> '))\n",
        "\n",
        "average = (x + y + z) / 3\n",
        "print(f'평균 = {average}')\n",
        "\n",
        "if average >= 90:\n",
        "    print('A')\n",
        "elif average >= 80:\n",
        "    print('B')\n",
        "elif average >= 70:\n",
        "    print('C')\n",
        "else:\n",
        "    print('F')"
      ],
      "metadata": {
        "colab": {
          "base_uri": "https://localhost:8080/"
        },
        "id": "XO1V4ET34KlU",
        "outputId": "444c10d9-1d00-49de-e541-a2f8a911950c"
      },
      "execution_count": 4,
      "outputs": [
        {
          "output_type": "stream",
          "name": "stdout",
          "text": [
            "정수 입력>>> 90\n",
            "정수 입력>>> 80\n",
            "정수 입력>>> 10\n",
            "평균 = 60.0\n",
            "F\n"
          ]
        }
      ]
    }
  ]
}