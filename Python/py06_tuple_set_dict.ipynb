{
  "nbformat": 4,
  "nbformat_minor": 0,
  "metadata": {
    "colab": {
      "provenance": [],
      "authorship_tag": "ABX9TyPDLeBVtvCs38QkcFX8Ww2x",
      "include_colab_link": true
    },
    "kernelspec": {
      "name": "python3",
      "display_name": "Python 3"
    },
    "language_info": {
      "name": "python"
    }
  },
  "cells": [
    {
      "cell_type": "markdown",
      "metadata": {
        "id": "view-in-github",
        "colab_type": "text"
      },
      "source": [
        "<a href=\"https://colab.research.google.com/github/baesunyoung34/Python/blob/main/py06_tuple_set_dict.ipynb\" target=\"_parent\"><img src=\"https://colab.research.google.com/assets/colab-badge.svg\" alt=\"Open In Colab\"/></a>"
      ]
    },
    {
      "cell_type": "markdown",
      "source": [
        "#tuple(튜플)\n",
        "\n",
        "* 하나의 변수에 여러 개의 값들ㅇㄹ 저장하기  위한 자료 타입.\n",
        "* 저장된 원소(아이템)들을 변경할 수 없는 리스트.\n",
        "  *  `append()`, `remove()` 와 같은 원소를 변경하는 메서드(기능)은 제공하지 않음.\n",
        "* 인덱스 기반 자료 타입\n",
        "  *  indexing, slicing\n",
        "  *  음수 인덱스도 사용 가능"
      ],
      "metadata": {
        "id": "WHqVpa8fWsoF"
      }
    },
    {
      "cell_type": "code",
      "execution_count": 16,
      "metadata": {
        "colab": {
          "base_uri": "https://localhost:8080/"
        },
        "id": "r7xrEDVLWa6N",
        "outputId": "560698c6-98d6-4de6-88be-6a2eb1960524"
      },
      "outputs": [
        {
          "output_type": "execute_result",
          "data": {
            "text/plain": [
              "(1, 2, 10, 20, 100, 200)"
            ]
          },
          "metadata": {},
          "execution_count": 16
        }
      ],
      "source": [
        "# 숫자들을 저장하는 튜플\n",
        "numbers = (1, 2, 10, 20, 100, 200)\n",
        "numbers"
      ]
    },
    {
      "cell_type": "code",
      "source": [
        "type(numbers)"
      ],
      "metadata": {
        "colab": {
          "base_uri": "https://localhost:8080/"
        },
        "id": "W4Tha1jNYQ4-",
        "outputId": "46175618-1e23-4ee9-acfb-ecf75d2e201a"
      },
      "execution_count": 17,
      "outputs": [
        {
          "output_type": "execute_result",
          "data": {
            "text/plain": [
              "tuple"
            ]
          },
          "metadata": {},
          "execution_count": 17
        }
      ]
    },
    {
      "cell_type": "markdown",
      "source": [
        "indexing : 인덱스를 사용해서 원소 1개를 참조하는 방법"
      ],
      "metadata": {
        "id": "B6X2i5U0Yt-n"
      }
    },
    {
      "cell_type": "code",
      "source": [
        "numbers[0]# 튜플에 첫번째 원소"
      ],
      "metadata": {
        "colab": {
          "base_uri": "https://localhost:8080/"
        },
        "id": "QzafHs8FYU2l",
        "outputId": "e1c13dd7-9092-46e9-c636-f681e46b4b4b"
      },
      "execution_count": 18,
      "outputs": [
        {
          "output_type": "execute_result",
          "data": {
            "text/plain": [
              "1"
            ]
          },
          "metadata": {},
          "execution_count": 18
        }
      ]
    },
    {
      "cell_type": "code",
      "source": [
        "numbers[-1] # 튜플에 마지막 원소"
      ],
      "metadata": {
        "colab": {
          "base_uri": "https://localhost:8080/"
        },
        "id": "kIDSE90zZEvf",
        "outputId": "090c8697-9148-4b32-bcda-af9735d17bd5"
      },
      "execution_count": 19,
      "outputs": [
        {
          "output_type": "execute_result",
          "data": {
            "text/plain": [
              "200"
            ]
          },
          "metadata": {},
          "execution_count": 19
        }
      ]
    },
    {
      "cell_type": "markdown",
      "source": [
        "Slicing : 자르기, 부분집합."
      ],
      "metadata": {
        "id": "cxGkCDsAZQH5"
      }
    },
    {
      "cell_type": "code",
      "source": [
        "numbers[:3] # 튜플에서 첫 3개의 원소들을 잘라내기. [start, end) 범위."
      ],
      "metadata": {
        "colab": {
          "base_uri": "https://localhost:8080/"
        },
        "id": "9WfzUaODZVGN",
        "outputId": "2713d83f-4121-4595-cc2d-386fcd31c07a"
      },
      "execution_count": 20,
      "outputs": [
        {
          "output_type": "execute_result",
          "data": {
            "text/plain": [
              "(1, 2, 10)"
            ]
          },
          "metadata": {},
          "execution_count": 20
        }
      ]
    },
    {
      "cell_type": "code",
      "source": [
        "numbers[-3:] #튜플에서 마지막 3개의 원소들을 잘라내기."
      ],
      "metadata": {
        "colab": {
          "base_uri": "https://localhost:8080/"
        },
        "id": "HHtFhuNtZf5E",
        "outputId": "157ae2ef-8245-404f-b7ac-93e0fab87c6f"
      },
      "execution_count": 21,
      "outputs": [
        {
          "output_type": "execute_result",
          "data": {
            "text/plain": [
              "(20, 100, 200)"
            ]
          },
          "metadata": {},
          "execution_count": 21
        }
      ]
    },
    {
      "cell_type": "markdown",
      "source": [
        "## decomposition(분해)\n"
      ],
      "metadata": {
        "id": "zHl5LBfbZ4k5"
      }
    },
    {
      "cell_type": "code",
      "source": [
        "  odds = (1, 3, 5)\n",
        "  a = odds[0]\n",
        "  b = odds[1]\n",
        "  c = odds[2]\n",
        "  print(a, b, c)"
      ],
      "metadata": {
        "colab": {
          "base_uri": "https://localhost:8080/"
        },
        "id": "eSucJHY-aACx",
        "outputId": "6f40d927-9da8-4f6b-ada4-c56c14bfddcd"
      },
      "execution_count": 22,
      "outputs": [
        {
          "output_type": "stream",
          "name": "stdout",
          "text": [
            "1 3 5\n"
          ]
        }
      ]
    },
    {
      "cell_type": "code",
      "source": [
        " x, y, z = (1, 3, 5)\n",
        " print(x, y, z)"
      ],
      "metadata": {
        "colab": {
          "base_uri": "https://localhost:8080/"
        },
        "id": "pV4utPI0alSV",
        "outputId": "6bba40e6-1d80-4ffc-c930-cc1a49b5d13c"
      },
      "execution_count": 23,
      "outputs": [
        {
          "output_type": "stream",
          "name": "stdout",
          "text": [
            "1 3 5\n"
          ]
        }
      ]
    },
    {
      "cell_type": "markdown",
      "source": [
        "#tuple & for"
      ],
      "metadata": {
        "id": "_Amx8FH9bPKf"
      }
    },
    {
      "cell_type": "code",
      "source": [
        "for x in odds:\n",
        "  print(x)"
      ],
      "metadata": {
        "colab": {
          "base_uri": "https://localhost:8080/"
        },
        "id": "iGCjjbbkbK9N",
        "outputId": "411be13c-4611-40f2-9249-f8f771d86a21"
      },
      "execution_count": 24,
      "outputs": [
        {
          "output_type": "stream",
          "name": "stdout",
          "text": [
            "1\n",
            "3\n",
            "5\n"
          ]
        }
      ]
    },
    {
      "cell_type": "markdown",
      "source": [
        "# 2차원 리스트 / 튜플"
      ],
      "metadata": {
        "id": "rzYKRQIQcA7b"
      }
    },
    {
      "cell_type": "code",
      "source": [
        "numbers = [\n",
        "    [1,2,3],\n",
        "    [4,5,6]\n",
        "]\n",
        "numbers"
      ],
      "metadata": {
        "colab": {
          "base_uri": "https://localhost:8080/"
        },
        "id": "HcXwkNxHcAHp",
        "outputId": "a522ee28-4bfe-41d8-c50e-94e8f6cc0eb5"
      },
      "execution_count": 25,
      "outputs": [
        {
          "output_type": "execute_result",
          "data": {
            "text/plain": [
              "[[1, 2, 3], [4, 5, 6]]"
            ]
          },
          "metadata": {},
          "execution_count": 25
        }
      ]
    },
    {
      "cell_type": "code",
      "source": [
        "len(numbers) # 2차원 리스트 리스트 numbers"
      ],
      "metadata": {
        "colab": {
          "base_uri": "https://localhost:8080/"
        },
        "id": "Ma2RpiXzdGfF",
        "outputId": "db67d192-9620-4d92-9cb5-32d78eacb9bd"
      },
      "execution_count": 28,
      "outputs": [
        {
          "output_type": "execute_result",
          "data": {
            "text/plain": [
              "2"
            ]
          },
          "metadata": {},
          "execution_count": 28
        }
      ]
    },
    {
      "cell_type": "code",
      "source": [
        "numbers[0]"
      ],
      "metadata": {
        "colab": {
          "base_uri": "https://localhost:8080/"
        },
        "id": "IZ-Y4YAEdcFE",
        "outputId": "61d863a3-78dc-46c0-d283-6f51044e2f53"
      },
      "execution_count": 29,
      "outputs": [
        {
          "output_type": "execute_result",
          "data": {
            "text/plain": [
              "[1, 2, 3]"
            ]
          },
          "metadata": {},
          "execution_count": 29
        }
      ]
    },
    {
      "cell_type": "code",
      "source": [
        "numbers[0][1]"
      ],
      "metadata": {
        "colab": {
          "base_uri": "https://localhost:8080/"
        },
        "id": "3opEE6CXdm-X",
        "outputId": "6447a738-e651-4122-ad8f-b5bf763cb5cf"
      },
      "execution_count": 31,
      "outputs": [
        {
          "output_type": "execute_result",
          "data": {
            "text/plain": [
              "2"
            ]
          },
          "metadata": {},
          "execution_count": 31
        }
      ]
    },
    {
      "cell_type": "markdown",
      "source": [
        "Ex.\n",
        "1. 2x2 모양의 [0 , 10] 범위의 정수 난수들을 저장하는 2차원 리스트. array1을 만드세요\n",
        "1. 2x2 모양의 [0 , 10] 범위의 정수 난수들을 저장하는 2차원 리스트. array2을 만드세요\n",
        "1. array 1과 array2의 같은 인덱스의 원소들끼리의 덧셈 결과를 저장하는 2차원 리스트 add를 만들고 출력."
      ],
      "metadata": {
        "id": "eKoInXOsd1nL"
      }
    },
    {
      "cell_type": "code",
      "source": [
        "import random"
      ],
      "metadata": {
        "id": "zOUUILgmel0B"
      },
      "execution_count": 32,
      "outputs": []
    },
    {
      "cell_type": "code",
      "source": [
        "#array1 = [\n",
        " # [random.randrange(0, 10) for _ in range(1)],\n",
        " # [random.randrange(0, 10) for _ in range(1)],\n",
        " # [random.randrange(0, 10) for _ in range(1)],\n",
        " # [random.randrange(0, 10) for _ in range(1)]\n",
        "#]\n",
        "#array1"
      ],
      "metadata": {
        "colab": {
          "base_uri": "https://localhost:8080/"
        },
        "id": "rOWGQsr_d1Dg",
        "outputId": "6e3ca4e4-e6bb-4cdb-c929-2a2a6e984110"
      },
      "execution_count": 41,
      "outputs": [
        {
          "output_type": "execute_result",
          "data": {
            "text/plain": [
              "[[6], [1], [2], [1]]"
            ]
          },
          "metadata": {},
          "execution_count": 41
        }
      ]
    },
    {
      "cell_type": "code",
      "source": [
        "#array2 = [\n",
        " # [random.randrange(0, 10) for _ in range(1)],\n",
        " # [random.randrange(0, 10) for _ in range(1)],\n",
        " # [random.randrange(0, 10) for _ in range(1)],\n",
        " # [random.randrange(0, 10) for _ in range(1)]\n",
        "#]\n",
        "#array2"
      ],
      "metadata": {
        "colab": {
          "base_uri": "https://localhost:8080/"
        },
        "id": "bTr5F6IrfJK5",
        "outputId": "5aaae59e-3276-416a-cb0e-6011df139913"
      },
      "execution_count": 42,
      "outputs": [
        {
          "output_type": "execute_result",
          "data": {
            "text/plain": [
              "[[1], [2], [2], [4]]"
            ]
          },
          "metadata": {},
          "execution_count": 42
        }
      ]
    },
    {
      "cell_type": "code",
      "source": [
        "#add = [\n",
        "  #  [array1[i][0] + array2[i][0] for i in range(len(array1))]\n",
        "#]\n",
        "#print(add)"
      ],
      "metadata": {
        "colab": {
          "base_uri": "https://localhost:8080/"
        },
        "id": "EsrrKEO7fY8A",
        "outputId": "a5e5896c-c440-47ff-d050-f3f60b48f397"
      },
      "execution_count": 43,
      "outputs": [
        {
          "output_type": "stream",
          "name": "stdout",
          "text": [
            "[[7, 3, 4, 5]]\n"
          ]
        }
      ]
    },
    {
      "cell_type": "markdown",
      "source": [
        "## 선생님 코드"
      ],
      "metadata": {
        "id": "qITY3j1UlGBC"
      }
    },
    {
      "cell_type": "code",
      "source": [
        "array1 = [] # 1차원 리스트들을 저장할 빈 리스트.\n",
        "for _ in range(2): # 2번 반복\n",
        "    row = [] # 난수들을 저장할 빈 리스트\n",
        "    for _ in range(2): #2번 반복\n",
        "        row.append(random.randrange(10)) # 난수를 row에 추가\n",
        "    array1.append(row) # 난수 2개를 갖는 1차원 리스트를 array1에 추가.\n",
        "\n",
        "array1"
      ],
      "metadata": {
        "colab": {
          "base_uri": "https://localhost:8080/"
        },
        "id": "kqrEoXnllIEa",
        "outputId": "ce9ea942-5616-4236-d0e9-4a6c9561b1ff"
      },
      "execution_count": 50,
      "outputs": [
        {
          "output_type": "execute_result",
          "data": {
            "text/plain": [
              "[[7, 2], [6, 7]]"
            ]
          },
          "metadata": {},
          "execution_count": 50
        }
      ]
    },
    {
      "cell_type": "code",
      "source": [
        " array2 = [[random.randrange(10) for _ in range(2)] for _ in range(2)]\n",
        " array2"
      ],
      "metadata": {
        "colab": {
          "base_uri": "https://localhost:8080/"
        },
        "id": "oFIf6Pcrl_tr",
        "outputId": "a146cee0-b884-4c3f-f25f-24e81d2bdb4d"
      },
      "execution_count": 51,
      "outputs": [
        {
          "output_type": "execute_result",
          "data": {
            "text/plain": [
              "[[0, 4], [0, 1]]"
            ]
          },
          "metadata": {},
          "execution_count": 51
        }
      ]
    },
    {
      "cell_type": "code",
      "source": [
        "add = [] # 1차원 배열들을 저장할 빈 배열\n",
        "for row1 , row2 in zip(array1 , array2):\n",
        "    #print(row1, row2)\n",
        "    temp = [] # 덧셈 결과를 저장할 빈 배열\n",
        "    for x, y in zip(row1, row2):\n",
        "        temp.append(x + y)\n",
        "    add.append(temp)\n",
        "add"
      ],
      "metadata": {
        "colab": {
          "base_uri": "https://localhost:8080/"
        },
        "id": "ft-VAfRPnfd_",
        "outputId": "fdc94082-a0e9-4740-a59e-5f592f6cfc7e"
      },
      "execution_count": 53,
      "outputs": [
        {
          "output_type": "execute_result",
          "data": {
            "text/plain": [
              "[[7, 6], [6, 8]]"
            ]
          },
          "metadata": {},
          "execution_count": 53
        }
      ]
    },
    {
      "cell_type": "code",
      "source": [
        "[[x + y for x, y in zip(row1, row2)]\n",
        " for row1, row2 in zip(array1, array2)]"
      ],
      "metadata": {
        "id": "xFSHQyNQpM7S"
      },
      "execution_count": null,
      "outputs": []
    },
    {
      "cell_type": "markdown",
      "source": [
        "# set(집합)\n",
        "* 중복된 데이터를 허용하지 않음 : `{1, 2, 2, 3, 3} = {1, 2, 3}`\n",
        "* 인덱스 기반의 자료 구조가 아님. 인덱스가 없음.\n",
        "    * 데이터의 저장 순서가 중요하지 않음. : `{1, 2, 3} = {3, 1, 2}`\n",
        "    * indexing, slicing 기능을 제공하지 않음.\n",
        "    * for-in 구문에서 사용할 수 있는 iterable 타입."
      ],
      "metadata": {
        "id": "By98dER1qMzA"
      }
    },
    {
      "cell_type": "code",
      "source": [
        "s = {1, 2, 2, 3, 3}\n",
        "s"
      ],
      "metadata": {
        "colab": {
          "base_uri": "https://localhost:8080/"
        },
        "id": "n3mWMIaYrQCK",
        "outputId": "746a68a8-2c04-43f3-a425-1c5b37191345"
      },
      "execution_count": 54,
      "outputs": [
        {
          "output_type": "execute_result",
          "data": {
            "text/plain": [
              "{1, 2, 3}"
            ]
          },
          "metadata": {},
          "execution_count": 54
        }
      ]
    },
    {
      "cell_type": "code",
      "source": [
        "type(s)"
      ],
      "metadata": {
        "colab": {
          "base_uri": "https://localhost:8080/"
        },
        "id": "dsjBLlgqrpPo",
        "outputId": "6bf70102-83c3-4285-f0a2-6be0fd50a297"
      },
      "execution_count": 55,
      "outputs": [
        {
          "output_type": "execute_result",
          "data": {
            "text/plain": [
              "set"
            ]
          },
          "metadata": {},
          "execution_count": 55
        }
      ]
    },
    {
      "cell_type": "markdown",
      "source": [
        "## set의 기능(메서드)\n"
      ],
      "metadata": {
        "id": "KGi_VYc-rsep"
      }
    },
    {
      "cell_type": "code",
      "source": [
        "s"
      ],
      "metadata": {
        "colab": {
          "base_uri": "https://localhost:8080/"
        },
        "id": "pL8vw1Dfr0GS",
        "outputId": "f9fd3929-b3c3-4dcb-8f14-222e80f6e046"
      },
      "execution_count": 56,
      "outputs": [
        {
          "output_type": "execute_result",
          "data": {
            "text/plain": [
              "{1, 2, 3}"
            ]
          },
          "metadata": {},
          "execution_count": 56
        }
      ]
    },
    {
      "cell_type": "code",
      "source": [
        "s.add(5) # set에 원소 추가\n",
        "s"
      ],
      "metadata": {
        "colab": {
          "base_uri": "https://localhost:8080/"
        },
        "id": "FU8Si6VLrrBm",
        "outputId": "004e4b31-85d8-42a2-f551-6d95de1f2b5b"
      },
      "execution_count": 57,
      "outputs": [
        {
          "output_type": "execute_result",
          "data": {
            "text/plain": [
              "{1, 2, 3, 5}"
            ]
          },
          "metadata": {},
          "execution_count": 57
        }
      ]
    },
    {
      "cell_type": "code",
      "source": [
        "s.add(5)\n",
        "s"
      ],
      "metadata": {
        "colab": {
          "base_uri": "https://localhost:8080/"
        },
        "id": "xqunsq9YsPVZ",
        "outputId": "864c647b-2ebd-4e1d-bd0c-8a1f03a7485b"
      },
      "execution_count": 58,
      "outputs": [
        {
          "output_type": "execute_result",
          "data": {
            "text/plain": [
              "{1, 2, 3, 5}"
            ]
          },
          "metadata": {},
          "execution_count": 58
        }
      ]
    },
    {
      "cell_type": "code",
      "source": [
        "s.remove(3) # set의 원소를 삭제 삭제할 원소를 아규먼트로 전달.\n",
        "s"
      ],
      "metadata": {
        "colab": {
          "base_uri": "https://localhost:8080/"
        },
        "id": "_-DrjXUEsf_3",
        "outputId": "18789655-e659-4895-8160-75a8d151b262"
      },
      "execution_count": 59,
      "outputs": [
        {
          "output_type": "execute_result",
          "data": {
            "text/plain": [
              "{1, 2, 5}"
            ]
          },
          "metadata": {},
          "execution_count": 59
        }
      ]
    },
    {
      "cell_type": "code",
      "source": [
        "s.pop()\n",
        "s"
      ],
      "metadata": {
        "colab": {
          "base_uri": "https://localhost:8080/"
        },
        "id": "pUtntmjdsjRa",
        "outputId": "df3ee1f2-f20f-4cfd-ceb4-a2d63eac4d8a"
      },
      "execution_count": 60,
      "outputs": [
        {
          "output_type": "execute_result",
          "data": {
            "text/plain": [
              "{2, 5}"
            ]
          },
          "metadata": {},
          "execution_count": 60
        }
      ]
    },
    {
      "cell_type": "code",
      "source": [
        "s1 = {1, 2, 3, 4}\n",
        "s2 = {2, 3, 5, 6}"
      ],
      "metadata": {
        "id": "0jvyVdHDtiU7"
      },
      "execution_count": 64,
      "outputs": []
    },
    {
      "cell_type": "code",
      "source": [
        "s1.union(s2) # 합집합"
      ],
      "metadata": {
        "colab": {
          "base_uri": "https://localhost:8080/"
        },
        "id": "J59NU4ultp1y",
        "outputId": "ec423e29-5984-438d-b6ad-a79208e63920"
      },
      "execution_count": 65,
      "outputs": [
        {
          "output_type": "execute_result",
          "data": {
            "text/plain": [
              "{1, 2, 3, 4, 5, 6}"
            ]
          },
          "metadata": {},
          "execution_count": 65
        }
      ]
    },
    {
      "cell_type": "code",
      "source": [
        "s1.difference(s2) # 차집합: s1 - s2"
      ],
      "metadata": {
        "colab": {
          "base_uri": "https://localhost:8080/"
        },
        "id": "77bdWwlht3a4",
        "outputId": "af18bec8-3d1b-4fb0-dda8-8e8e08ce42f1"
      },
      "execution_count": 66,
      "outputs": [
        {
          "output_type": "execute_result",
          "data": {
            "text/plain": [
              "{1, 4}"
            ]
          },
          "metadata": {},
          "execution_count": 66
        }
      ]
    },
    {
      "cell_type": "code",
      "source": [
        "s2.difference(s1) # 차집합: s2- s1"
      ],
      "metadata": {
        "colab": {
          "base_uri": "https://localhost:8080/"
        },
        "id": "t_pmir5Ft-Zp",
        "outputId": "87da6261-691d-42bc-8048-12612b62d625"
      },
      "execution_count": 67,
      "outputs": [
        {
          "output_type": "execute_result",
          "data": {
            "text/plain": [
              "{5, 6}"
            ]
          },
          "metadata": {},
          "execution_count": 67
        }
      ]
    },
    {
      "cell_type": "markdown",
      "source": [
        "#dict\n",
        "* dictionary(사전) 형식의 데이터 타입.\n",
        "* 키(key)를 기반으로 값(value)를 저장하는 데이터 타입.\n",
        "    * list, tuple: 인덱스 기반의 데이터 타입.\n",
        "    * dict : key-value 기반의 데이터 타입.\n",
        "    * dict에서 key의 역활은 1개 아이템의 값(value)를 찾기 위한 용도."
      ],
      "metadata": {
        "id": "WgIzpfeAuFYl"
      }
    },
    {
      "cell_type": "code",
      "source": [
        "students = {1:'홍길동', 2: '허균', 3: '오썜'}\n",
        "students"
      ],
      "metadata": {
        "colab": {
          "base_uri": "https://localhost:8080/"
        },
        "id": "7DXvNC5fvuNp",
        "outputId": "63aa69c9-4025-49ef-a148-627e99ed8c48"
      },
      "execution_count": 68,
      "outputs": [
        {
          "output_type": "execute_result",
          "data": {
            "text/plain": [
              "{1: '홍길동', 2: '허균', 3: '오썜'}"
            ]
          },
          "metadata": {},
          "execution_count": 68
        }
      ]
    },
    {
      "cell_type": "code",
      "source": [
        "type(students)"
      ],
      "metadata": {
        "colab": {
          "base_uri": "https://localhost:8080/"
        },
        "id": "FNf3BQrFzxU2",
        "outputId": "08674acf-a501-4301-a786-6eaf6467623e"
      },
      "execution_count": 69,
      "outputs": [
        {
          "output_type": "execute_result",
          "data": {
            "text/plain": [
              "dict"
            ]
          },
          "metadata": {},
          "execution_count": 69
        }
      ]
    },
    {
      "cell_type": "markdown",
      "source": [
        "`dict`에서 키를 사용하는 방법은 `list` 또는 `tuple`과 마찬가지로 인덱스 연산자(`\n",
        "[]`)를 사용함."
      ],
      "metadata": {
        "id": "X-WdK9dI0GzA"
      }
    },
    {
      "cell_type": "code",
      "source": [
        "students[1] # dict에서 key가 1인 아이템의 value"
      ],
      "metadata": {
        "colab": {
          "base_uri": "https://localhost:8080/",
          "height": 35
        },
        "id": "6IwD95nc0bZs",
        "outputId": "8c3cba20-0ddd-4a9a-ba48-5a59a41bc923"
      },
      "execution_count": 70,
      "outputs": [
        {
          "output_type": "execute_result",
          "data": {
            "text/plain": [
              "'홍길동'"
            ],
            "application/vnd.google.colaboratory.intrinsic+json": {
              "type": "string"
            }
          },
          "metadata": {},
          "execution_count": 70
        }
      ]
    },
    {
      "cell_type": "code",
      "source": [
        "students[10] = '홍길동' # dict에 새로운 key-value 아이템을 추가\n",
        "students"
      ],
      "metadata": {
        "colab": {
          "base_uri": "https://localhost:8080/"
        },
        "id": "GAS08dI6017U",
        "outputId": "f61ac200-8953-4e55-8d5e-3fb69acefae1"
      },
      "execution_count": 71,
      "outputs": [
        {
          "output_type": "execute_result",
          "data": {
            "text/plain": [
              "{1: '홍길동', 2: '허균', 3: '오썜', 10: '홍길동'}"
            ]
          },
          "metadata": {},
          "execution_count": 71
        }
      ]
    },
    {
      "cell_type": "code",
      "source": [
        "students[3] = 'scott' # dict에서 key에 해당하는 value를 변경.\n",
        "students"
      ],
      "metadata": {
        "colab": {
          "base_uri": "https://localhost:8080/"
        },
        "id": "zhfnWoGk1cRp",
        "outputId": "8ddadcf3-a134-469a-b94a-5271dad788b3"
      },
      "execution_count": 72,
      "outputs": [
        {
          "output_type": "execute_result",
          "data": {
            "text/plain": [
              "{1: '홍길동', 2: '허균', 3: 'scott', 10: '홍길동'}"
            ]
          },
          "metadata": {},
          "execution_count": 72
        }
      ]
    },
    {
      "cell_type": "code",
      "source": [
        "students.pop(3) # dict에서 해당하는 key의 아이템(key : value)을 삭제\n",
        "students"
      ],
      "metadata": {
        "colab": {
          "base_uri": "https://localhost:8080/"
        },
        "id": "sbjjty9117M2",
        "outputId": "14aa2bef-5c86-4aad-fa07-374de9aa550e"
      },
      "execution_count": 73,
      "outputs": [
        {
          "output_type": "execute_result",
          "data": {
            "text/plain": [
              "{1: '홍길동', 2: '허균', 10: '홍길동'}"
            ]
          },
          "metadata": {},
          "execution_count": 73
        }
      ]
    },
    {
      "cell_type": "code",
      "source": [
        "book = {\n",
        "    'title': '점프 투 파이썬',\n",
        "    'author': ['박응용','웨스 매키니'],\n",
        "    'isbn' : 123456789\n",
        "}\n",
        "book"
      ],
      "metadata": {
        "colab": {
          "base_uri": "https://localhost:8080/"
        },
        "id": "mKZqdj_m2qt7",
        "outputId": "6fdbe06d-cc16-46b0-d82a-8f53e94453c5"
      },
      "execution_count": 74,
      "outputs": [
        {
          "output_type": "execute_result",
          "data": {
            "text/plain": [
              "{'title': '점프 투 파이썬', 'author': ['박응용', '웨스 매키니'], 'isbn': 123456789}"
            ]
          },
          "metadata": {},
          "execution_count": 74
        }
      ]
    },
    {
      "cell_type": "code",
      "source": [
        "book['title']"
      ],
      "metadata": {
        "colab": {
          "base_uri": "https://localhost:8080/",
          "height": 35
        },
        "id": "k2j5PNNo3S6S",
        "outputId": "9aca872b-fcc0-490e-c8d0-7e607b3e8078"
      },
      "execution_count": 75,
      "outputs": [
        {
          "output_type": "execute_result",
          "data": {
            "text/plain": [
              "'점프 투 파이썬'"
            ],
            "application/vnd.google.colaboratory.intrinsic+json": {
              "type": "string"
            }
          },
          "metadata": {},
          "execution_count": 75
        }
      ]
    },
    {
      "cell_type": "code",
      "source": [
        "book['author']"
      ],
      "metadata": {
        "colab": {
          "base_uri": "https://localhost:8080/"
        },
        "id": "1dZlXSKz3fhz",
        "outputId": "e96e9aa0-043e-488b-d4a1-c57d1629b058"
      },
      "execution_count": 76,
      "outputs": [
        {
          "output_type": "execute_result",
          "data": {
            "text/plain": [
              "['박응용', '웨스 매키니']"
            ]
          },
          "metadata": {},
          "execution_count": 76
        }
      ]
    },
    {
      "cell_type": "code",
      "source": [
        "book['author'][0]"
      ],
      "metadata": {
        "colab": {
          "base_uri": "https://localhost:8080/",
          "height": 35
        },
        "id": "QAOtVhZU3jBE",
        "outputId": "69c84507-7e30-4870-afab-d404e68366b3"
      },
      "execution_count": 77,
      "outputs": [
        {
          "output_type": "execute_result",
          "data": {
            "text/plain": [
              "'박응용'"
            ],
            "application/vnd.google.colaboratory.intrinsic+json": {
              "type": "string"
            }
          },
          "metadata": {},
          "execution_count": 77
        }
      ]
    },
    {
      "cell_type": "markdown",
      "source": [
        "#dict&for\n"
      ],
      "metadata": {
        "id": "YUMlZwgw31Cv"
      }
    },
    {
      "cell_type": "code",
      "source": [
        "contact = {\n",
        "    'no': 1,\n",
        "    'name':'오썜',\n",
        "    'phones' : ['010-0000-0000' , '02-0000-00000'],\n",
        "    'emails':{\n",
        "        'company': 'jake@itwill.co.kr',\n",
        "        'personal': 'jake@naver.com'\n",
        "    }\n",
        "}\n",
        "contact"
      ],
      "metadata": {
        "colab": {
          "base_uri": "https://localhost:8080/"
        },
        "id": "gmVr1HBn33_A",
        "outputId": "94ece1fc-10b4-4858-9c55-4596b4d55a65"
      },
      "execution_count": 79,
      "outputs": [
        {
          "output_type": "execute_result",
          "data": {
            "text/plain": [
              "{'no': 1,\n",
              " 'name': '오썜',\n",
              " 'phones': ['010-0000-0000', '02-0000-00000'],\n",
              " 'emails': {'company': 'jake@itwill.co.kr', 'personal': 'jake@naver.com'}}"
            ]
          },
          "metadata": {},
          "execution_count": 79
        }
      ]
    },
    {
      "cell_type": "code",
      "source": [
        "for k in contact:\n",
        "    print(k)"
      ],
      "metadata": {
        "colab": {
          "base_uri": "https://localhost:8080/"
        },
        "id": "XcpAuSek4iOw",
        "outputId": "eb912dbf-1299-4482-fcaf-df9a42308261"
      },
      "execution_count": 80,
      "outputs": [
        {
          "output_type": "stream",
          "name": "stdout",
          "text": [
            "no\n",
            "name\n",
            "phones\n",
            "emails\n"
          ]
        }
      ]
    },
    {
      "cell_type": "markdown",
      "source": [
        "for_in 구문에서 dict를 사용하면 키(key)를 iteration함!"
      ],
      "metadata": {
        "id": "2Z5OH0bd40iy"
      }
    },
    {
      "cell_type": "code",
      "source": [
        "for k in contact:\n",
        "    print(k, ':', contact[k])"
      ],
      "metadata": {
        "colab": {
          "base_uri": "https://localhost:8080/"
        },
        "id": "hcvHEVEG4_T8",
        "outputId": "a79c8857-1a05-47a4-9b9e-78d90a02834f"
      },
      "execution_count": 81,
      "outputs": [
        {
          "output_type": "stream",
          "name": "stdout",
          "text": [
            "no : 1\n",
            "name : 오썜\n",
            "phones : ['010-0000-0000', '02-0000-00000']\n",
            "emails : {'company': 'jake@itwill.co.kr', 'personal': 'jake@naver.com'}\n"
          ]
        }
      ]
    },
    {
      "cell_type": "code",
      "source": [
        "contact.keys() # dict의 key들의 리스트를 리턴."
      ],
      "metadata": {
        "colab": {
          "base_uri": "https://localhost:8080/"
        },
        "id": "2J5LuHgv5gvk",
        "outputId": "0c9e5075-41fb-4e1d-9e9a-3516e287c7b7"
      },
      "execution_count": 82,
      "outputs": [
        {
          "output_type": "execute_result",
          "data": {
            "text/plain": [
              "dict_keys(['no', 'name', 'phones', 'emails'])"
            ]
          },
          "metadata": {},
          "execution_count": 82
        }
      ]
    },
    {
      "cell_type": "code",
      "source": [
        "contact.values() # dict의 value들의 리스트를 리턴."
      ],
      "metadata": {
        "colab": {
          "base_uri": "https://localhost:8080/"
        },
        "id": "tYMnrf-T5tfj",
        "outputId": "faeaed34-0a3b-4848-b831-bd23656eea55"
      },
      "execution_count": 83,
      "outputs": [
        {
          "output_type": "execute_result",
          "data": {
            "text/plain": [
              "dict_values([1, '오썜', ['010-0000-0000', '02-0000-00000'], {'company': 'jake@itwill.co.kr', 'personal': 'jake@naver.com'}])"
            ]
          },
          "metadata": {},
          "execution_count": 83
        }
      ]
    },
    {
      "cell_type": "code",
      "source": [
        "contact.items()\n",
        "# dict에서 (key, value) 튜플들의 리스트를 리턴."
      ],
      "metadata": {
        "colab": {
          "base_uri": "https://localhost:8080/"
        },
        "id": "4joctFn05_mU",
        "outputId": "b09b7452-19f8-4fca-ea4a-d6f497ba5a6d"
      },
      "execution_count": 85,
      "outputs": [
        {
          "output_type": "execute_result",
          "data": {
            "text/plain": [
              "dict_items([('no', 1), ('name', '오썜'), ('phones', ['010-0000-0000', '02-0000-00000']), ('emails', {'company': 'jake@itwill.co.kr', 'personal': 'jake@naver.com'})])"
            ]
          },
          "metadata": {},
          "execution_count": 85
        }
      ]
    },
    {
      "cell_type": "code",
      "source": [
        "for k , v in contact.items():\n",
        "    print(k, v)"
      ],
      "metadata": {
        "colab": {
          "base_uri": "https://localhost:8080/"
        },
        "id": "Ik8RSE5G60rR",
        "outputId": "07ca6e2a-88ba-439b-9935-94cdf5710f74"
      },
      "execution_count": 86,
      "outputs": [
        {
          "output_type": "stream",
          "name": "stdout",
          "text": [
            "no 1\n",
            "name 오썜\n",
            "phones ['010-0000-0000', '02-0000-00000']\n",
            "emails {'company': 'jake@itwill.co.kr', 'personal': 'jake@naver.com'}\n"
          ]
        }
      ]
    },
    {
      "cell_type": "markdown",
      "source": [
        "# Dictionary Comprehension"
      ],
      "metadata": {
        "id": "7PZEiZNP_F14"
      }
    },
    {
      "cell_type": "code",
      "source": [
        "emp_no = [1001, 1002, 2001, 2002] # 직원 번호\n",
        "emp_name = ['Ring' , 'Scott', 'Allen' 'Tiger'] # 직원 이름\n"
      ],
      "metadata": {
        "id": "NMTBkYUj_J-p"
      },
      "execution_count": 103,
      "outputs": []
    },
    {
      "cell_type": "code",
      "source": [
        "# emp_no를 key로 하고 emp_name을 value로 하는 dict를 만들고 출력\n",
        "emp_total = {\n",
        "    1001: 'Ring'\n",
        "}\n",
        "emp_total[1002] = 'Scott'\n",
        "emp_total[2001] = 'Allen'\n",
        "emp_total[2002] = 'Tiger'\n",
        "emp_total\n",
        "\n",
        ""
      ],
      "metadata": {
        "colab": {
          "base_uri": "https://localhost:8080/"
        },
        "id": "e7yjsWjL_l0K",
        "outputId": "ae2518d8-05c1-407d-8bbb-6423b638f968"
      },
      "execution_count": 100,
      "outputs": [
        {
          "output_type": "execute_result",
          "data": {
            "text/plain": [
              "{1001: 'Ring', 1002: 'Scott', 2001: 'Allen', 2002: 'Tiger'}"
            ]
          },
          "metadata": {},
          "execution_count": 100
        }
      ]
    },
    {
      "cell_type": "code",
      "source": [
        "for k in emp_total:\n",
        "    print(k)"
      ],
      "metadata": {
        "colab": {
          "base_uri": "https://localhost:8080/"
        },
        "id": "XjT_nvhXA9V7",
        "outputId": "9be84909-97d6-4fd2-f38d-739c1f416358"
      },
      "execution_count": 95,
      "outputs": [
        {
          "output_type": "stream",
          "name": "stdout",
          "text": [
            "1001\n",
            "1002\n",
            "2001\n",
            "2002\n"
          ]
        }
      ]
    },
    {
      "cell_type": "code",
      "source": [
        "for k , v in emp_total.items():\n",
        "    print(k, v)"
      ],
      "metadata": {
        "colab": {
          "base_uri": "https://localhost:8080/"
        },
        "id": "iNKbvDqoA__C",
        "outputId": "976944b0-b6bf-485e-af9a-e0d943ea789d"
      },
      "execution_count": 96,
      "outputs": [
        {
          "output_type": "stream",
          "name": "stdout",
          "text": [
            "1001 Ring\n",
            "1002 Scott\n",
            "2001 Allen\n",
            "2002 Tiger\n"
          ]
        }
      ]
    },
    {
      "cell_type": "markdown",
      "source": [
        "## 선생님 코드"
      ],
      "metadata": {
        "id": "YPY9PMtfBHi2"
      }
    },
    {
      "cell_type": "code",
      "source": [
        "emp = {} # key-value 저장할 빈 dict\n",
        "for no, name in zip (emp_no, emp_name): # 리스트의 원소 개수만큼 반복\n",
        "    emp[no] = name #dict에 key-value아이템을 저장\n",
        "\n",
        "emp"
      ],
      "metadata": {
        "colab": {
          "base_uri": "https://localhost:8080/"
        },
        "id": "QI_bJknmBI-r",
        "outputId": "bb2f9a36-78ca-48a9-9826-2481cd416084"
      },
      "execution_count": 104,
      "outputs": [
        {
          "output_type": "execute_result",
          "data": {
            "text/plain": [
              "{1001: 'Ring', 1002: 'Scott', 2001: 'AllenTiger'}"
            ]
          },
          "metadata": {},
          "execution_count": 104
        }
      ]
    },
    {
      "cell_type": "code",
      "source": [
        "{k: v for k, v in zip (emp_no, emp_name)}"
      ],
      "metadata": {
        "colab": {
          "base_uri": "https://localhost:8080/"
        },
        "id": "VwhWlEFXB5FU",
        "outputId": "762eb62a-2410-4bac-adc4-341033b56620"
      },
      "execution_count": 105,
      "outputs": [
        {
          "output_type": "execute_result",
          "data": {
            "text/plain": [
              "{1001: 'Ring', 1002: 'Scott', 2001: 'AllenTiger'}"
            ]
          },
          "metadata": {},
          "execution_count": 105
        }
      ]
    },
    {
      "cell_type": "code",
      "source": [
        "string = ['hello', 'java', 'sql', 'python', 'javascript']\n",
        "# 리스트 strings의 문자열을 키로 하고, 그 문자열의 길이를 값으로 하는 dict를 만들고 출력\n",
        "string_lengths = dict() # 빈 dict\n",
        "for s in string: # strings에서 원소들을 순서대로 반복하면서\n",
        "    string_lengths[s] = len(s) # 문자열(key) - 길이(value) 아이템을 dict에 추가\n",
        "string_lengths"
      ],
      "metadata": {
        "colab": {
          "base_uri": "https://localhost:8080/"
        },
        "id": "8MmAdPK7CRov",
        "outputId": "1a88d112-647a-4efc-e113-c38b6b46fdc4"
      },
      "execution_count": 110,
      "outputs": [
        {
          "output_type": "execute_result",
          "data": {
            "text/plain": [
              "{'hello': 5, 'java': 4, 'sql': 3, 'python': 6, 'javascript': 10}"
            ]
          },
          "metadata": {},
          "execution_count": 110
        }
      ]
    },
    {
      "cell_type": "code",
      "source": [
        "{k : len(k) for k in strings}"
      ],
      "metadata": {
        "colab": {
          "base_uri": "https://localhost:8080/"
        },
        "id": "mldKZQi1DyeE",
        "outputId": "6e1e27ec-3f8b-4d81-82ac-2d5f52ba804c"
      },
      "execution_count": 111,
      "outputs": [
        {
          "output_type": "execute_result",
          "data": {
            "text/plain": [
              "{'hello': 5, 'java': 4, 'sql': 3, 'python': 6, 'javascript': 10}"
            ]
          },
          "metadata": {},
          "execution_count": 111
        }
      ]
    }
  ]
}