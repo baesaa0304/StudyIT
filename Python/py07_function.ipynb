{
  "nbformat": 4,
  "nbformat_minor": 0,
  "metadata": {
    "colab": {
      "provenance": [],
      "include_colab_link": true
    },
    "kernelspec": {
      "name": "python3",
      "display_name": "Python 3"
    },
    "language_info": {
      "name": "python"
    }
  },
  "cells": [
    {
      "cell_type": "markdown",
      "metadata": {
        "id": "view-in-github",
        "colab_type": "text"
      },
      "source": [
        "<a href=\"https://colab.research.google.com/github/baesunyoung34/Python/blob/main/py07_function.ipynb\" target=\"_parent\"><img src=\"https://colab.research.google.com/assets/colab-badge.svg\" alt=\"Open In Colab\"/></a>"
      ]
    },
    {
      "cell_type": "markdown",
      "source": [
        "# Function(함수)"
      ],
      "metadata": {
        "id": "CJm2Olp5FBCO"
      }
    },
    {
      "cell_type": "markdown",
      "source": [
        "*  function(함수): 기능을 수행하는 코드 블록.\n",
        "*  argument: 함수를 호출하는 곳에서 함수에게 전달하는 값.\n",
        "*  parameter: argument를 저장하기 위해서 함수 선언부에서 선언하는 지역 변수.\n",
        "*  return value: 함수가 기능의 수행 결과로 리턴하는 값.\n",
        "    *  return value가 있는 함수\n",
        "    *  return value가 없는 함수\n",
        "*  파이썬 함수 정의 방법:\n",
        "    ```\n",
        "    def function_name([param, ...]):\n",
        "        [\"\"\"문서화 주석 - 함수 기능 설명, 파라미터 설명, 리턴 값 설명\"\"\"]\n",
        "        함수 기능 구현\n",
        "        [return 값]\n",
        "    ```\n",
        "*  return value가 없는 경우에,\n",
        "    *  return 문장을 생략.\n",
        "    *  return None 명시할 수도 있음."
      ],
      "metadata": {
        "id": "Kw00pQ0PFFeF"
      }
    },
    {
      "cell_type": "code",
      "execution_count": 1,
      "metadata": {
        "id": "mk8RGKv3EwjA"
      },
      "outputs": [],
      "source": [
        "def subtract(x, y):\n",
        "    \"\"\"2개의 숫자 x, y를 전달받아서 x-y 결과를 리턴하는 함수.\n",
        "    \"\"\"\n",
        "    return x - y"
      ]
    },
    {
      "cell_type": "code",
      "source": [
        "result = subtract(1, 2)\n",
        "result"
      ],
      "metadata": {
        "colab": {
          "base_uri": "https://localhost:8080/"
        },
        "id": "HVQUXGhBIPYb",
        "outputId": "abda6913-5d4d-44b2-80af-a63548516d12"
      },
      "execution_count": 2,
      "outputs": [
        {
          "output_type": "execute_result",
          "data": {
            "text/plain": [
              "-1"
            ]
          },
          "metadata": {},
          "execution_count": 2
        }
      ]
    },
    {
      "cell_type": "code",
      "source": [
        "def repeat_message(message, n):\n",
        "    \"\"\"문자열(message)과 양의 정수(n)을 전달받아서, message를 n번 출력하는 함수.\n",
        "    \"\"\"\n",
        "    for _ in range(n):\n",
        "        print(message)\n",
        "\n",
        "    return None\n",
        "    # 리턴 값이 없으면 보통 return문을 생략하지만, return None으로 명시하기도 함."
      ],
      "metadata": {
        "id": "YjfQxDaqIhRZ"
      },
      "execution_count": 3,
      "outputs": []
    },
    {
      "cell_type": "code",
      "source": [
        "repeat_message('안녕하세요', 3)"
      ],
      "metadata": {
        "colab": {
          "base_uri": "https://localhost:8080/"
        },
        "id": "hz3hYv_TJu2T",
        "outputId": "9653a010-d346-4f31-d9a1-415cb6cb8bd0"
      },
      "execution_count": 4,
      "outputs": [
        {
          "output_type": "stream",
          "name": "stdout",
          "text": [
            "안녕하세요\n",
            "안녕하세요\n",
            "안녕하세요\n"
          ]
        }
      ]
    },
    {
      "cell_type": "code",
      "source": [
        "import random"
      ],
      "metadata": {
        "id": "gzYC8GJGrChB"
      },
      "execution_count": 5,
      "outputs": []
    },
    {
      "cell_type": "markdown",
      "source": [
        "## Ex 1.\n",
        "\n",
        "* 함수 이름: make_list\n",
        "* 기능: start 이상 end 미만의 정수 난수 n개를 갖는 리스트를 반환하는 함수.\n"
      ],
      "metadata": {
        "id": "aWZ6pJXbK4fp"
      }
    },
    {
      "cell_type": "code",
      "source": [
        "def make_list(start, end, n):\n",
        "    numbers = [random.randrange(start, end) for _ in range(n)]\n",
        "    return numbers"
      ],
      "metadata": {
        "id": "eOYMneQ6rLmm"
      },
      "execution_count": 6,
      "outputs": []
    },
    {
      "cell_type": "code",
      "source": [
        "make_list(0, 10, 5)"
      ],
      "metadata": {
        "colab": {
          "base_uri": "https://localhost:8080/"
        },
        "id": "czRoXgbKryaG",
        "outputId": "112255e5-97c1-482c-8906-449f1209ba5f"
      },
      "execution_count": 7,
      "outputs": [
        {
          "output_type": "execute_result",
          "data": {
            "text/plain": [
              "[6, 7, 6, 1, 4]"
            ]
          },
          "metadata": {},
          "execution_count": 7
        }
      ]
    },
    {
      "cell_type": "code",
      "source": [
        "make_list(1, 100, 10)"
      ],
      "metadata": {
        "colab": {
          "base_uri": "https://localhost:8080/"
        },
        "id": "_IDlnkdBssbm",
        "outputId": "ca45abbc-9a75-4efa-9300-b215c144541a"
      },
      "execution_count": 8,
      "outputs": [
        {
          "output_type": "execute_result",
          "data": {
            "text/plain": [
              "[13, 62, 81, 60, 3, 97, 51, 15, 62, 31]"
            ]
          },
          "metadata": {},
          "execution_count": 8
        }
      ]
    },
    {
      "cell_type": "markdown",
      "source": [
        "## Ex 2.\n",
        "\n",
        "* 함수 이름: calc_sum\n",
        "* 기능: 숫자들의 리스트를 전달받아서, 리스트의 모든 원소들의 합을 리턴하는 함수.\n"
      ],
      "metadata": {
        "id": "FQ2qbOgZLAQh"
      }
    },
    {
      "cell_type": "code",
      "source": [
        "def calc_sum(num_list):\n",
        "    total = 0\n",
        "    for x in num_list:\n",
        "        total += x\n",
        "\n",
        "    return total"
      ],
      "metadata": {
        "id": "AtJqP7T_s7YO"
      },
      "execution_count": 9,
      "outputs": []
    },
    {
      "cell_type": "code",
      "source": [
        "numbers = make_list(0, 10, 5)\n",
        "print(numbers)\n",
        "total = calc_sum(numbers)\n",
        "print(total)"
      ],
      "metadata": {
        "colab": {
          "base_uri": "https://localhost:8080/"
        },
        "id": "1SIMEvvMt0e0",
        "outputId": "fee87e3d-6942-4fd4-82d3-2c18c2c3fb10"
      },
      "execution_count": 10,
      "outputs": [
        {
          "output_type": "stream",
          "name": "stdout",
          "text": [
            "[7, 7, 2, 0, 4]\n",
            "20\n"
          ]
        }
      ]
    },
    {
      "cell_type": "markdown",
      "source": [
        "## Ex 3.\n",
        "\n",
        "* 함수 이름: calc_mean\n",
        "* 기능: 숫자들의 리스트를 전달받아서, 리스트의 원소들의 평균을 리턴하는 함수.\n"
      ],
      "metadata": {
        "id": "Qc8UwdBjLFfJ"
      }
    },
    {
      "cell_type": "code",
      "source": [
        "def calc_mean(num_list):\n",
        "    mean = calc_sum(num_list) / len(num_list)\n",
        "    return mean"
      ],
      "metadata": {
        "id": "qlRIwJyNvwrN"
      },
      "execution_count": 11,
      "outputs": []
    },
    {
      "cell_type": "code",
      "source": [
        "calc_mean(numbers)"
      ],
      "metadata": {
        "colab": {
          "base_uri": "https://localhost:8080/"
        },
        "id": "DOXk2-P3wPkM",
        "outputId": "03ca816d-71a2-4b87-8463-18c377cf6157"
      },
      "execution_count": 12,
      "outputs": [
        {
          "output_type": "execute_result",
          "data": {
            "text/plain": [
              "4.0"
            ]
          },
          "metadata": {},
          "execution_count": 12
        }
      ]
    },
    {
      "cell_type": "markdown",
      "source": [
        "## Ex 4.\n",
        "\n",
        "* 함수 이름: calc_var\n",
        "* 기능: 숫자들의 리스트를 전달받아서, 리스트의 원소들의 분산(variance)을 리턴하는 함수.\n",
        "    * 분산 = (값 - 평균)**2 들의 평균\n"
      ],
      "metadata": {
        "id": "-h4s5UMQLJOp"
      }
    },
    {
      "cell_type": "code",
      "source": [
        "def calc_var(num_list):\n",
        "    mean = calc_mean(num_list)\n",
        "    squares = [(x - mean) ** 2 for x in num_list]\n",
        "    variance = calc_mean(squares)\n",
        "    return variance"
      ],
      "metadata": {
        "id": "9Z9uhmpSJymQ"
      },
      "execution_count": 13,
      "outputs": []
    },
    {
      "cell_type": "code",
      "source": [
        "calc_var(numbers)"
      ],
      "metadata": {
        "colab": {
          "base_uri": "https://localhost:8080/"
        },
        "id": "0ICuTyjwyjR1",
        "outputId": "9939a24d-4060-45c7-b940-2f47bdd32911"
      },
      "execution_count": 14,
      "outputs": [
        {
          "output_type": "execute_result",
          "data": {
            "text/plain": [
              "7.6"
            ]
          },
          "metadata": {},
          "execution_count": 14
        }
      ]
    },
    {
      "cell_type": "code",
      "source": [
        "scores1 = [3, 4, 5, 6, 7]\n",
        "scores2 = [0, 1, 5, 9, 10]\n",
        "mean1 = calc_mean(scores1)\n",
        "mean2 = calc_mean(scores2)\n",
        "print(f'mean1 = {mean1}')\n",
        "print(f'mean2 = {mean2}')"
      ],
      "metadata": {
        "colab": {
          "base_uri": "https://localhost:8080/"
        },
        "id": "kNQk2cr7ynHM",
        "outputId": "1eb3167b-206a-407a-a2a0-c9bdd1485167"
      },
      "execution_count": 15,
      "outputs": [
        {
          "output_type": "stream",
          "name": "stdout",
          "text": [
            "mean1 = 5.0\n",
            "mean2 = 5.0\n"
          ]
        }
      ]
    },
    {
      "cell_type": "code",
      "source": [
        "print(calc_var(scores1))\n",
        "print(calc_var(scores2))"
      ],
      "metadata": {
        "colab": {
          "base_uri": "https://localhost:8080/"
        },
        "id": "cC_0CaJYzocM",
        "outputId": "3837240c-8e17-4114-ec60-98a16df7ecc9"
      },
      "execution_count": 16,
      "outputs": [
        {
          "output_type": "stream",
          "name": "stdout",
          "text": [
            "2.0\n",
            "16.4\n"
          ]
        }
      ]
    },
    {
      "cell_type": "code",
      "source": [
        "def make_lotto_list():\n",
        "    lottos = []\n",
        "    for _ in range(5):\n",
        "        lotto = set()  # set\n",
        "        while True:\n",
        "            lotto.add(random.randrange(1, 46))\n",
        "            if len(lotto) == 6:\n",
        "                break\n",
        "        lottos.append(lotto)\n",
        "    return lottos"
      ],
      "metadata": {
        "id": "aJYjlGcM0H2b"
      },
      "execution_count": 17,
      "outputs": []
    },
    {
      "cell_type": "code",
      "source": [
        "make_lotto_list()"
      ],
      "metadata": {
        "colab": {
          "base_uri": "https://localhost:8080/"
        },
        "id": "8OU6_Mii1PYs",
        "outputId": "7c6c820d-4679-4438-d0ac-1f659c6284a1"
      },
      "execution_count": 18,
      "outputs": [
        {
          "output_type": "execute_result",
          "data": {
            "text/plain": [
              "[{7, 14, 16, 18, 37, 40},\n",
              " {4, 5, 22, 23, 31, 36},\n",
              " {2, 3, 9, 10, 27, 31},\n",
              " {18, 19, 22, 32, 34, 44},\n",
              " {9, 10, 15, 25, 27, 40}]"
            ]
          },
          "metadata": {},
          "execution_count": 18
        }
      ]
    },
    {
      "cell_type": "markdown",
      "source": [
        "파이썬은 2개 이상의 값을 리턴한느 함수를 정의할수 있음. 함수를 호출한 곳에서는 리턴 값을 튜플로 취급하면 됨.\n",
        "\n",
        "```\n",
        "x, y = (1, 2) #decomposition (성분 분해)\n",
        "\n",
        "```"
      ],
      "metadata": {
        "id": "ja_foxrk5FFK"
      }
    },
    {
      "cell_type": "code",
      "source": [
        "def plus_and_minus(x, y):\n",
        "    return x + y, x- y"
      ],
      "metadata": {
        "id": "9qEOhvfx1RPT"
      },
      "execution_count": 20,
      "outputs": []
    },
    {
      "cell_type": "code",
      "source": [
        "result = plus_and_minus(1, 2)\n",
        "result"
      ],
      "metadata": {
        "colab": {
          "base_uri": "https://localhost:8080/"
        },
        "id": "IA-AmvF155xq",
        "outputId": "c1d45f41-16a4-4cf7-fa5d-caf4ec4cd87f"
      },
      "execution_count": 21,
      "outputs": [
        {
          "output_type": "execute_result",
          "data": {
            "text/plain": [
              "(3, -1)"
            ]
          },
          "metadata": {},
          "execution_count": 21
        }
      ]
    },
    {
      "cell_type": "code",
      "source": [
        "plus , minus = plus_and_minus(1 , 2)\n",
        "print(plus, minus)"
      ],
      "metadata": {
        "colab": {
          "base_uri": "https://localhost:8080/"
        },
        "id": "1L47qXqc6RB2",
        "outputId": "f3c2af32-6ebd-4f12-9620-b5603babe86a"
      },
      "execution_count": 23,
      "outputs": [
        {
          "output_type": "stream",
          "name": "stdout",
          "text": [
            "3 -1\n"
          ]
        }
      ]
    },
    {
      "cell_type": "markdown",
      "source": [
        "숫자들의 리스트를 전달받아서, 최댓값과 최솟값을 리턴하는 함수를 정의."
      ],
      "metadata": {
        "id": "mDNjHGaw6jSJ"
      }
    },
    {
      "cell_type": "code",
      "source": [
        "def find_max_and_min(num_list):\n",
        "    max = num_list[0] # 리스트의 첫번째 원소를 최댓값이라고 가정.\n",
        "    min = num_list[0] # 리스트의 첫번째 원소를 최솟값이라고 가정.\n",
        "    for x in num_list: # 리스트의 원소들을 처음부터 끝까지 순서대로 반복하면서,\n",
        "        if(x > max): #리스트에 있는 값이 max보다 크다면\n",
        "            max = x # 리스트에서 찾은 값으로 max를 변경.\n",
        "        if(x < min): # 리스트에서 찾은 값이 min보다 작다면\n",
        "            min = x  # 리스트에서 찾은 값으로 최소값을 변경\n",
        "    return max , min"
      ],
      "metadata": {
        "id": "-vZCES5K6iYf"
      },
      "execution_count": 25,
      "outputs": []
    },
    {
      "cell_type": "code",
      "source": [
        "numbers = make_list(0, 100 , 10)\n",
        "print(numbers)\n",
        "max, min = find_max_and_min(numbers)\n",
        "print (f'max = {max} , min = {min}')"
      ],
      "metadata": {
        "colab": {
          "base_uri": "https://localhost:8080/"
        },
        "id": "rgxx2pqd7leB",
        "outputId": "e234d1d1-8abb-448e-c684-a237c392b350"
      },
      "execution_count": 29,
      "outputs": [
        {
          "output_type": "stream",
          "name": "stdout",
          "text": [
            "[71, 46, 83, 14, 17, 88, 55, 92, 11, 86]\n",
            "max = 92 , min = 11\n"
          ]
        }
      ]
    },
    {
      "cell_type": "markdown",
      "source": [
        "숫자들의 리스트의 전달받아서 최댓값과 최댓값의 인덱스(위치)를 리턴하는 함수를 정의. 최댓값이 2개 이상인 경우, 먼저 나오는 최댓값의 인덱스를 리턴"
      ],
      "metadata": {
        "id": "2WNxTaOV9tY5"
      }
    },
    {
      "cell_type": "code",
      "source": [
        "def find_max_and_index(num_list):\n",
        "     max = num_list[0]\n",
        "     max_index = 0\n",
        "     for i , v in enumerate(num_list):\n",
        "        if(v > max):\n",
        "            max = v\n",
        "            max_index = i\n",
        "     return max, max_index"
      ],
      "metadata": {
        "id": "8IEeTkd2AqwB"
      },
      "execution_count": 32,
      "outputs": []
    },
    {
      "cell_type": "code",
      "source": [
        "numbers = [1, 100, 20, 100, 0, -1, 99]\n",
        "find_max_and_index(numbers)"
      ],
      "metadata": {
        "colab": {
          "base_uri": "https://localhost:8080/"
        },
        "id": "GPeHMgkR_5XV",
        "outputId": "2803c22a-4abf-4849-8a6f-5a12e00fe155"
      },
      "execution_count": 34,
      "outputs": [
        {
          "output_type": "execute_result",
          "data": {
            "text/plain": [
              "(100, 1)"
            ]
          },
          "metadata": {},
          "execution_count": 34
        }
      ]
    },
    {
      "cell_type": "markdown",
      "source": [
        "#Default argument(기본 인수)\n",
        "*   함수를 정의할 떄 파라미터 설정된 기본값.\n",
        "    *   함수를 호출할 때 파라미터에 전달하지 않으면, 기본값이 사용됨\n",
        "    *   함수를 호출할 때 파라미터에 값을 전달하면, 기본값은 무시되고 전달한 아규머튼가 사용됨.\n",
        "* **(주의)** 함수를 정의할 때, default argument를 갖는 파라미터들은 반드시 default argument를 갖지 않는 파라미터를 뒤에 선언해야 함!\n",
        "    * 기본값을 갖지 않는 파라미터들을 먼저 선언하고, 기본값을 갖는 파라미터들을 뒤에 선언해야 함."
      ],
      "metadata": {
        "id": "U9pXzOCdEHnR"
      }
    },
    {
      "cell_type": "code",
      "source": [
        "def repeat_message2(msg, n=1):\n",
        "    for _ in range(n):\n",
        "        print(msg)"
      ],
      "metadata": {
        "id": "tZQZ57XRFSi4"
      },
      "execution_count": 36,
      "outputs": []
    },
    {
      "cell_type": "code",
      "source": [
        "repeat_message2('배고프다')"
      ],
      "metadata": {
        "colab": {
          "base_uri": "https://localhost:8080/"
        },
        "id": "LPQpJgweF5ot",
        "outputId": "a2aeb46c-967b-40cf-abb0-be90f181f055"
      },
      "execution_count": 37,
      "outputs": [
        {
          "output_type": "stream",
          "name": "stdout",
          "text": [
            "배고프다\n"
          ]
        }
      ]
    },
    {
      "cell_type": "code",
      "source": [
        "repeat_message2('안녕하세요' , 3)"
      ],
      "metadata": {
        "colab": {
          "base_uri": "https://localhost:8080/"
        },
        "id": "DA7an5eYGG5z",
        "outputId": "3febce80-ff93-4933-8f54-8e65f2abf033"
      },
      "execution_count": 38,
      "outputs": [
        {
          "output_type": "stream",
          "name": "stdout",
          "text": [
            "안녕하세요\n",
            "안녕하세요\n",
            "안녕하세요\n"
          ]
        }
      ]
    },
    {
      "cell_type": "code",
      "source": [
        "#def test(n=1, msg):\n",
        "    #pass"
      ],
      "metadata": {
        "id": "fVH0JkgfGn41"
      },
      "execution_count": 40,
      "outputs": []
    },
    {
      "cell_type": "markdown",
      "source": [
        "#argument 전달 방법:\n",
        "* positional argument : 함수 정의에서 선언된 파라미터 순서대로 아규먼트들을 전달하는 방법.\n",
        "* keyword argument: `param=value` 형식으로 아규먼트들을 전달하는 방법.\n",
        "    * keyword argument 방식에서는 파라미터의 순서를 지키지 않아도 됨.\n",
        "* **(주의)** 함수를 호출할 때 positional 방식과 keyword 방식을 함께 사용하는 경우에는, 반드시 positional argument를 먼저 사용하고, keyword argument는 나중에 사용해야 함.    "
      ],
      "metadata": {
        "id": "86yvEttfHNYE"
      }
    },
    {
      "cell_type": "code",
      "source": [
        "def minus(x, y):\n",
        "    return x - y"
      ],
      "metadata": {
        "id": "RpelCU_ZI7Pc"
      },
      "execution_count": 41,
      "outputs": []
    },
    {
      "cell_type": "code",
      "source": [
        "minus(1 , 2) #positional argument 위치 그대로 아규먼트를 전달한다는 방식"
      ],
      "metadata": {
        "colab": {
          "base_uri": "https://localhost:8080/"
        },
        "id": "tP9lmMFmJHk0",
        "outputId": "1f1f60c8-3c5f-490c-8554-cd74fc8cd20b"
      },
      "execution_count": 42,
      "outputs": [
        {
          "output_type": "execute_result",
          "data": {
            "text/plain": [
              "-1"
            ]
          },
          "metadata": {},
          "execution_count": 42
        }
      ]
    },
    {
      "cell_type": "code",
      "source": [
        "minus(x=1,y=2) #keyword argument"
      ],
      "metadata": {
        "colab": {
          "base_uri": "https://localhost:8080/"
        },
        "id": "543oqtXlJYiv",
        "outputId": "a873ed70-c72b-4e67-a7b6-3d3165388f2b"
      },
      "execution_count": 43,
      "outputs": [
        {
          "output_type": "execute_result",
          "data": {
            "text/plain": [
              "-1"
            ]
          },
          "metadata": {},
          "execution_count": 43
        }
      ]
    },
    {
      "cell_type": "code",
      "source": [
        "minus(y=1, x=2) # keywoerd argument는 파리미터 순서(position)를 지키지 않아도 됨."
      ],
      "metadata": {
        "colab": {
          "base_uri": "https://localhost:8080/"
        },
        "id": "s7O54k4cJwYw",
        "outputId": "ec1db69c-9912-4c76-966a-bda6b8cb17f6"
      },
      "execution_count": 44,
      "outputs": [
        {
          "output_type": "execute_result",
          "data": {
            "text/plain": [
              "1"
            ]
          },
          "metadata": {},
          "execution_count": 44
        }
      ]
    },
    {
      "cell_type": "code",
      "source": [
        "minus(1, y=2) # position 아규먼트를 사용하고 keyword 를 나중에 써서 오류가 없음"
      ],
      "metadata": {
        "colab": {
          "base_uri": "https://localhost:8080/"
        },
        "id": "tmnCaalKKOCv",
        "outputId": "e1bb0158-24af-4d42-ed07-83c713391254"
      },
      "execution_count": 45,
      "outputs": [
        {
          "output_type": "execute_result",
          "data": {
            "text/plain": [
              "-1"
            ]
          },
          "metadata": {},
          "execution_count": 45
        }
      ]
    },
    {
      "cell_type": "code",
      "source": [
        "#minus(x=1, 2) 이거는 keyword가 먼저 왔기 때문에 쓸 수 없음."
      ],
      "metadata": {
        "id": "XrnAO0HAKhWe"
      },
      "execution_count": 47,
      "outputs": []
    },
    {
      "cell_type": "markdown",
      "source": [
        "#가변길이 인수(variable-length argument)\n",
        "* 함수를 호출할 때, 전달하는 argument의 개수가 임의로 변할 수 있는 것.\n",
        "    * argument를 전달하지 않아도 됨.\n",
        "* 함수를 정의할 때 파라미터 이름 앞에 '*'를 사용하면 됨         \n",
        "* 함수 내부에서는 가변길이 인수는 튜플로 취급.\n",
        "    * for _ in 반복문 사용가능.\n",
        "    * 인덱스 사용 가능.\n",
        "* **(주의)**\n",
        "    * 가변길이 인수는 keyword 방식으로는 전달할 수 없음.\n",
        "    * 함수를 정의할 때, 가변길이 인수를 갖는 파라미터는 오직 1개만 선언 가능.\n"
      ],
      "metadata": {
        "id": "ZmnwJI8rLXRY"
      }
    },
    {
      "cell_type": "code",
      "source": [
        "def add_all(*values):\n",
        "    total = 0\n",
        "    for x in values:\n",
        "        total += x\n",
        "\n",
        "    return total"
      ],
      "metadata": {
        "id": "G2hNgbixfb71"
      },
      "execution_count": 48,
      "outputs": []
    },
    {
      "cell_type": "code",
      "source": [
        "add_all() # 없어도 가능"
      ],
      "metadata": {
        "colab": {
          "base_uri": "https://localhost:8080/"
        },
        "id": "1rHSFmhefz1T",
        "outputId": "ab5bd812-647d-493c-dbbc-79b21a27c30e"
      },
      "execution_count": 49,
      "outputs": [
        {
          "output_type": "execute_result",
          "data": {
            "text/plain": [
              "0"
            ]
          },
          "metadata": {},
          "execution_count": 49
        }
      ]
    },
    {
      "cell_type": "code",
      "source": [
        "add_all(1, 2, 3, 4, 5) # 몇개를 전달해도 상관없음"
      ],
      "metadata": {
        "colab": {
          "base_uri": "https://localhost:8080/"
        },
        "id": "4glgoxLggLDF",
        "outputId": "6314e8b7-f1e4-479c-98f3-fa8e186dc841"
      },
      "execution_count": 52,
      "outputs": [
        {
          "output_type": "execute_result",
          "data": {
            "text/plain": [
              "15"
            ]
          },
          "metadata": {},
          "execution_count": 52
        }
      ]
    },
    {
      "cell_type": "code",
      "source": [
        "add_all(values=1)"
      ],
      "metadata": {
        "id": "BZuD8SSNgxzf"
      },
      "execution_count": null,
      "outputs": []
    },
    {
      "cell_type": "code",
      "source": [
        "#def test(*x , *y): *을 두개 들어간 파라미터는 만들수 없다.\n",
        "    #pass"
      ],
      "metadata": {
        "id": "vXn3LKpBg-D1"
      },
      "execution_count": 54,
      "outputs": []
    },
    {
      "cell_type": "code",
      "source": [
        "def test (*x , y):\n",
        "    print(x)\n",
        "    print(y)"
      ],
      "metadata": {
        "id": "wZl9D-9Ehest"
      },
      "execution_count": 55,
      "outputs": []
    },
    {
      "cell_type": "markdown",
      "source": [
        "가변길이 인수 뒤에 파라미터가 있는 경우, 그 파라미터는 keyword 방식으로만 아규먼트를 전달 할 수 있음."
      ],
      "metadata": {
        "id": "TfUlEmi0iVeW"
      }
    },
    {
      "cell_type": "code",
      "source": [
        "test(1, 2, 3, y=5)"
      ],
      "metadata": {
        "colab": {
          "base_uri": "https://localhost:8080/"
        },
        "id": "_l8Xp4MahvPz",
        "outputId": "c416be3f-1025-401d-db54-788e07ece9cf"
      },
      "execution_count": 57,
      "outputs": [
        {
          "output_type": "stream",
          "name": "stdout",
          "text": [
            "(1, 2, 3)\n",
            "5\n"
          ]
        }
      ]
    },
    {
      "cell_type": "code",
      "source": [
        "def keyword_only(*, x, y, z):\n",
        "    print(f'x={x}, y={y}, z={z}')"
      ],
      "metadata": {
        "id": "d3Ncugcyi8uf"
      },
      "execution_count": 58,
      "outputs": []
    },
    {
      "cell_type": "code",
      "source": [
        "keyword_only(x= 1, y=2, z=3) # 파리미터 앞에 키워드를 붙어줘야함"
      ],
      "metadata": {
        "colab": {
          "base_uri": "https://localhost:8080/"
        },
        "id": "mxLzTogTjPE0",
        "outputId": "8ad17f8c-6e0e-45e6-ce0e-f69315e0308b"
      },
      "execution_count": 59,
      "outputs": [
        {
          "output_type": "stream",
          "name": "stdout",
          "text": [
            "x=1, y=2, z=3\n"
          ]
        }
      ]
    },
    {
      "cell_type": "code",
      "source": [
        "print(1, 2, 3)\n",
        "print()\n",
        "print('hello')"
      ],
      "metadata": {
        "colab": {
          "base_uri": "https://localhost:8080/"
        },
        "id": "UpevPvG9jkOu",
        "outputId": "9f9facd1-3f7f-4fa1-e71d-bd70ab9dd332"
      },
      "execution_count": 60,
      "outputs": [
        {
          "output_type": "stream",
          "name": "stdout",
          "text": [
            "1 2 3\n",
            "\n",
            "hello\n"
          ]
        }
      ]
    },
    {
      "cell_type": "code",
      "source": [
        "print(1,2,3,sep='-')"
      ],
      "metadata": {
        "colab": {
          "base_uri": "https://localhost:8080/"
        },
        "id": "ReD0npPrkJoa",
        "outputId": "49892c8b-e7dd-4d66-a5c3-16ba4653e565"
      },
      "execution_count": 62,
      "outputs": [
        {
          "output_type": "stream",
          "name": "stdout",
          "text": [
            "1-2-3\n"
          ]
        }
      ]
    },
    {
      "cell_type": "code",
      "source": [
        "print('hello', end=' ')\n",
        "print('python')"
      ],
      "metadata": {
        "colab": {
          "base_uri": "https://localhost:8080/"
        },
        "id": "ABmRZvTUlHfG",
        "outputId": "a1e91973-272a-4346-9ad6-9002e819041d"
      },
      "execution_count": 64,
      "outputs": [
        {
          "output_type": "stream",
          "name": "stdout",
          "text": [
            "hello python\n"
          ]
        }
      ]
    },
    {
      "cell_type": "markdown",
      "source": [
        "# 가변길이 키워드 인수(variable-length keyword argument)\n",
        "* 함수를 정희할 때 파라미터 이름 앞에 `**`를 붙임\n",
        "* 가변길이 인수 : 함수를 호출할 때 전달한 아규먼트에 개수 제한이 없음.\n",
        "* keyword argument : 함수를 호출할 때 반드시 `param-value` 형식으로 전달해야 함.\n",
        "* 함수 내부에서 가변길이 키워드 인수는 dict로 취급함.\n",
        "* 함수 호출할 때 파라미터 이름은 아무렇게나 전달해도 됨.\n",
        "* 가변길이 키워드 인수는 함수에서 1개만 사용 가능."
      ],
      "metadata": {
        "id": "W5z_8143ltrn"
      }
    },
    {
      "cell_type": "code",
      "source": [
        "def test2(**kwargs):\n",
        "    print(kwargs)"
      ],
      "metadata": {
        "id": "0YvirK8Qm2hY"
      },
      "execution_count": 65,
      "outputs": []
    },
    {
      "cell_type": "code",
      "source": [
        "test2()"
      ],
      "metadata": {
        "colab": {
          "base_uri": "https://localhost:8080/"
        },
        "id": "rpwgj3lXnBAX",
        "outputId": "8f9f646c-d193-43e0-8aa6-ed36a9e421d8"
      },
      "execution_count": 66,
      "outputs": [
        {
          "output_type": "stream",
          "name": "stdout",
          "text": [
            "{}\n"
          ]
        }
      ]
    },
    {
      "cell_type": "code",
      "source": [
        "test2(x=1 , msg='hello')"
      ],
      "metadata": {
        "colab": {
          "base_uri": "https://localhost:8080/"
        },
        "id": "3ZMkc0NhnJiC",
        "outputId": "df894b8b-fb01-4fe5-c438-025deb260047"
      },
      "execution_count": 71,
      "outputs": [
        {
          "output_type": "stream",
          "name": "stdout",
          "text": [
            "{'x': 1, 'msg': 'hello'}\n"
          ]
        }
      ]
    },
    {
      "cell_type": "code",
      "source": [
        "def make_emp_info(emp_no,emp_name,**kwargs):\n",
        "    emp = {'emp_no' : emp_no, 'emp_name' : emp_name}\n",
        "    for k , v in kwargs.items():\n",
        "        emp[k] = v\n",
        "    return emp\n",
        ""
      ],
      "metadata": {
        "id": "j9PfRnKJn4CH"
      },
      "execution_count": 74,
      "outputs": []
    },
    {
      "cell_type": "code",
      "source": [
        "make_emp_info(1, 'king')"
      ],
      "metadata": {
        "colab": {
          "base_uri": "https://localhost:8080/"
        },
        "id": "g-nG0dD9oqAQ",
        "outputId": "671bc94d-e227-4680-8f40-d914e5394234"
      },
      "execution_count": 75,
      "outputs": [
        {
          "output_type": "execute_result",
          "data": {
            "text/plain": [
              "{'emp_no': 1, 'emp_name': 'king'}"
            ]
          },
          "metadata": {},
          "execution_count": 75
        }
      ]
    },
    {
      "cell_type": "code",
      "source": [
        "make_emp_info(2, '홍길동', email='gildong@test.com', dept='HR')"
      ],
      "metadata": {
        "colab": {
          "base_uri": "https://localhost:8080/"
        },
        "id": "gLuDBe07o52T",
        "outputId": "92ee2ab9-051b-47c8-dc05-e81c170a5e44"
      },
      "execution_count": 76,
      "outputs": [
        {
          "output_type": "execute_result",
          "data": {
            "text/plain": [
              "{'emp_no': 2, 'emp_name': '홍길동', 'email': 'gildong@test.com', 'dept': 'HR'}"
            ]
          },
          "metadata": {},
          "execution_count": 76
        }
      ]
    },
    {
      "cell_type": "code",
      "source": [
        "def print_msg(msg):\n",
        "    print(f'message = {msg}')"
      ],
      "metadata": {
        "id": "pwdN8FrgvaNn"
      },
      "execution_count": 82,
      "outputs": []
    },
    {
      "cell_type": "code",
      "source": [
        "print_msg('안녕하세요')"
      ],
      "metadata": {
        "colab": {
          "base_uri": "https://localhost:8080/"
        },
        "id": "VFNPO_irvn4u",
        "outputId": "2657075b-778e-4eec-ed88-b7866bb3cee4"
      },
      "execution_count": 83,
      "outputs": [
        {
          "output_type": "stream",
          "name": "stdout",
          "text": [
            "message = 안녕하세요\n"
          ]
        }
      ]
    },
    {
      "cell_type": "code",
      "source": [
        "print(None)"
      ],
      "metadata": {
        "colab": {
          "base_uri": "https://localhost:8080/"
        },
        "id": "5fyV_iRAwPyp",
        "outputId": "ba32c928-5a42-4933-b1eb-0cf3c301542d"
      },
      "execution_count": 85,
      "outputs": [
        {
          "output_type": "stream",
          "name": "stdout",
          "text": [
            "None\n"
          ]
        }
      ]
    },
    {
      "cell_type": "code",
      "source": [
        "print(print_msg('안녕하세요'))"
      ],
      "metadata": {
        "colab": {
          "base_uri": "https://localhost:8080/"
        },
        "id": "gEfRZYwyv56c",
        "outputId": "a8fcf789-c522-43a7-f2f1-cc889ec3b8b0"
      },
      "execution_count": 84,
      "outputs": [
        {
          "output_type": "stream",
          "name": "stdout",
          "text": [
            "message = 안녕하세요\n",
            "None\n"
          ]
        }
      ]
    }
  ]
}