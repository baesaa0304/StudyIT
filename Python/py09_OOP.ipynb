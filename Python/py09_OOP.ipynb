{
  "nbformat": 4,
  "nbformat_minor": 0,
  "metadata": {
    "colab": {
      "provenance": [],
      "authorship_tag": "ABX9TyPLKVRCos0atVP6bHztKhKK",
      "include_colab_link": true
    },
    "kernelspec": {
      "name": "python3",
      "display_name": "Python 3"
    },
    "language_info": {
      "name": "python"
    }
  },
  "cells": [
    {
      "cell_type": "markdown",
      "metadata": {
        "id": "view-in-github",
        "colab_type": "text"
      },
      "source": [
        "<a href=\"https://colab.research.google.com/github/baesunyoung34/Python/blob/main/py09_OOP.ipynb\" target=\"_parent\"><img src=\"https://colab.research.google.com/assets/colab-badge.svg\" alt=\"Open In Colab\"/></a>"
      ]
    },
    {
      "cell_type": "markdown",
      "source": [
        "# 객체 지향 프로그래밍(OOP: Object_Oriented Programing)"
      ],
      "metadata": {
        "id": "fPKI52J4z6Ao"
      }
    },
    {
      "cell_type": "code",
      "execution_count": 48,
      "metadata": {
        "id": "q0A0QKpuzsuF"
      },
      "outputs": [],
      "source": [
        "class Student:\n",
        "    # 생성자 함수: 생성자를 호출하면 파이썬 인터프리터 의해서 자동으로 호출되는 메서드.\n",
        "    def __init__(self, no, name, python, java, javascript):\n",
        "        self.no = no\n",
        "        self.name = name\n",
        "        self.python = python\n",
        "        self.java = java\n",
        "        self.javascript = javascript\n",
        "\n",
        "\n",
        "    def get_total(self):\n",
        "        #파이썬의 메서드는 멤버들의 접근할 때 반드시 self 키워드를 사용해야 함.\n",
        "        return self.python + self.java + self.javascript\n",
        "    def get_mean(self):\n",
        "        return self.get_total() / 3\n",
        "\n",
        "    def print_info(self):\n",
        "        print(f'Student(번호={self.no}, 이름={self.name}, 파이썬={self.python}, java={self.java}, javascript = {self.javascript})')"
      ]
    },
    {
      "cell_type": "code",
      "source": [
        "# Student 타입의 객체 생성\n",
        "student1 = Student(1, '홍길동' , 100, 60, 50) # 생성자 호출 : 생성자 이름 - 클래스 이름, new 키워드를 사용하지 않음."
      ],
      "metadata": {
        "id": "zSl-UatO17G5"
      },
      "execution_count": 49,
      "outputs": []
    },
    {
      "cell_type": "code",
      "source": [
        "print(student1) # 객체 student1을 문자열로 출력"
      ],
      "metadata": {
        "colab": {
          "base_uri": "https://localhost:8080/"
        },
        "id": "FIsRuPsA4PNX",
        "outputId": "2d3a9c69-2d9f-4a83-b58f-a24aff5d4e3b"
      },
      "execution_count": 50,
      "outputs": [
        {
          "output_type": "stream",
          "name": "stdout",
          "text": [
            "<__main__.Student object at 0x7f907d73bfa0>\n"
          ]
        }
      ]
    },
    {
      "cell_type": "code",
      "source": [
        "student1 # 객체 student1 의 식(expression)을 출력"
      ],
      "metadata": {
        "colab": {
          "base_uri": "https://localhost:8080/"
        },
        "id": "cJAMc1CI4gxU",
        "outputId": "9038c63c-d786-4c22-ca60-c951639828c1"
      },
      "execution_count": 51,
      "outputs": [
        {
          "output_type": "execute_result",
          "data": {
            "text/plain": [
              "<__main__.Student at 0x7f907d73bfa0>"
            ]
          },
          "metadata": {},
          "execution_count": 51
        }
      ]
    },
    {
      "cell_type": "code",
      "source": [
        "student1.no"
      ],
      "metadata": {
        "colab": {
          "base_uri": "https://localhost:8080/"
        },
        "id": "eB4xRBzx4qDf",
        "outputId": "c6a6a8d5-323a-4d5a-bc2a-bbc239c63755"
      },
      "execution_count": 52,
      "outputs": [
        {
          "output_type": "execute_result",
          "data": {
            "text/plain": [
              "1"
            ]
          },
          "metadata": {},
          "execution_count": 52
        }
      ]
    },
    {
      "cell_type": "code",
      "source": [
        "student1.name"
      ],
      "metadata": {
        "colab": {
          "base_uri": "https://localhost:8080/",
          "height": 35
        },
        "id": "rzfh-wyr50fX",
        "outputId": "fb9a52c2-f943-414b-8bd9-45f651b46d78"
      },
      "execution_count": 53,
      "outputs": [
        {
          "output_type": "execute_result",
          "data": {
            "text/plain": [
              "'홍길동'"
            ],
            "application/vnd.google.colaboratory.intrinsic+json": {
              "type": "string"
            }
          },
          "metadata": {},
          "execution_count": 53
        }
      ]
    },
    {
      "cell_type": "code",
      "source": [
        "student1.get_total()"
      ],
      "metadata": {
        "colab": {
          "base_uri": "https://localhost:8080/"
        },
        "id": "l4yV2uRn9UB-",
        "outputId": "d4cf950a-4e48-464a-a143-7457cdd8150a"
      },
      "execution_count": 54,
      "outputs": [
        {
          "output_type": "execute_result",
          "data": {
            "text/plain": [
              "210"
            ]
          },
          "metadata": {},
          "execution_count": 54
        }
      ]
    },
    {
      "cell_type": "code",
      "source": [
        "student1.get_mean()"
      ],
      "metadata": {
        "colab": {
          "base_uri": "https://localhost:8080/"
        },
        "id": "WNWxZX_l-LD7",
        "outputId": "12a0d2f8-86c2-4747-99cb-94610de26779"
      },
      "execution_count": 55,
      "outputs": [
        {
          "output_type": "execute_result",
          "data": {
            "text/plain": [
              "70.0"
            ]
          },
          "metadata": {},
          "execution_count": 55
        }
      ]
    },
    {
      "cell_type": "code",
      "source": [
        "student1.print_info()"
      ],
      "metadata": {
        "colab": {
          "base_uri": "https://localhost:8080/"
        },
        "id": "Y-lQAtG6-QpG",
        "outputId": "c729cd8e-d2da-423f-abca-abe7852f218f"
      },
      "execution_count": 56,
      "outputs": [
        {
          "output_type": "stream",
          "name": "stdout",
          "text": [
            "Student(번호=1, 이름=홍길동, 파이썬=100, java=60, javascript = 50)\n"
          ]
        }
      ]
    },
    {
      "cell_type": "code",
      "source": [
        "import math\n",
        "# math 모듈을 임포트 -> math.sqrt()"
      ],
      "metadata": {
        "id": "_8d258tmBjUO"
      },
      "execution_count": 58,
      "outputs": []
    },
    {
      "cell_type": "markdown",
      "source": [
        "# class : Point\n",
        "    * 2차원 평면의 점의 좌표 (x , y)를 표현하는 클래스\n",
        "* 생성자 함수 : x, y를 초기화 . x, y의 기본값은 0.\n",
        "* 메서드\n",
        "    * move : 점의 좌표를 원래 위치에서 dx , dy만큼 이동시키는 메서드.\n",
        "    * distance : 현재 점의 위치에서 다른 점까지의 거리를 계산하는 리턴하는 메서드.    \n",
        "        * `sqrt((x1 - x2)**2 + (y1 - y2) **2)`\n",
        " >>> $\\sqrt{(x_1 - x_2)^2 + (y_1 - y_2)^2} $       \n"
      ],
      "metadata": {
        "id": "Hrj2dzd0B1JJ"
      }
    },
    {
      "cell_type": "code",
      "source": [],
      "metadata": {
        "id": "g-cAy9RCB0pV"
      },
      "execution_count": 57,
      "outputs": []
    },
    {
      "cell_type": "code",
      "source": [
        "class Point:\n",
        "    def __init__(self, x=0, y=0):\n",
        "        self.x = x\n",
        "        self.y = y\n",
        "    def move(self, dx , dy):\n",
        "        self.x =+ dx\n",
        "        self.y =+ dy\n",
        "    def distance(self, pt):\n",
        "        return math.sqrt((self.x - pt.x) ** 2 + (self.y - pt.y) ** 2)\n",
        "\n"
      ],
      "metadata": {
        "id": "rGfM2tJdDkc-"
      },
      "execution_count": 59,
      "outputs": []
    },
    {
      "cell_type": "code",
      "source": [
        "pt1 = Point() # 생성자 함수의 default argument 사용\n",
        "pt1"
      ],
      "metadata": {
        "colab": {
          "base_uri": "https://localhost:8080/"
        },
        "id": "2lmMzyQDH9CB",
        "outputId": "fee8c162-5432-4fb1-e614-5f9443cc8977"
      },
      "execution_count": 64,
      "outputs": [
        {
          "output_type": "execute_result",
          "data": {
            "text/plain": [
              "<__main__.Point at 0x7f907d7392a0>"
            ]
          },
          "metadata": {},
          "execution_count": 64
        }
      ]
    },
    {
      "cell_type": "code",
      "source": [
        "print(f'x={pt1.x}, y={pt1.y}')"
      ],
      "metadata": {
        "colab": {
          "base_uri": "https://localhost:8080/"
        },
        "id": "HnQ6TG8AIdYx",
        "outputId": "3c378ffd-dad6-4eae-ccab-3bb435716337"
      },
      "execution_count": 65,
      "outputs": [
        {
          "output_type": "stream",
          "name": "stdout",
          "text": [
            "x=0, y=0\n"
          ]
        }
      ]
    },
    {
      "cell_type": "code",
      "source": [
        "pt1.move(1, 1)\n",
        "print(f'x={pt1.x}, y={pt1.y}')"
      ],
      "metadata": {
        "colab": {
          "base_uri": "https://localhost:8080/"
        },
        "id": "lkZjhzMeI8H5",
        "outputId": "18a53233-0f0b-46f8-94f1-1e6a06d9086b"
      },
      "execution_count": 66,
      "outputs": [
        {
          "output_type": "stream",
          "name": "stdout",
          "text": [
            "x=1, y=1\n"
          ]
        }
      ]
    },
    {
      "cell_type": "code",
      "source": [
        "pt2 = Point(1, 2)\n",
        "pt2"
      ],
      "metadata": {
        "colab": {
          "base_uri": "https://localhost:8080/"
        },
        "id": "lBKIPECRJJxV",
        "outputId": "323696f3-861d-437e-c32c-27c2aca4e596"
      },
      "execution_count": 72,
      "outputs": [
        {
          "output_type": "execute_result",
          "data": {
            "text/plain": [
              "<__main__.Point at 0x7f907d73a740>"
            ]
          },
          "metadata": {},
          "execution_count": 72
        }
      ]
    },
    {
      "cell_type": "code",
      "source": [
        "print(f'x={pt2.x}, y={pt2.y}')"
      ],
      "metadata": {
        "colab": {
          "base_uri": "https://localhost:8080/"
        },
        "id": "DxEaD4MLJNWi",
        "outputId": "299b9468-eaa2-4ad8-b02d-608f1e46bdcf"
      },
      "execution_count": 73,
      "outputs": [
        {
          "output_type": "stream",
          "name": "stdout",
          "text": [
            "x=1, y=2\n"
          ]
        }
      ]
    },
    {
      "cell_type": "code",
      "source": [
        "pt1.distance(pt2)"
      ],
      "metadata": {
        "colab": {
          "base_uri": "https://localhost:8080/"
        },
        "id": "NjBFp4piJqxR",
        "outputId": "1f632653-af38-4d91-9eb9-a9f9458d9db7"
      },
      "execution_count": 74,
      "outputs": [
        {
          "output_type": "execute_result",
          "data": {
            "text/plain": [
              "1.0"
            ]
          },
          "metadata": {},
          "execution_count": 74
        }
      ]
    },
    {
      "cell_type": "markdown",
      "source": [
        "#magic method\n"
      ],
      "metadata": {
        "id": "JkDjUN2COwI8"
      }
    },
    {
      "cell_type": "markdown",
      "source": [
        "모든 클래스가 같은 이름으로 가지고 있는 메서드.\n",
        "\n",
        "특별한 경우에 파이썬 인터프리터에 의해서 호출되는 메서드.\n",
        "\n",
        "* `__init_-()` :\n",
        "    * 생성자르 호출하면 자동으로 호출되는 메서드.\n",
        "    * 인스턴스 필드(프로퍼티)들을 초기화하는 메서드.\n",
        "* `__str__() : print()` 함수가 아규먼트 객체일 때 자동으로 호출되는 메서드\n",
        "*`__repr__()` : representation.\n",
        "    * 식(expression)을 출력할 때 자동으로 호출되는 메서드.\n",
        "    * `print()` 함수의 동작 방식:\n",
        "        * 객체를 출력하기 위해서, 그 객체의 `__str__()` 메서드를 호출함.\n",
        "        * `__str__()` 메서드가 없는 경우에는, `__repr__()` 메서드를 호출함.\n",
        "        *  `__str__()` 메서드와 `__repr__()` 메서드가 모두 없는 경우에는, 기본 문자열 (...object at Ox...)로 출력.\n",
        "             "
      ],
      "metadata": {
        "id": "m6RLz9P6O0dx"
      }
    },
    {
      "cell_type": "code",
      "source": [
        "class T:\n",
        "    def __str__(self):\n",
        "        return 'class T instance'\n",
        "    def __repr__(self):\n",
        "        return 'T'"
      ],
      "metadata": {
        "id": "XeV6jg9DPS5D"
      },
      "execution_count": 90,
      "outputs": []
    },
    {
      "cell_type": "code",
      "source": [
        "t = T() # 생성자 호출 -> __init__() 메서드 호출"
      ],
      "metadata": {
        "id": "q41PwOHPRxJV"
      },
      "execution_count": 91,
      "outputs": []
    },
    {
      "cell_type": "code",
      "source": [
        "print(t) #__str__() 메서드 자동 호출"
      ],
      "metadata": {
        "colab": {
          "base_uri": "https://localhost:8080/"
        },
        "id": "a0hjCS4mRzwD",
        "outputId": "3fc3f72d-bb36-440f-863f-04dc96218487"
      },
      "execution_count": 92,
      "outputs": [
        {
          "output_type": "stream",
          "name": "stdout",
          "text": [
            "class T instance\n"
          ]
        }
      ]
    },
    {
      "cell_type": "code",
      "source": [
        "t #__repr__() 메서드 자동 호출"
      ],
      "metadata": {
        "colab": {
          "base_uri": "https://localhost:8080/"
        },
        "id": "BwZu5Yp4SDFj",
        "outputId": "73df6b72-a91a-4a5d-e457-9831764284a6"
      },
      "execution_count": 93,
      "outputs": [
        {
          "output_type": "execute_result",
          "data": {
            "text/plain": [
              "T"
            ]
          },
          "metadata": {},
          "execution_count": 93
        }
      ]
    },
    {
      "cell_type": "markdown",
      "source": [
        "* `__eq__()`: eqaul\n",
        "    * `==`연산자를 사용했을 때 자동으로 호출되는 메서드.\n",
        "    * 두 객체가 같은 지(True) 다른 지(False)를 리턴."
      ],
      "metadata": {
        "id": "11Yma1eUT30R"
      }
    },
    {
      "cell_type": "code",
      "source": [
        "list1 = [1, 2, 3]\n",
        "list2 = [1, 2, 3]\n",
        "list1 == list2 # list 클래스가 __eq__ 메서드를 구현하고 있기 때문에."
      ],
      "metadata": {
        "colab": {
          "base_uri": "https://localhost:8080/"
        },
        "id": "z-XbgWg5Uqct",
        "outputId": "ed158952-970e-4120-b1b9-960ede66063e"
      },
      "execution_count": 95,
      "outputs": [
        {
          "output_type": "execute_result",
          "data": {
            "text/plain": [
              "True"
            ]
          },
          "metadata": {},
          "execution_count": 95
        }
      ]
    },
    {
      "cell_type": "code",
      "source": [
        "class Number:\n",
        "    def __init__(self, n):\n",
        "        self.n = n\n",
        "\n",
        "    def __repr__(self):\n",
        "        return str(self.n)\n",
        "    def __eq__(self , other):\n",
        "        return self.n == other.n"
      ],
      "metadata": {
        "id": "LNdyST3PVE71"
      },
      "execution_count": 100,
      "outputs": []
    },
    {
      "cell_type": "code",
      "source": [
        "n1 = Number(1)\n",
        "n1"
      ],
      "metadata": {
        "colab": {
          "base_uri": "https://localhost:8080/"
        },
        "id": "Bnu1f2HJVxRE",
        "outputId": "a7628dc0-0c82-428d-947e-8b44d8d83b1f"
      },
      "execution_count": 101,
      "outputs": [
        {
          "output_type": "execute_result",
          "data": {
            "text/plain": [
              "1"
            ]
          },
          "metadata": {},
          "execution_count": 101
        }
      ]
    },
    {
      "cell_type": "code",
      "source": [
        "n2 = Number(1)\n",
        "n2"
      ],
      "metadata": {
        "colab": {
          "base_uri": "https://localhost:8080/"
        },
        "id": "dKzt4ZJlV4y-",
        "outputId": "6c8f55bb-f44f-4d7f-861a-f03f9aacc5cb"
      },
      "execution_count": 102,
      "outputs": [
        {
          "output_type": "execute_result",
          "data": {
            "text/plain": [
              "1"
            ]
          },
          "metadata": {},
          "execution_count": 102
        }
      ]
    },
    {
      "cell_type": "code",
      "source": [
        "n1 == n2 # n1.__eq__(n2)"
      ],
      "metadata": {
        "colab": {
          "base_uri": "https://localhost:8080/"
        },
        "id": "x5JYUOiiWCtI",
        "outputId": "fbbfe5d5-9fa5-4104-e209-a6b1d8465996"
      },
      "execution_count": 103,
      "outputs": [
        {
          "output_type": "execute_result",
          "data": {
            "text/plain": [
              "True"
            ]
          },
          "metadata": {},
          "execution_count": 103
        }
      ]
    },
    {
      "cell_type": "markdown",
      "source": [
        "# Exercise\n",
        "* class Score\n",
        "    * 프로퍼티 : korean , math, science (int 타입)\n",
        "    * 메서드 : `__init__` , `__repr__`, `__eq__`, `get_total`, `get_mean`\n",
        "\n",
        "* class Student\n",
        "    * 프로퍼티 : no(int), name(str), score(Score)\n",
        "    * 메서드: `__init__` , `__repr__`    "
      ],
      "metadata": {
        "id": "Iz_KRrKBoGXr"
      }
    },
    {
      "cell_type": "code",
      "source": [
        "class Score:\n",
        "    def __init__(self, korean, math, science):\n",
        "        self.korean = korean\n",
        "        self.math = math\n",
        "        self.science = science\n",
        "\n",
        "    def __repr__(self):\n",
        "        return f'korean={self.korean}, math={self.math}, science={self.science}'\n",
        "\n",
        "    def __eq__(self , other):\n",
        "        return (\n",
        "            self.korean == other.korean,\n",
        "            self.math == other.math,\n",
        "            self.science == other.science\n",
        "        )\n",
        "\n",
        "\n",
        "    def get_total(self):\n",
        "        return self.korean + self.math + self.science\n",
        "\n",
        "    def get_mean(self):\n",
        "        return self.get_total() / 3\n",
        "\n"
      ],
      "metadata": {
        "id": "QtdclQUfo9h7"
      },
      "execution_count": 112,
      "outputs": []
    },
    {
      "cell_type": "code",
      "source": [
        "class Student:\n",
        "    def __init__(self,no ,name, score):\n",
        "        self.no = no\n",
        "        self.name = name\n",
        "        self.score = score\n",
        "    def __repr__(self):\n",
        "        return (f'no={self.no}, name={self.name}, score={self.score}')"
      ],
      "metadata": {
        "id": "bBen2FFfqd9v"
      },
      "execution_count": 115,
      "outputs": []
    },
    {
      "cell_type": "code",
      "source": [
        "score1 = Score(80, 70 , 60)\n",
        "score1\n",
        "\n",
        "student1 = Student(1, '배선영', score1)\n",
        "\n",
        "score1.get_total()\n",
        "score1.get_mean()\n",
        "\n"
      ],
      "metadata": {
        "colab": {
          "base_uri": "https://localhost:8080/"
        },
        "id": "DXuMpL1xsq0s",
        "outputId": "e3e08ac1-76a6-4bcd-a786-1d28acf74fca"
      },
      "execution_count": 124,
      "outputs": [
        {
          "output_type": "execute_result",
          "data": {
            "text/plain": [
              "70.0"
            ]
          },
          "metadata": {},
          "execution_count": 124
        }
      ]
    },
    {
      "cell_type": "markdown",
      "source": [
        "# 상속(Inheritance)"
      ],
      "metadata": {
        "id": "jM83YT_L5-36"
      }
    },
    {
      "cell_type": "markdown",
      "source": [
        "* super class(상위 클래스), parent class(부모 클래스), base class(기본 클래스)\n",
        "* sub class(하위 클래스) , child class(자식 클래스), derived class(유도 클래스)\n",
        "* 상속 : 상위 클래스의 속성(데어터)들과 기능(메서드)들을 하위 클래스에서 재상용하는 것.\n",
        "* 일반적으로 **IS-A** 관계가 성립하는 객체들을 상속을 사용해서 구현함.\n",
        "    * 학생은 사람이다(Student IS A Person)."
      ],
      "metadata": {
        "id": "DDc94prg6D_I"
      }
    },
    {
      "cell_type": "code",
      "source": [
        "class Person:\n",
        "    def __init__(self, name, age=0):\n",
        "        self.name = name\n",
        "        self.age = age\n",
        "\n",
        "    def hello(self):\n",
        "        print(f'안녕하세요, 저는 {self.name}입니다. 나이는 {self.age} 입니다.')"
      ],
      "metadata": {
        "id": "HRZiJXPO7ifD"
      },
      "execution_count": 125,
      "outputs": []
    },
    {
      "cell_type": "code",
      "source": [
        "gildong = Person('홍길동')\n",
        "gildong.hello()"
      ],
      "metadata": {
        "colab": {
          "base_uri": "https://localhost:8080/"
        },
        "id": "ehwjlxBx8Z7y",
        "outputId": "ca1414da-ad46-43a2-bca2-7286eef36603"
      },
      "execution_count": 126,
      "outputs": [
        {
          "output_type": "stream",
          "name": "stdout",
          "text": [
            "안녕하세요, 저는 홍길동입니다. 나이는 0 입니다.\n"
          ]
        }
      ]
    },
    {
      "cell_type": "code",
      "source": [
        "#Person을 상속하는 Student 클래스 정의\n",
        "class Student(Person):\n",
        "    #method override\n",
        "    def __init__(self, name, age=0, school='Test'):\n",
        "        # 하위 클래스에서 상위 클래스의 생성자 함수를 호출\n",
        "        super().__init__(name, age)\n",
        "        self.school = school\n",
        "        # hello method override\n",
        "    def hello(self):\n",
        "        super().hello()\n",
        "        print(f'학교는 {self.school}입니다.')"
      ],
      "metadata": {
        "id": "CLWSaWKx80y9"
      },
      "execution_count": 128,
      "outputs": []
    },
    {
      "cell_type": "code",
      "source": [
        "stu = Student(name='오쌤', age=16, school='아이티윌')"
      ],
      "metadata": {
        "id": "o-wV16sy9Cs4"
      },
      "execution_count": 129,
      "outputs": []
    },
    {
      "cell_type": "code",
      "source": [
        "stu.hello()"
      ],
      "metadata": {
        "colab": {
          "base_uri": "https://localhost:8080/"
        },
        "id": "744PMBKKBfEp",
        "outputId": "1e11fc01-e845-4da3-f0b2-b5b8e83090fe"
      },
      "execution_count": 130,
      "outputs": [
        {
          "output_type": "stream",
          "name": "stdout",
          "text": [
            "안녕하세요, 저는 오쌤입니다. 나이는 16 입니다.\n",
            "학교는 아이티윌입니다.\n"
          ]
        }
      ]
    },
    {
      "cell_type": "markdown",
      "source": [
        "#Method Override\n",
        "\n",
        "* 상위 클래스의 메서드를 하위 클래스에서 재정의하는 것.\n",
        "    * 파이썬에서는 메서드의 이름만 같으면 (파라미터 타입/개수와 상관 없이) 메서드가 재정의됨.\n",
        "        * 파이썬은 같은 이름으로 2개 이상의 메서드(함수)를 가질 수 없음 - overloading은 제공하지 않음.\n",
        "    * 자바에서는 메서드 이름, 파라미터 타입/개수/순서가 모두 동일한 경우에 메서드가 재정의됨.\n",
        "        * 파라미터가 다르면 같은 이름의 메서드가 2개 이상 있을 수 있음 - overloading\n",
        "* 하위 클래스에서 재정의(overrid)된 상위 클래스의 메서드를 명시적으로 호출하기 위해서는 super().method_name(...)의 형식으로 호출함."
      ],
      "metadata": {
        "id": "sz-tPkCBFHCl"
      }
    },
    {
      "cell_type": "code",
      "source": [
        "def a():\n",
        "    print('a')"
      ],
      "metadata": {
        "id": "fJ6QqEr5FVr2"
      },
      "execution_count": 131,
      "outputs": []
    },
    {
      "cell_type": "code",
      "source": [
        "def a(msg):\n",
        "    print(msg)"
      ],
      "metadata": {
        "id": "4TDxSYY-Fcub"
      },
      "execution_count": 132,
      "outputs": []
    },
    {
      "cell_type": "code",
      "source": [
        "a('test')"
      ],
      "metadata": {
        "colab": {
          "base_uri": "https://localhost:8080/"
        },
        "id": "EmQl05hdFge4",
        "outputId": "728bd097-7b73-414a-f749-3b0278424c84"
      },
      "execution_count": 134,
      "outputs": [
        {
          "output_type": "stream",
          "name": "stdout",
          "text": [
            "test\n"
          ]
        }
      ]
    },
    {
      "cell_type": "markdown",
      "source": [
        "파이썬은 함수(메서드) 오버로딩을 제공하지 않음.\n",
        "파라미터가 다르다고 해서 같은 이름으로 함수(메서드)를 정의할 수 없음.\n",
        "같은 이름으로 함수를 정의하면, 가장 마지막에서 정의한 함수만 남음.\n",
        "파이선은 함수(메서드) 오버로딩 대신에, default argument를 이용하면, 같은 이름의 함수를 여러가지 방법으로 호출할 수 있음."
      ],
      "metadata": {
        "id": "ZfqtO9DzGIzG"
      }
    },
    {
      "cell_type": "code",
      "source": [
        "def a(msg='a'):\n",
        "    print(msg)"
      ],
      "metadata": {
        "id": "PmRsg9fAGHhk"
      },
      "execution_count": 135,
      "outputs": []
    },
    {
      "cell_type": "code",
      "source": [
        "a()"
      ],
      "metadata": {
        "colab": {
          "base_uri": "https://localhost:8080/"
        },
        "id": "fPoxkwleGu3T",
        "outputId": "2f351e48-7235-409b-9cf0-e0696a06c875"
      },
      "execution_count": 136,
      "outputs": [
        {
          "output_type": "stream",
          "name": "stdout",
          "text": [
            "a\n"
          ]
        }
      ]
    },
    {
      "cell_type": "code",
      "source": [
        "a('TEST')"
      ],
      "metadata": {
        "colab": {
          "base_uri": "https://localhost:8080/"
        },
        "id": "tyIProD9GwN7",
        "outputId": "6ed231ea-160a-41c8-a579-7e06fe02813b"
      },
      "execution_count": 137,
      "outputs": [
        {
          "output_type": "stream",
          "name": "stdout",
          "text": [
            "TEST\n"
          ]
        }
      ]
    }
  ]
}