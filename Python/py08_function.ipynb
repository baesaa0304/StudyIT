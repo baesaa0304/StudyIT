{
  "nbformat": 4,
  "nbformat_minor": 0,
  "metadata": {
    "colab": {
      "provenance": [],
      "authorship_tag": "ABX9TyOibLq2wU8SUaWBX3J7Zv9P",
      "include_colab_link": true
    },
    "kernelspec": {
      "name": "python3",
      "display_name": "Python 3"
    },
    "language_info": {
      "name": "python"
    }
  },
  "cells": [
    {
      "cell_type": "markdown",
      "metadata": {
        "id": "view-in-github",
        "colab_type": "text"
      },
      "source": [
        "<a href=\"https://colab.research.google.com/github/baesunyoung34/Python/blob/main/py08_function.ipynb\" target=\"_parent\"><img src=\"https://colab.research.google.com/assets/colab-badge.svg\" alt=\"Open In Colab\"/></a>"
      ]
    },
    {
      "cell_type": "markdown",
      "source": [
        "#1급 객체(first-class object)로서의 함수\n",
        "* 함수는 변수에 할당할 수 있음.\n",
        "* 함수는 파라미터에 아규먼트로 다른 함수를 전달할 수 있음.\n",
        "    * 함수는 아규먼트가 될 수 있음.\n",
        "* 함수는 다른 함수의 리턴 값이 될 수 있음.\n",
        "* 함수는 내부에서 다른 함수를 정의할 수 있음    "
      ],
      "metadata": {
        "id": "ka1Whb5QxsXx"
      }
    },
    {
      "cell_type": "code",
      "execution_count": 1,
      "metadata": {
        "id": "A2C_FnTixB1K"
      },
      "outputs": [],
      "source": [
        "def twice(x):\n",
        "    return 2 * x\n"
      ]
    },
    {
      "cell_type": "code",
      "source": [
        "result = twice(100) # 함수 호출 결과 (리턴 값)을 변수에 저장.\n",
        "result"
      ],
      "metadata": {
        "colab": {
          "base_uri": "https://localhost:8080/"
        },
        "id": "XJMYYwW_yZAZ",
        "outputId": "325368ac-bdf9-4b81-a462-f92269856a65"
      },
      "execution_count": 3,
      "outputs": [
        {
          "output_type": "execute_result",
          "data": {
            "text/plain": [
              "200"
            ]
          },
          "metadata": {},
          "execution_count": 3
        }
      ]
    },
    {
      "cell_type": "code",
      "source": [
        "double = twice # 함수 (객체)를 변수에 저장.\n",
        "double"
      ],
      "metadata": {
        "colab": {
          "base_uri": "https://localhost:8080/"
        },
        "id": "cgnHsfaRyjZY",
        "outputId": "01fc6881-0809-426c-dbdd-82df33b798e9"
      },
      "execution_count": 4,
      "outputs": [
        {
          "output_type": "execute_result",
          "data": {
            "text/plain": [
              "<function __main__.twice(x)>"
            ]
          },
          "metadata": {},
          "execution_count": 4
        }
      ]
    },
    {
      "cell_type": "code",
      "source": [
        "double(12)"
      ],
      "metadata": {
        "colab": {
          "base_uri": "https://localhost:8080/"
        },
        "id": "qGP_q0wszAgy",
        "outputId": "26592276-709e-4a40-9874-5c5d028fb911"
      },
      "execution_count": 5,
      "outputs": [
        {
          "output_type": "execute_result",
          "data": {
            "text/plain": [
              "24"
            ]
          },
          "metadata": {},
          "execution_count": 5
        }
      ]
    },
    {
      "cell_type": "markdown",
      "source": [
        "## 함수를 아규먼트로 사용"
      ],
      "metadata": {
        "id": "RXUqTIWLzDOd"
      }
    },
    {
      "cell_type": "code",
      "source": [
        "def calculate(x, y, fn):\n",
        "    result = fn(x, y)\n",
        "    return result"
      ],
      "metadata": {
        "id": "oCQcSVo7zGSQ"
      },
      "execution_count": 6,
      "outputs": []
    },
    {
      "cell_type": "code",
      "source": [
        "def plus(x, y):\n",
        "    return x + y"
      ],
      "metadata": {
        "id": "W3ul9rNOzbct"
      },
      "execution_count": 8,
      "outputs": []
    },
    {
      "cell_type": "code",
      "source": [
        "calculate(1, 2, plus)"
      ],
      "metadata": {
        "colab": {
          "base_uri": "https://localhost:8080/"
        },
        "id": "_uXfUy2Pzn0U",
        "outputId": "be91a251-3ca4-47ee-9364-b14d14a3135c"
      },
      "execution_count": 9,
      "outputs": [
        {
          "output_type": "execute_result",
          "data": {
            "text/plain": [
              "3"
            ]
          },
          "metadata": {},
          "execution_count": 9
        }
      ]
    },
    {
      "cell_type": "code",
      "source": [
        "def minus(x, y):\n",
        "    return x - y"
      ],
      "metadata": {
        "id": "E7M-xsbo0IU0"
      },
      "execution_count": 10,
      "outputs": []
    },
    {
      "cell_type": "code",
      "source": [
        "calculate(1 , 2, minus)"
      ],
      "metadata": {
        "colab": {
          "base_uri": "https://localhost:8080/"
        },
        "id": "3IEgQ8cP0Mhs",
        "outputId": "ba5dd822-82e3-45b7-d50e-0a02ed84f80d"
      },
      "execution_count": 11,
      "outputs": [
        {
          "output_type": "execute_result",
          "data": {
            "text/plain": [
              "-1"
            ]
          },
          "metadata": {},
          "execution_count": 11
        }
      ]
    },
    {
      "cell_type": "markdown",
      "source": [
        "## 내부 함수, 함수 리턴"
      ],
      "metadata": {
        "id": "SXH7hvYn1FMo"
      }
    },
    {
      "cell_type": "code",
      "source": [
        "def make_increment(n): # 외부함수.\n",
        "    def add_n(x): # 내부함수 , 지역함수,\n",
        "        return x + n # 내부 함수는 외부 함수의 지역 변수(파라미터 포함)들을 사용할 수 있음.\n",
        "    return add_n"
      ],
      "metadata": {
        "id": "BryCd2Oi1HwC"
      },
      "execution_count": 13,
      "outputs": []
    },
    {
      "cell_type": "code",
      "source": [
        "increment_by_2 = make_increment(2)\n",
        "increment_by_2"
      ],
      "metadata": {
        "colab": {
          "base_uri": "https://localhost:8080/"
        },
        "id": "0i2zqB1U130d",
        "outputId": "f3a8ec41-0d90-49d0-f602-35f57e35e0bf"
      },
      "execution_count": 14,
      "outputs": [
        {
          "output_type": "execute_result",
          "data": {
            "text/plain": [
              "<function __main__.make_increment.<locals>.add_n(x)>"
            ]
          },
          "metadata": {},
          "execution_count": 14
        }
      ]
    },
    {
      "cell_type": "code",
      "source": [
        "increment_by_2(100)"
      ],
      "metadata": {
        "colab": {
          "base_uri": "https://localhost:8080/"
        },
        "id": "1ebfzNJb2MjJ",
        "outputId": "b35ef1c0-b19f-47a4-c4b4-7f6db557c43d"
      },
      "execution_count": 15,
      "outputs": [
        {
          "output_type": "execute_result",
          "data": {
            "text/plain": [
              "102"
            ]
          },
          "metadata": {},
          "execution_count": 15
        }
      ]
    },
    {
      "cell_type": "code",
      "source": [
        "increase_by_10 = make_increment(10)\n",
        "increase_by_10(100)"
      ],
      "metadata": {
        "colab": {
          "base_uri": "https://localhost:8080/"
        },
        "id": "OZy_7LSy2ykL",
        "outputId": "131cabfd-998d-472a-d84f-cdf0d9ac903e"
      },
      "execution_count": 16,
      "outputs": [
        {
          "output_type": "execute_result",
          "data": {
            "text/plain": [
              "110"
            ]
          },
          "metadata": {},
          "execution_count": 16
        }
      ]
    },
    {
      "cell_type": "code",
      "source": [
        "make_increment(5)(100)"
      ],
      "metadata": {
        "colab": {
          "base_uri": "https://localhost:8080/"
        },
        "id": "JWwxRSWC3-hU",
        "outputId": "98586e58-64ea-43da-fef0-7eb86cf51c31"
      },
      "execution_count": 18,
      "outputs": [
        {
          "output_type": "execute_result",
          "data": {
            "text/plain": [
              "105"
            ]
          },
          "metadata": {},
          "execution_count": 18
        }
      ]
    },
    {
      "cell_type": "markdown",
      "source": [
        "# Lambda expression(람다 표현식)\n",
        "\n",
        "```\n",
        "lambda param1, param2, ...: expression\n",
        "```\n",
        "\n",
        "* 이름이 없는 함수 표기법\n",
        "* 함수 이름 없이 함수의 파라미터 선언과 반환 값 또는 반환 식으로만 함수를 정의하는 방법.\n",
        "* 파이썬은 2줄 이상의 문장이 포함된 람다 표현식 문법을 제공하지 않음.\n"
      ],
      "metadata": {
        "id": "dJyjHlJa8b_Q"
      }
    },
    {
      "cell_type": "code",
      "source": [
        "minus = lambda x , y: x - y\n",
        "minus"
      ],
      "metadata": {
        "colab": {
          "base_uri": "https://localhost:8080/"
        },
        "id": "Z5TxoFOr9i2U",
        "outputId": "1d99fb5c-d5ab-4af6-f27f-54e1f7386868"
      },
      "execution_count": 19,
      "outputs": [
        {
          "output_type": "execute_result",
          "data": {
            "text/plain": [
              "<function __main__.<lambda>(x, y)>"
            ]
          },
          "metadata": {},
          "execution_count": 19
        }
      ]
    },
    {
      "cell_type": "markdown",
      "source": [],
      "metadata": {
        "id": "48IWDcaA-s7i"
      }
    },
    {
      "cell_type": "code",
      "source": [
        "minus(1,2)"
      ],
      "metadata": {
        "colab": {
          "base_uri": "https://localhost:8080/"
        },
        "id": "C23Jkr9C9qwm",
        "outputId": "957aa32d-13c9-48ae-edb9-753d70177a05"
      },
      "execution_count": 20,
      "outputs": [
        {
          "output_type": "execute_result",
          "data": {
            "text/plain": [
              "-1"
            ]
          },
          "metadata": {},
          "execution_count": 20
        }
      ]
    },
    {
      "cell_type": "code",
      "source": [
        "calculate(2,3, lambda x, y: x * y)"
      ],
      "metadata": {
        "colab": {
          "base_uri": "https://localhost:8080/"
        },
        "id": "2nwzQ2uz-V4G",
        "outputId": "1d66dec6-d0bf-4d6b-a70a-0e21dbdc5fe1"
      },
      "execution_count": 21,
      "outputs": [
        {
          "output_type": "execute_result",
          "data": {
            "text/plain": [
              "6"
            ]
          },
          "metadata": {},
          "execution_count": 21
        }
      ]
    },
    {
      "cell_type": "code",
      "source": [
        "calculate(2, 3, lambda x, y : x / y)"
      ],
      "metadata": {
        "colab": {
          "base_uri": "https://localhost:8080/"
        },
        "id": "OgFMiSZC-txg",
        "outputId": "f14a898f-4b9d-4540-f944-07454ed5eecd"
      },
      "execution_count": 22,
      "outputs": [
        {
          "output_type": "execute_result",
          "data": {
            "text/plain": [
              "0.6666666666666666"
            ]
          },
          "metadata": {},
          "execution_count": 22
        }
      ]
    },
    {
      "cell_type": "markdown",
      "source": [
        "Ex 1. calculate 함수에 2개의 숫자 중에서 더 큰 수를 리턴하는 람다 표현식을 argument로 전달\n",
        "\n"
      ],
      "metadata": {
        "id": "iJQfsAgT_IiH"
      }
    },
    {
      "cell_type": "code",
      "source": [
        "calculate(2, 3, lambda x , y : x  if x > y else y )\n"
      ],
      "metadata": {
        "colab": {
          "base_uri": "https://localhost:8080/"
        },
        "id": "mflscSH8_H0D",
        "outputId": "826233cc-f870-40d3-e6b5-49e0e82bdac3"
      },
      "execution_count": 23,
      "outputs": [
        {
          "output_type": "execute_result",
          "data": {
            "text/plain": [
              "3"
            ]
          },
          "metadata": {},
          "execution_count": 23
        }
      ]
    },
    {
      "cell_type": "markdown",
      "source": [
        "Ex2. calculate 함수에 첫번째 아규먼트가 크면 true 그렇지 않으면 false를 리턴하는 람다 표현식을 전달"
      ],
      "metadata": {
        "id": "w-8AaRuy_Vzt"
      }
    },
    {
      "cell_type": "code",
      "source": [
        "calculate(2, 3, lambda x , y : True if x > y  else False)"
      ],
      "metadata": {
        "colab": {
          "base_uri": "https://localhost:8080/"
        },
        "id": "xmwH0vEuApIe",
        "outputId": "7ce1278c-0092-46a2-db28-c27680d37b4b"
      },
      "execution_count": 26,
      "outputs": [
        {
          "output_type": "execute_result",
          "data": {
            "text/plain": [
              "False"
            ]
          },
          "metadata": {},
          "execution_count": 26
        }
      ]
    },
    {
      "cell_type": "code",
      "source": [
        "calculate(2, 3, lambda x , y : x > y)"
      ],
      "metadata": {
        "colab": {
          "base_uri": "https://localhost:8080/"
        },
        "id": "CMltlmfABeWQ",
        "outputId": "1b45f80b-96cb-47f9-fcf5-d76e0a58cc9c"
      },
      "execution_count": 27,
      "outputs": [
        {
          "output_type": "execute_result",
          "data": {
            "text/plain": [
              "False"
            ]
          },
          "metadata": {},
          "execution_count": 27
        }
      ]
    },
    {
      "cell_type": "markdown",
      "source": [
        "## filter 함수\n",
        "조건에 맞는 원소들만 선택.\n"
      ],
      "metadata": {
        "id": "Rs0h63Z2CF4a"
      }
    },
    {
      "cell_type": "code",
      "source": [],
      "metadata": {
        "id": "4VHk4iKFGyGV"
      },
      "execution_count": 40,
      "outputs": []
    },
    {
      "cell_type": "code",
      "source": [
        "def my_filter(iterable, fn):\n",
        "    \"\"\"\n",
        "    리스트 iterable 원소들 중에서 함수 fn이 호출 결과 값이 True 원소들로만 이루어진\n",
        "    리스트를 리턴.\n",
        "\n",
        "    Param lterable : 리스트.\n",
        "    Param fn : 아규먼트가 1개이고, True / false를 리턴하는 함수.\n",
        "    \"\"\"\n",
        "    return [x for x in iterable if fn(x)]\n",
        "    # result = [] # 필터링된 원소들을 저장할 빈 리스트\n",
        "    # for i in iterable: # 리스트의 원소들을 순서대로 반복하면서.\n",
        "    #     if fn(i): # 그 원소를 힘수에게 전달했을 때 True를 리턴하면.\n",
        "    #         result.append(i) # 필터링 조건을 만족하면 필터링된 결과 리스트에 추가.\n",
        "    # return result  # 필터링 된 결과를 가지고 있는 리스트를 리턴.\n",
        "\n",
        ""
      ],
      "metadata": {
        "id": "hDvK14fcCPFr"
      },
      "execution_count": 51,
      "outputs": []
    },
    {
      "cell_type": "code",
      "source": [
        "numbers = [1, 2, 3, 4, 5, 6, 7, 8, 9, 10]"
      ],
      "metadata": {
        "id": "1f2bPr-DKXpM"
      },
      "execution_count": 52,
      "outputs": []
    },
    {
      "cell_type": "code",
      "source": [
        "my_filter(numbers, lambda x : x > 5)"
      ],
      "metadata": {
        "colab": {
          "base_uri": "https://localhost:8080/"
        },
        "id": "_NYosNusI2NS",
        "outputId": "00ba3918-cde3-4cff-9492-36b309ef4e37"
      },
      "execution_count": 53,
      "outputs": [
        {
          "output_type": "execute_result",
          "data": {
            "text/plain": [
              "[6, 7, 8, 9, 10]"
            ]
          },
          "metadata": {},
          "execution_count": 53
        }
      ]
    },
    {
      "cell_type": "code",
      "source": [
        "strings = ['python' , 'java',  'javascript', 'sql']\n",
        "# my_filter 함수를 사용해서 string에서 5글자 이상인 문자여들만 필터링\n",
        "my_filter(strings , lambda x : len(x) >= 5)"
      ],
      "metadata": {
        "colab": {
          "base_uri": "https://localhost:8080/"
        },
        "id": "JkGPXPS-Mhs4",
        "outputId": "87f49cc8-a714-42bc-9c6c-2e15e17ee138"
      },
      "execution_count": 73,
      "outputs": [
        {
          "output_type": "execute_result",
          "data": {
            "text/plain": [
              "['python', 'javascript']"
            ]
          },
          "metadata": {},
          "execution_count": 73
        }
      ]
    },
    {
      "cell_type": "markdown",
      "source": [
        "## map 함수\n",
        "원소들을 규칙에 따라서 다른 값으로 변환.\n"
      ],
      "metadata": {
        "id": "mZ-LMPPOODT2"
      }
    },
    {
      "cell_type": "code",
      "source": [
        "def my_mapper(iterable, fn):\n",
        "\n",
        "    \"\"\"\n",
        "     리스트 iterable의 원소들을 함수 fn의 리턴 값으로 변환한 리스트를 리턴.\n",
        "     Param iterable: 리스트.\n",
        "     Param fn : 아규먼트가 1개이고 리턴 값이 있는 함수.\n",
        "    \"\"\"\n",
        "    return [fn(x) for x in iterable]\n",
        "    # result = []\n",
        "    # for x in iterable:\n",
        "        #result.append(fn(x))\n",
        "    # retrun result"
      ],
      "metadata": {
        "id": "SXkv0BgQOFgU"
      },
      "execution_count": 57,
      "outputs": []
    },
    {
      "cell_type": "code",
      "source": [
        "print(numbers)"
      ],
      "metadata": {
        "colab": {
          "base_uri": "https://localhost:8080/"
        },
        "id": "J7o8yHaXO0uB",
        "outputId": "45eb2711-d4dd-4f53-b7e2-e6575a6ecfbc"
      },
      "execution_count": 58,
      "outputs": [
        {
          "output_type": "stream",
          "name": "stdout",
          "text": [
            "[1, 2, 3, 4, 5, 6, 7, 8, 9, 10]\n"
          ]
        }
      ]
    },
    {
      "cell_type": "code",
      "source": [
        "#리스트 numbers의 원소들의 제곱으로 이루어진 리스트\n",
        "my_mapper(numbers, lambda x : x*x)"
      ],
      "metadata": {
        "colab": {
          "base_uri": "https://localhost:8080/"
        },
        "id": "H-iLqFlNQKuN",
        "outputId": "5660ebcd-e3ac-4ad0-9799-83d9087bcfd9"
      },
      "execution_count": 59,
      "outputs": [
        {
          "output_type": "execute_result",
          "data": {
            "text/plain": [
              "[1, 4, 9, 16, 25, 36, 49, 64, 81, 100]"
            ]
          },
          "metadata": {},
          "execution_count": 59
        }
      ]
    },
    {
      "cell_type": "code",
      "source": [
        "# 리스트 numbers의 원소가 짝수이면 'even', 홀수이면 'odd'를 저장히는 리스트\n",
        "my_mapper(numbers, lambda x : 'even' if x % 2 == 0 else 'odd')"
      ],
      "metadata": {
        "colab": {
          "base_uri": "https://localhost:8080/"
        },
        "id": "yKqm8gxEQRwr",
        "outputId": "ec7fd5f6-4e40-4e96-d30a-a330b09dce9d"
      },
      "execution_count": 60,
      "outputs": [
        {
          "output_type": "execute_result",
          "data": {
            "text/plain": [
              "['odd', 'even', 'odd', 'even', 'odd', 'even', 'odd', 'even', 'odd', 'even']"
            ]
          },
          "metadata": {},
          "execution_count": 60
        }
      ]
    },
    {
      "cell_type": "code",
      "source": [
        "strings"
      ],
      "metadata": {
        "colab": {
          "base_uri": "https://localhost:8080/"
        },
        "id": "d0Ms-MomRtme",
        "outputId": "dea2f6bd-73c7-4efe-b266-67da10ef3060"
      },
      "execution_count": 74,
      "outputs": [
        {
          "output_type": "execute_result",
          "data": {
            "text/plain": [
              "['python', 'java', 'javascript', 'sql']"
            ]
          },
          "metadata": {},
          "execution_count": 74
        }
      ]
    },
    {
      "cell_type": "code",
      "source": [
        "#string가 가지고 있는 문자열들의 길이들로 이루어진 리스트\n",
        "my_mapper(strings , lambda x : len(x))"
      ],
      "metadata": {
        "colab": {
          "base_uri": "https://localhost:8080/"
        },
        "id": "vElh0uK9Ryfa",
        "outputId": "cef6690c-348e-46f9-8a34-6c967f377486"
      },
      "execution_count": 75,
      "outputs": [
        {
          "output_type": "execute_result",
          "data": {
            "text/plain": [
              "[6, 4, 10, 3]"
            ]
          },
          "metadata": {},
          "execution_count": 75
        }
      ]
    },
    {
      "cell_type": "code",
      "source": [
        "#String의 문자열들을 대문자로 변환한 리스트\n",
        "my_mapper(strings, lambda x : x.upper())"
      ],
      "metadata": {
        "colab": {
          "base_uri": "https://localhost:8080/"
        },
        "id": "6zh2213JSBvP",
        "outputId": "f823f90a-5290-4cdc-d8e9-3581b9a0dd69"
      },
      "execution_count": 76,
      "outputs": [
        {
          "output_type": "execute_result",
          "data": {
            "text/plain": [
              "['PYTHON', 'JAVA', 'JAVASCRIPT', 'SQL']"
            ]
          },
          "metadata": {},
          "execution_count": 76
        }
      ]
    }
  ]
}