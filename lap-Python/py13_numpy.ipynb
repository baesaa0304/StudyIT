{
  "nbformat": 4,
  "nbformat_minor": 0,
  "metadata": {
    "colab": {
      "provenance": [],
      "authorship_tag": "ABX9TyOIW6N+dgaloAC2kCR43s9T",
      "include_colab_link": true
    },
    "kernelspec": {
      "name": "python3",
      "display_name": "Python 3"
    },
    "language_info": {
      "name": "python"
    }
  },
  "cells": [
    {
      "cell_type": "markdown",
      "metadata": {
        "id": "view-in-github",
        "colab_type": "text"
      },
      "source": [
        "<a href=\"https://colab.research.google.com/github/baesunyoung34/Python/blob/main/py13_numpy.ipynb\" target=\"_parent\"><img src=\"https://colab.research.google.com/assets/colab-badge.svg\" alt=\"Open In Colab\"/></a>"
      ]
    },
    {
      "cell_type": "markdown",
      "source": [
        "# 데이터 분석 패키지\n",
        "Google Colab는 데이터 분석과 머신 러닝에 필요한 대부분의 패키지들이 이미 설치가 되어 있음.\n",
        "\n",
        "* NumPy : 다차원 배열(n-dimensional array)을 다루는 패키지. 머신 러닝에서 중요하게 사용됨.\n",
        "* pandas : 시리즈(Series), 데이터 프레임(DataFrame)을 다루는 패키지. 데이터 분석에서 기본으로 사용되는 패키지.\n",
        "* matplotlib : 데이터 시각회(그래프)\n",
        "* seaborn : 데이터 시각화. 통계 작업."
      ],
      "metadata": {
        "id": "vSBn3IzcVbDo"
      }
    },
    {
      "cell_type": "code",
      "execution_count": 2,
      "metadata": {
        "id": "yz4y9ojmVOI6"
      },
      "outputs": [],
      "source": [
        "import numpy as np\n",
        "import pandas as pd\n",
        "import matplotlib as mpl\n",
        "import seaborn as sns"
      ]
    },
    {
      "cell_type": "code",
      "source": [
        "print('NumPy varsion:' , np.__version__)\n",
        "print('pandas version : ' , pd.__version__)\n",
        "print('Matplotlib version:' , mpl.__version__)\n",
        "print('seaborn version: ' , sns.__version__)"
      ],
      "metadata": {
        "colab": {
          "base_uri": "https://localhost:8080/"
        },
        "id": "IUUZAHw9bO9X",
        "outputId": "bf406bc1-e58f-41a4-ff96-a4b0258c41cc"
      },
      "execution_count": 3,
      "outputs": [
        {
          "output_type": "stream",
          "name": "stdout",
          "text": [
            "NumPy varsion: 1.22.4\n",
            "pandas version :  1.5.3\n",
            "Matplotlib version: 3.7.1\n",
            "seaborn version:  0.12.2\n"
          ]
        }
      ]
    },
    {
      "cell_type": "markdown",
      "source": [
        "#Python 'list' class\n",
        "* 여러개의 값들을 저장할 수 있는 데이터 타입.\n",
        "* 인덱스를 기반으로 값들을 저장, 참조하는 타입.\n",
        "    * indexing : 인덱스를 사용해서 원하는 위치의 값을 참조, 변경.\n",
        "    * slicing: `[start , end)` 이런 인덱스 범위의 값들로 이루어진 부분집합을 잘라내는 방법.\n",
        "    * `list + list` : 2개의 리스트를 이어붙이기(concatenate).\n",
        "    * `list * int` , `int * list` : 리스트의 원소들을 정수만큼 반복해서 복제\n",
        "(replicate)    "
      ],
      "metadata": {
        "id": "nwyClpXocMjk"
      }
    },
    {
      "cell_type": "code",
      "source": [
        "list1 = [1, 2, 3, 4]\n",
        "list2 = [10, 20, 30, 40]"
      ],
      "metadata": {
        "id": "Tgn_oJmJdLqQ"
      },
      "execution_count": 4,
      "outputs": []
    },
    {
      "cell_type": "code",
      "source": [
        "#indexing:\n",
        "print(list1[0]) # list1 첫번째 원소\n",
        "print(list1[3] , list1[-1])  #list1의 마지막 원소"
      ],
      "metadata": {
        "colab": {
          "base_uri": "https://localhost:8080/"
        },
        "id": "o0X0nnWrdQ8W",
        "outputId": "8e98f579-f672-4b9e-e338-9be28fa7a0ed"
      },
      "execution_count": 5,
      "outputs": [
        {
          "output_type": "stream",
          "name": "stdout",
          "text": [
            "1\n",
            "4 4\n"
          ]
        }
      ]
    },
    {
      "cell_type": "code",
      "source": [
        "# slicung\n",
        "print(list1[:3]) # list1에서 앞으로 3개 원소 자르기\n",
        "print(list1[-3:]) #list1에서 뒤에서 3개 원소 자르기"
      ],
      "metadata": {
        "colab": {
          "base_uri": "https://localhost:8080/"
        },
        "id": "FMLWM3zOeF0X",
        "outputId": "6c8fd386-06d8-4afe-dfda-e0fadba00d6e"
      },
      "execution_count": 6,
      "outputs": [
        {
          "output_type": "stream",
          "name": "stdout",
          "text": [
            "[1, 2, 3]\n",
            "[2, 3, 4]\n"
          ]
        }
      ]
    },
    {
      "cell_type": "code",
      "source": [
        "list1 + list2"
      ],
      "metadata": {
        "colab": {
          "base_uri": "https://localhost:8080/"
        },
        "id": "ErXmnlQLeiKq",
        "outputId": "0df44b7e-4e84-43f2-cb5f-32a284a922e6"
      },
      "execution_count": 7,
      "outputs": [
        {
          "output_type": "execute_result",
          "data": {
            "text/plain": [
              "[1, 2, 3, 4, 10, 20, 30, 40]"
            ]
          },
          "metadata": {},
          "execution_count": 7
        }
      ]
    },
    {
      "cell_type": "code",
      "source": [
        "list1 * 3"
      ],
      "metadata": {
        "colab": {
          "base_uri": "https://localhost:8080/"
        },
        "id": "rfq8hGSmeG1z",
        "outputId": "d414a6ab-b7d4-4582-823f-3ca61cdb1158"
      },
      "execution_count": 8,
      "outputs": [
        {
          "output_type": "execute_result",
          "data": {
            "text/plain": [
              "[1, 2, 3, 4, 1, 2, 3, 4, 1, 2, 3, 4]"
            ]
          },
          "metadata": {},
          "execution_count": 8
        }
      ]
    },
    {
      "cell_type": "code",
      "source": [
        "# list1 , list2에서 같은 인덱스 위치의 원소들끼리 덧셈\n",
        "[x + y for x , y in zip(list1 , list2)]"
      ],
      "metadata": {
        "colab": {
          "base_uri": "https://localhost:8080/"
        },
        "id": "lPRDbI1AeR42",
        "outputId": "f8388073-0953-4fa4-e286-e6f0f2bb11b2"
      },
      "execution_count": 9,
      "outputs": [
        {
          "output_type": "execute_result",
          "data": {
            "text/plain": [
              "[11, 22, 33, 44]"
            ]
          },
          "metadata": {},
          "execution_count": 9
        }
      ]
    },
    {
      "cell_type": "code",
      "source": [
        "#list1의 모든 원소에 3을 곱함.\n",
        "[3 * x for x in list1]"
      ],
      "metadata": {
        "colab": {
          "base_uri": "https://localhost:8080/"
        },
        "id": "b4_UfK3DebQO",
        "outputId": "8df5c163-43d3-42ed-fbb8-a190943f47fc"
      },
      "execution_count": 10,
      "outputs": [
        {
          "output_type": "execute_result",
          "data": {
            "text/plain": [
              "[3, 6, 9, 12]"
            ]
          },
          "metadata": {},
          "execution_count": 10
        }
      ]
    },
    {
      "cell_type": "markdown",
      "source": [
        "# Numpy\n",
        "* 배열(ndarray)을 쉽고 빠르게 연산(+, -, *, /, //, %)을 수행하는 라이브러리.\n",
        "* Numpy 패키지의 함수 또는 메서드들을 대부분 반복문의 기능을 가지고 있음.\n",
        "* np,ndarry 클래스 : Numpy 패키지에서 기본 타입 클래스. n차원 배열\n",
        "(n-dimensional array)\n",
        "    * `ndarray`는 같은 인덱스(위치)에 있는 원소들끼리 연산을 수행."
      ],
      "metadata": {
        "id": "_snE2UMsdn3B"
      }
    },
    {
      "cell_type": "code",
      "source": [
        "array1 = np.array([1, 2, 3]) # python의 list 객체를 numpy의 ndarray 객체로 변환."
      ],
      "metadata": {
        "id": "MIsSJO-8knyN"
      },
      "execution_count": 11,
      "outputs": []
    },
    {
      "cell_type": "code",
      "source": [
        "type(array1)"
      ],
      "metadata": {
        "colab": {
          "base_uri": "https://localhost:8080/"
        },
        "id": "3JDgxo2ykoxG",
        "outputId": "623c9e31-2b2f-4ea7-e590-3672f443a6f9"
      },
      "execution_count": 12,
      "outputs": [
        {
          "output_type": "execute_result",
          "data": {
            "text/plain": [
              "numpy.ndarray"
            ]
          },
          "metadata": {},
          "execution_count": 12
        }
      ]
    },
    {
      "cell_type": "code",
      "source": [
        "print(array1) # print() 함수는 __str__ 메서드의 리턴값을 출력"
      ],
      "metadata": {
        "colab": {
          "base_uri": "https://localhost:8080/"
        },
        "id": "UGYDR0utkq_b",
        "outputId": "817275ce-25c6-4973-a961-b10d681ea4e0"
      },
      "execution_count": 13,
      "outputs": [
        {
          "output_type": "stream",
          "name": "stdout",
          "text": [
            "[1 2 3]\n"
          ]
        }
      ]
    },
    {
      "cell_type": "code",
      "source": [
        "array1 #expression은 __repr__ 메서드의 리턴값을 출력"
      ],
      "metadata": {
        "colab": {
          "base_uri": "https://localhost:8080/"
        },
        "id": "kVkyjNHXkt_s",
        "outputId": "39e99976-fdb8-4f18-de4e-5c78293391d9"
      },
      "execution_count": 14,
      "outputs": [
        {
          "output_type": "execute_result",
          "data": {
            "text/plain": [
              "array([1, 2, 3])"
            ]
          },
          "metadata": {},
          "execution_count": 14
        }
      ]
    },
    {
      "cell_type": "code",
      "source": [
        "array2 = np.array([4, 5, 6])"
      ],
      "metadata": {
        "id": "-c6l1B49lQ8Q"
      },
      "execution_count": 15,
      "outputs": []
    },
    {
      "cell_type": "code",
      "source": [
        "print(array2)"
      ],
      "metadata": {
        "colab": {
          "base_uri": "https://localhost:8080/"
        },
        "id": "KmjTwwNdlXAo",
        "outputId": "3a633a02-35c3-4915-c258-42edb5cabeba"
      },
      "execution_count": 16,
      "outputs": [
        {
          "output_type": "stream",
          "name": "stdout",
          "text": [
            "[4 5 6]\n"
          ]
        }
      ]
    },
    {
      "cell_type": "code",
      "source": [
        "#ndarray의 사칙연산 _ 같은 인덱스의 원소들끼리(element-wise) 연산 수행\n",
        "print(array1 + array2)\n",
        "print(array1 - array2)\n",
        "print(array1 * array2)\n",
        "print(array1 / array2)"
      ],
      "metadata": {
        "colab": {
          "base_uri": "https://localhost:8080/"
        },
        "id": "wZtpqsTjlat2",
        "outputId": "31718da9-39ba-48ff-a207-6a30fd619e8e"
      },
      "execution_count": 17,
      "outputs": [
        {
          "output_type": "stream",
          "name": "stdout",
          "text": [
            "[5 7 9]\n",
            "[-3 -3 -3]\n",
            "[ 4 10 18]\n",
            "[0.25 0.4  0.5 ]\n"
          ]
        }
      ]
    },
    {
      "cell_type": "markdown",
      "source": [
        "## ndaraay 클래스의 속성들"
      ],
      "metadata": {
        "id": "N6pRUkBxkUzy"
      }
    },
    {
      "cell_type": "code",
      "source": [
        "print(array1)\n",
        "print('ndim:' , array1.ndim) # 차원(dimesion). 배열의 축(axis)의 개수.\n",
        "print('size:' , array1.size) # 배열의 크기. 원소 개수.\n",
        "print('shape' , array1.shape) # 배열의 모양. 각 차원에서의 원소 개수.\n",
        "print('dtype' , array1.dtype) # 배열 원소의 데이터 타입."
      ],
      "metadata": {
        "colab": {
          "base_uri": "https://localhost:8080/"
        },
        "id": "HSSVCPzOmgln",
        "outputId": "e4c01df8-5dc7-41c0-ae9b-e1ed080cd242"
      },
      "execution_count": 18,
      "outputs": [
        {
          "output_type": "stream",
          "name": "stdout",
          "text": [
            "[1 2 3]\n",
            "ndim: 1\n",
            "size: 3\n",
            "shape (3,)\n",
            "dtype int64\n"
          ]
        }
      ]
    },
    {
      "cell_type": "markdown",
      "source": [
        "`ndarray`는 한 가지 타입의 데이터들만 저장할 수 있는 데이터 타입 = `list`와 다른 점."
      ],
      "metadata": {
        "id": "l08CkQZdoO-s"
      }
    },
    {
      "cell_type": "markdown",
      "source": [
        "## 2차원 배열"
      ],
      "metadata": {
        "id": "13bMnX38o12p"
      }
    },
    {
      "cell_type": "code",
      "source": [
        "array_2d = np.array([\n",
        "    [1, 2, 3, 4],\n",
        "    [5, 6, 7, 8],\n",
        "    [9, 10, 11, 12]\n",
        "])"
      ],
      "metadata": {
        "id": "hU6_QFN9oOth"
      },
      "execution_count": 19,
      "outputs": []
    },
    {
      "cell_type": "code",
      "source": [
        "type(array_2d)"
      ],
      "metadata": {
        "colab": {
          "base_uri": "https://localhost:8080/"
        },
        "id": "l9lCwAWGpYe6",
        "outputId": "2a51047a-c8b9-4f6e-b078-ff40ea66f536"
      },
      "execution_count": 20,
      "outputs": [
        {
          "output_type": "execute_result",
          "data": {
            "text/plain": [
              "numpy.ndarray"
            ]
          },
          "metadata": {},
          "execution_count": 20
        }
      ]
    },
    {
      "cell_type": "code",
      "source": [
        "print(array_2d)"
      ],
      "metadata": {
        "colab": {
          "base_uri": "https://localhost:8080/"
        },
        "id": "pVKw29kZpgLP",
        "outputId": "485c21ee-fe23-49d3-8c63-2d72a9890b32"
      },
      "execution_count": 21,
      "outputs": [
        {
          "output_type": "stream",
          "name": "stdout",
          "text": [
            "[[ 1  2  3  4]\n",
            " [ 5  6  7  8]\n",
            " [ 9 10 11 12]]\n"
          ]
        }
      ]
    },
    {
      "cell_type": "code",
      "source": [
        "array_2d"
      ],
      "metadata": {
        "colab": {
          "base_uri": "https://localhost:8080/"
        },
        "id": "yqjYghCxptoo",
        "outputId": "9dc6dd49-7908-415f-8536-d4e42c9fe077"
      },
      "execution_count": 22,
      "outputs": [
        {
          "output_type": "execute_result",
          "data": {
            "text/plain": [
              "array([[ 1,  2,  3,  4],\n",
              "       [ 5,  6,  7,  8],\n",
              "       [ 9, 10, 11, 12]])"
            ]
          },
          "metadata": {},
          "execution_count": 22
        }
      ]
    },
    {
      "cell_type": "code",
      "source": [
        "print('ndim:' , array_2d.ndim) # 차원\n",
        "print('size:' , array_2d.size) # 크기\n",
        "print('shape:' , array_2d.shape) # 모양\n",
        "print('dtype:' , array_2d.dtype) # 데이터"
      ],
      "metadata": {
        "colab": {
          "base_uri": "https://localhost:8080/"
        },
        "id": "Ri6HFBOeqGAN",
        "outputId": "64ad8c31-0212-4a5e-c8eb-fc8d062efbb4"
      },
      "execution_count": 23,
      "outputs": [
        {
          "output_type": "stream",
          "name": "stdout",
          "text": [
            "ndim: 2\n",
            "size: 12\n",
            "shape: (3, 4)\n",
            "dtype: int64\n"
          ]
        }
      ]
    },
    {
      "cell_type": "markdown",
      "source": [
        "### 2차원 `ndarray`의 인덱스 사용 방법:\n",
        "* `array[i][j]` - python list와 같은 사용 방법.\n",
        "* `array[i, j]` - ndarray에서만 사용 가능."
      ],
      "metadata": {
        "id": "T9JeRzcXvEsY"
      }
    },
    {
      "cell_type": "code",
      "source": [
        "array_2d[0, 0] # array_2d[0][0]"
      ],
      "metadata": {
        "colab": {
          "base_uri": "https://localhost:8080/"
        },
        "id": "Nvxl45Cov4qF",
        "outputId": "cfab74c2-ccd7-4c93-d1b4-79e6202a8ce1"
      },
      "execution_count": 24,
      "outputs": [
        {
          "output_type": "execute_result",
          "data": {
            "text/plain": [
              "1"
            ]
          },
          "metadata": {},
          "execution_count": 24
        }
      ]
    },
    {
      "cell_type": "code",
      "source": [
        "array_2d[1, 2]"
      ],
      "metadata": {
        "colab": {
          "base_uri": "https://localhost:8080/"
        },
        "id": "8ChIY1QUwCMo",
        "outputId": "ee817e40-6cc2-4a81-f298-5213174b1857"
      },
      "execution_count": 25,
      "outputs": [
        {
          "output_type": "execute_result",
          "data": {
            "text/plain": [
              "7"
            ]
          },
          "metadata": {},
          "execution_count": 25
        }
      ]
    },
    {
      "cell_type": "markdown",
      "source": [
        "##ndarray 인덱스"
      ],
      "metadata": {
        "id": "CW740bs9wgks"
      }
    },
    {
      "cell_type": "code",
      "source": [
        "# [0, 100) 범위의 정수 난수 10개를 갖는 ndarray 객체를 생성:\n",
        "array = np.random.randint(0, 100, size=10)\n",
        "print(array)"
      ],
      "metadata": {
        "colab": {
          "base_uri": "https://localhost:8080/"
        },
        "id": "ywOq6ZcGwi-D",
        "outputId": "32e81915-3c75-4f3d-9d47-7541717523f5"
      },
      "execution_count": 26,
      "outputs": [
        {
          "output_type": "stream",
          "name": "stdout",
          "text": [
            "[43 10 41 74 99 47 34 61  6 48]\n"
          ]
        }
      ]
    },
    {
      "cell_type": "code",
      "source": [
        "#indexing:\n",
        "print(array[0]) # 첫번째 원소\n",
        "print(array[-1]) # 마지막 원소"
      ],
      "metadata": {
        "colab": {
          "base_uri": "https://localhost:8080/"
        },
        "id": "PE6ZMIVWxrsS",
        "outputId": "6b523b63-2b4a-4c0f-eeff-4870e99f3bc8"
      },
      "execution_count": 27,
      "outputs": [
        {
          "output_type": "stream",
          "name": "stdout",
          "text": [
            "43\n",
            "48\n"
          ]
        }
      ]
    },
    {
      "cell_type": "code",
      "source": [
        "#slicing:\n",
        "print(array[:3]) # 첫 3개 원소 자르기\n",
        "print(array[-3:])"
      ],
      "metadata": {
        "colab": {
          "base_uri": "https://localhost:8080/"
        },
        "id": "ao74bdlex4hW",
        "outputId": "db9db6c5-8c34-47c7-92a8-87a2d46bb983"
      },
      "execution_count": 28,
      "outputs": [
        {
          "output_type": "stream",
          "name": "stdout",
          "text": [
            "[43 10 41]\n",
            "[61  6 48]\n"
          ]
        }
      ]
    },
    {
      "cell_type": "code",
      "source": [
        "print(array[0]) # indexing -> 아이템(값)\n",
        "print(array[0:1]) # slicing -> 배열(ndarray)"
      ],
      "metadata": {
        "colab": {
          "base_uri": "https://localhost:8080/"
        },
        "id": "fsHE34zHyW1L",
        "outputId": "5f966f57-696e-4df6-86ee-bbc8e6266b50"
      },
      "execution_count": 29,
      "outputs": [
        {
          "output_type": "stream",
          "name": "stdout",
          "text": [
            "43\n",
            "[43]\n"
          ]
        }
      ]
    },
    {
      "cell_type": "markdown",
      "source": [
        "### fancy indexing\n",
        "*  배열과 비슷한 객체(ndarray, list, tuple, set, ...)를 사용해서 원하는 원소들을 참조하는 방법.\n",
        "* fancy indexing의 결과는 ndarray."
      ],
      "metadata": {
        "id": "wBdu-cu9y7Cd"
      }
    },
    {
      "cell_type": "code",
      "source": [
        "print(array)\n",
        "print(array[0]) #indexing\n",
        "print(array[[0, 2, 4]]) # fancy indexing - 인덱스 0, 2, 4 원소들 찾기\n",
        "print(array[[0]]) # fancy indexing -> 결과는 배열!\n",
        "# [0] , [[0]] 차이점은 아이템이나 배열이나의 차이"
      ],
      "metadata": {
        "colab": {
          "base_uri": "https://localhost:8080/"
        },
        "id": "YR3rsrQNzIpS",
        "outputId": "0601544c-97b2-4067-fcda-acb5e93ace28"
      },
      "execution_count": 30,
      "outputs": [
        {
          "output_type": "stream",
          "name": "stdout",
          "text": [
            "[43 10 41 74 99 47 34 61  6 48]\n",
            "43\n",
            "[43 41 99]\n",
            "[43]\n"
          ]
        }
      ]
    },
    {
      "cell_type": "markdown",
      "source": [
        "### boolean indexing\n",
        "* 논리값(True/ False)들의 배열 (리스트, 튜플,...)을 사용한 fancy indexing 방법.\n",
        "* 배열에서 조건을 만족하는 원소들로 이루어진 부분집합(ndarray)를 만드는 방법"
      ],
      "metadata": {
        "id": "GTMkaUgy1HQD"
      }
    },
    {
      "cell_type": "code",
      "source": [
        "print(array)\n",
        "print(array[[True, False, True, False, True, False, True, False, True, False]])"
      ],
      "metadata": {
        "colab": {
          "base_uri": "https://localhost:8080/"
        },
        "id": "Ye4S0xfBysJM",
        "outputId": "1e80423a-890b-495d-cb3e-0f5da57cc55d"
      },
      "execution_count": 31,
      "outputs": [
        {
          "output_type": "stream",
          "name": "stdout",
          "text": [
            "[43 10 41 74 99 47 34 61  6 48]\n",
            "[43 41 99 34  6]\n"
          ]
        }
      ]
    },
    {
      "cell_type": "code",
      "source": [
        "# 배열 array의 원소들 중 홀수들만 찾기.\n",
        "# array % 2 == 1\n",
        "print(array % 2)\n",
        "print(array % 2 == 1)\n",
        "print(array[array % 2 == 1])"
      ],
      "metadata": {
        "colab": {
          "base_uri": "https://localhost:8080/"
        },
        "id": "qmbTMy801kf_",
        "outputId": "60bbd3f4-3a83-4618-a56a-42807571cd84"
      },
      "execution_count": 32,
      "outputs": [
        {
          "output_type": "stream",
          "name": "stdout",
          "text": [
            "[1 0 1 0 1 1 0 1 0 0]\n",
            "[ True False  True False  True  True False  True False False]\n",
            "[43 41 99 47 61]\n"
          ]
        }
      ]
    },
    {
      "cell_type": "code",
      "source": [
        "# 배열 array 원소들 중에서 50 이상인 숫자들의 배열을 찾기:\n",
        "print(array[array >= 50])"
      ],
      "metadata": {
        "colab": {
          "base_uri": "https://localhost:8080/"
        },
        "id": "rTFRCfVL2l6N",
        "outputId": "18389f09-1245-443b-ddf8-c85be27c1373"
      },
      "execution_count": 33,
      "outputs": [
        {
          "output_type": "stream",
          "name": "stdout",
          "text": [
            "[74 99 61]\n"
          ]
        }
      ]
    },
    {
      "cell_type": "markdown",
      "source": [
        "## NumPy의 통계 함수, 메서드\n",
        "* np.fuction(ndarray) 함수\n",
        "* np.ndarray.method() 메서드"
      ],
      "metadata": {
        "id": "nmG2rstO3mxV"
      }
    },
    {
      "cell_type": "code",
      "source": [
        "array = np.array([1, 2, 3, 4, 5])\n",
        "print(array)"
      ],
      "metadata": {
        "colab": {
          "base_uri": "https://localhost:8080/"
        },
        "id": "G2YYcvYm4BBV",
        "outputId": "640ab09f-9e64-469f-9d93-f44bed3202f3"
      },
      "execution_count": 34,
      "outputs": [
        {
          "output_type": "stream",
          "name": "stdout",
          "text": [
            "[1 2 3 4 5]\n"
          ]
        }
      ]
    },
    {
      "cell_type": "code",
      "source": [
        "# 합계:\n",
        "print(np.sum(array)) # 함수\n",
        "print(array.sum()) # 메서드"
      ],
      "metadata": {
        "colab": {
          "base_uri": "https://localhost:8080/"
        },
        "id": "HFGzs-AS4IU_",
        "outputId": "329806e1-ab3f-4ebc-858b-2b4ab278e160"
      },
      "execution_count": 35,
      "outputs": [
        {
          "output_type": "stream",
          "name": "stdout",
          "text": [
            "15\n",
            "15\n"
          ]
        }
      ]
    },
    {
      "cell_type": "code",
      "source": [
        "# 평균\n",
        "print(np.mean(array)) # 함수\n",
        "print(array.mean())"
      ],
      "metadata": {
        "colab": {
          "base_uri": "https://localhost:8080/"
        },
        "id": "Bxdv-uAQ5bnE",
        "outputId": "02777354-4f80-4cf2-a6ac-4da343bbdf45"
      },
      "execution_count": 36,
      "outputs": [
        {
          "output_type": "stream",
          "name": "stdout",
          "text": [
            "3.0\n",
            "3.0\n"
          ]
        }
      ]
    },
    {
      "cell_type": "markdown",
      "source": [
        "#2춴 배열에서의 통계 함수, 메서드"
      ],
      "metadata": {
        "id": "snAf0PXySIUo"
      }
    },
    {
      "cell_type": "code",
      "source": [
        "# [0, 100) 범위의 정수 난수를 갖는 (3, 4) 모양(shape)을 갖는 2차원 ndarray:\n",
        "np.random.seed(1)\n",
        "array = np.random.randint(100, size=(3, 4))\n",
        "print(array)"
      ],
      "metadata": {
        "colab": {
          "base_uri": "https://localhost:8080/"
        },
        "id": "4aK8oGDnSN58",
        "outputId": "23851a2c-ef89-4359-aedf-519d45b2effb"
      },
      "execution_count": 37,
      "outputs": [
        {
          "output_type": "stream",
          "name": "stdout",
          "text": [
            "[[37 12 72  9]\n",
            " [75  5 79 64]\n",
            " [16  1 76 71]]\n"
          ]
        }
      ]
    },
    {
      "cell_type": "code",
      "source": [
        "np.sum(array)  # axis=None(기본값): 배열의 모든 원소들의 합계"
      ],
      "metadata": {
        "colab": {
          "base_uri": "https://localhost:8080/"
        },
        "id": "s5yFcs2TSWmF",
        "outputId": "7f293da1-8258-4991-c6f7-5b7ee2348b24"
      },
      "execution_count": 38,
      "outputs": [
        {
          "output_type": "execute_result",
          "data": {
            "text/plain": [
              "517"
            ]
          },
          "metadata": {},
          "execution_count": 38
        }
      ]
    },
    {
      "cell_type": "code",
      "source": [
        "np.sum(array, axis=0)  # axis=0: 2차원 배열에서 첫번째 인덱스가 증가하는 축 방향으로 계산."
      ],
      "metadata": {
        "colab": {
          "base_uri": "https://localhost:8080/"
        },
        "id": "znNUine_SbPk",
        "outputId": "43910202-f3d0-470a-c0be-f8533496e556"
      },
      "execution_count": 39,
      "outputs": [
        {
          "output_type": "execute_result",
          "data": {
            "text/plain": [
              "array([128,  18, 227, 144])"
            ]
          },
          "metadata": {},
          "execution_count": 39
        }
      ]
    },
    {
      "cell_type": "code",
      "source": [
        "np.sum(array, axis=1)  # axis=1: 2차원 배열에서 두번째 인덱스가 증가하는 축 방향으로 계산."
      ],
      "metadata": {
        "colab": {
          "base_uri": "https://localhost:8080/"
        },
        "id": "04lRcQgRSeX0",
        "outputId": "b6e8d3df-7478-49df-c825-9773a4b0c7fe"
      },
      "execution_count": 40,
      "outputs": [
        {
          "output_type": "execute_result",
          "data": {
            "text/plain": [
              "array([130, 223, 164])"
            ]
          },
          "metadata": {},
          "execution_count": 40
        }
      ]
    },
    {
      "cell_type": "code",
      "source": [
        "np.sum(array, axis=1, keepdims=True)"
      ],
      "metadata": {
        "colab": {
          "base_uri": "https://localhost:8080/"
        },
        "id": "GLJR_2GqSgIl",
        "outputId": "4331bf61-d97e-4d31-fe35-7b8d48c07d6c"
      },
      "execution_count": 41,
      "outputs": [
        {
          "output_type": "execute_result",
          "data": {
            "text/plain": [
              "array([[130],\n",
              "       [223],\n",
              "       [164]])"
            ]
          },
          "metadata": {},
          "execution_count": 41
        }
      ]
    }
  ]
}