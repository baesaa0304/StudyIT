{
  "nbformat": 4,
  "nbformat_minor": 0,
  "metadata": {
    "colab": {
      "provenance": [],
      "authorship_tag": "ABX9TyMUbkjWfoDuI3kIg79lfopy",
      "include_colab_link": true
    },
    "kernelspec": {
      "name": "python3",
      "display_name": "Python 3"
    },
    "language_info": {
      "name": "python"
    }
  },
  "cells": [
    {
      "cell_type": "markdown",
      "metadata": {
        "id": "view-in-github",
        "colab_type": "text"
      },
      "source": [
        "<a href=\"https://colab.research.google.com/github/baesunyoung34/Python/blob/main/py10_try.ipynb\" target=\"_parent\"><img src=\"https://colab.research.google.com/assets/colab-badge.svg\" alt=\"Open In Colab\"/></a>"
      ]
    },
    {
      "cell_type": "markdown",
      "source": [
        "#오류 (Error)처리\n",
        "* 오류가 발생한 위치와 원인을 파악해서 오류가 발생하지 않도록 코드를 수정.\n",
        "* 오류가 발생하더라도 프로그램이 비정상적으로 종료되지 않고 계속 실행되도록 처리 --> try 구문\n",
        "    * Java는 반드시 try-catch 구문을 사용해야만 하는 Exception 종류들이 있음.\n",
        "        * NullPointerException - try-catch 가 필수는 아님.\n",
        "        * IOException, SQLException ... try-catch가 필수.\n",
        "    * Python은 모든 오류 처리에서 try-except가 필수는 아님.\n",
        "        "
      ],
      "metadata": {
        "id": "dmf4WGo1H9FG"
      }
    },
    {
      "cell_type": "markdown",
      "source": [
        "**Python try-except 구문**\n",
        "```\n",
        "try :\n",
        "    (1) 실행할 코드 블록\n",
        "except\n",
        "    (2) 에러가 발생했을 때 실행할 코드 블록\n",
        "[else:\n",
        "    (3) 에러가 발생하지 않았을 때 실행할 코드 블록]\n",
        "[finally :\n",
        "    (4) try 블록 실행 중에 에러 발생 여부와 상관 없이 항상 실행할 코드 블록]            \n",
        "```\n",
        "* 에러가 발생하지 않는 경우:(1) -> (2) -> (3) -> (4)\n",
        "* 에러가 발생한 경우: (1) -> (2) -> (4)\n",
        "* except 구문에서 에러 클래스의 이름을 생략하면, 모든 종류의 에러를 잡아서 처리할 수 있음.\n",
        "* 특정 종류의 에라민 찰;히고자 할 때는, except 구문에서 에러 클래스 이름을 명시"
      ],
      "metadata": {
        "id": "axRm_KcDJ0CC"
      }
    },
    {
      "cell_type": "code",
      "execution_count": 3,
      "metadata": {
        "colab": {
          "base_uri": "https://localhost:8080/"
        },
        "id": "V_ZuyruVHz-y",
        "outputId": "7832041e-aabb-4f3e-8cd0-d1aa06ce5c8d"
      },
      "outputs": [
        {
          "output_type": "stream",
          "name": "stdout",
          "text": [
            "정수 입력>>> ㅁㅇ\n",
            "정수를 입력 하세여\n"
          ]
        }
      ],
      "source": [
        "try:\n",
        "    x = int(input('정수 입력>>> '))\n",
        "    print(x)\n",
        "except:\n",
        "    print('정수를 입력 하세여')"
      ]
    },
    {
      "cell_type": "code",
      "source": [
        "try:\n",
        "    x = int(input('정수 입력>>> ')) # 1\n",
        "except ValueError as e:\n",
        "    print(e) #2.\n",
        "else:\n",
        "    print(f'x = {x}') # 3.\n",
        "finally:\n",
        "    print('===end====')   # 4."
      ],
      "metadata": {
        "colab": {
          "base_uri": "https://localhost:8080/"
        },
        "id": "trX0fEQqMYjV",
        "outputId": "40159059-136f-465a-a4fb-e7a5aca348d1"
      },
      "execution_count": 6,
      "outputs": [
        {
          "output_type": "stream",
          "name": "stdout",
          "text": [
            "정수 입력>>> dd\n",
            "invalid literal for int() with base 10: 'dd'\n",
            "===end====\n"
          ]
        }
      ]
    },
    {
      "cell_type": "markdown",
      "source": [
        "## Ex 1.\n",
        "정수를 1개를 입력받고, 입력받은 정수를 출력하세여.\n",
        "정수를 변환 할 수 없는 문자열이 입력된 경우에는 적절한 오류 메세지를 출력한 후 다시 입력을 받아야 함."
      ],
      "metadata": {
        "id": "vMWX5vRGTDhw"
      }
    },
    {
      "cell_type": "code",
      "source": [
        "while True: # 무한루프 반복문\n",
        "    try:\n",
        "        num = int(input(\"정수 >>: \"))\n",
        "        print(\"입력한 정수:\", num)\n",
        "        break\n",
        "    except ValueError:\n",
        "        print(\"정수로 변환할 수 없는 입력입니다. 다시 입력하세요.\")"
      ],
      "metadata": {
        "colab": {
          "base_uri": "https://localhost:8080/"
        },
        "id": "hh24raabTa5W",
        "outputId": "c7c6a786-fb7d-40f0-8203-796b88039cdf"
      },
      "execution_count": 9,
      "outputs": [
        {
          "output_type": "stream",
          "name": "stdout",
          "text": [
            "정수 >>: 00\n",
            "입력한 정수: 0\n"
          ]
        }
      ]
    },
    {
      "cell_type": "markdown",
      "source": [
        "## Ex 2.\n",
        "리스트 words가 가지고 있는 단어들을 key로 하고, 그 단어가 리스트에 나오는 횟수를 값으로 하는 dict를 생성하고 출력,"
      ],
      "metadata": {
        "id": "JN6aKpJ9T8aY"
      }
    },
    {
      "cell_type": "code",
      "source": [
        "words = ['java', 'python', 'javascript', 'python', 'sql', 'java', 'python']\n",
        "#> 결과: {'java': 2, 'python': 3, 'javascript': 1, 'sql': 1}"
      ],
      "metadata": {
        "id": "fvmzf6-bT9Ks"
      },
      "execution_count": 11,
      "outputs": []
    },
    {
      "cell_type": "code",
      "source": [
        "words_counts = {} # 단어 / 단어 빈도수를 저장하는 빈 dict\n",
        "for w in words: # 리스트 words에서 단어를 순서대로 꺼내서 반복하면사\n",
        "    if w in words_counts: # 단어 w가 dict의 키(key)로 존재하면\n",
        "        words_counts[w]+= 1 # 단어의 빈도수를 1 증가\n",
        "    else:\n",
        "        words_counts[w] = 1\n",
        "print(dict(words_counts))"
      ],
      "metadata": {
        "colab": {
          "base_uri": "https://localhost:8080/"
        },
        "id": "2tTR0ilyUdDd",
        "outputId": "f81400a1-08c1-4188-8e33-2b085c58d090"
      },
      "execution_count": 17,
      "outputs": [
        {
          "output_type": "stream",
          "name": "stdout",
          "text": [
            "{'java': 2, 'python': 3, 'javascript': 1, 'sql': 1}\n"
          ]
        }
      ]
    },
    {
      "cell_type": "code",
      "source": [
        "words_count = {}\n",
        "for w in words:\n",
        "    try:\n",
        "        words_count[w]+= 1 # 기존 키를 갖는 아이템의 값을 변경\n",
        "    except:\n",
        "        words_count[w] = 1 # 새롱ㄴ 키-값 아이템을 추가\n",
        "print(words_count)"
      ],
      "metadata": {
        "colab": {
          "base_uri": "https://localhost:8080/"
        },
        "id": "uN84Lth4bp9k",
        "outputId": "48f23333-d6ec-4aa1-8ea9-8bc53fc9950f"
      },
      "execution_count": 18,
      "outputs": [
        {
          "output_type": "stream",
          "name": "stdout",
          "text": [
            "{'java': 2, 'python': 3, 'javascript': 1, 'sql': 1}\n"
          ]
        }
      ]
    },
    {
      "cell_type": "code",
      "source": [
        "#collection 모듈에서 defaultdict 함수를 임포트\n",
        "from collections import defaultdict"
      ],
      "metadata": {
        "id": "pCmidXQyc_cP"
      },
      "execution_count": 19,
      "outputs": []
    },
    {
      "cell_type": "code",
      "source": [
        "word_count2 = defaultdict(int)\n",
        "for w in words:\n",
        "    word_count2[w] += 1\n",
        "print(word_count2)"
      ],
      "metadata": {
        "colab": {
          "base_uri": "https://localhost:8080/"
        },
        "id": "PLiiqFhKduLM",
        "outputId": "53492bd9-193e-4dfe-ecf6-fe7914ecdf89"
      },
      "execution_count": 20,
      "outputs": [
        {
          "output_type": "stream",
          "name": "stdout",
          "text": [
            "defaultdict(<class 'int'>, {'java': 2, 'python': 3, 'javascript': 1, 'sql': 1})\n"
          ]
        }
      ]
    }
  ]
}