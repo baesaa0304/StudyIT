{
  "nbformat": 4,
  "nbformat_minor": 0,
  "metadata": {
    "colab": {
      "provenance": [],
      "authorship_tag": "ABX9TyO/i0BnbKrc5JJ520XjSB4/",
      "include_colab_link": true
    },
    "kernelspec": {
      "name": "python3",
      "display_name": "Python 3"
    },
    "language_info": {
      "name": "python"
    }
  },
  "cells": [
    {
      "cell_type": "markdown",
      "metadata": {
        "id": "view-in-github",
        "colab_type": "text"
      },
      "source": [
        "<a href=\"https://colab.research.google.com/github/baesunyoung34/Python/blob/main/py01_intro.ipynb\" target=\"_parent\"><img src=\"https://colab.research.google.com/assets/colab-badge.svg\" alt=\"Open In Colab\"/></a>"
      ]
    },
    {
      "cell_type": "markdown",
      "source": [
        "# 파이썬 버전 확인"
      ],
      "metadata": {
        "id": "mDngpd1P1nba"
      }
    },
    {
      "cell_type": "code",
      "source": [
        "!python --version"
      ],
      "metadata": {
        "colab": {
          "base_uri": "https://localhost:8080/"
        },
        "id": "WqcgZ_eP1st-",
        "outputId": "b80a7c68-e82e-498f-9069-c7d880919696"
      },
      "execution_count": 2,
      "outputs": [
        {
          "output_type": "stream",
          "name": "stdout",
          "text": [
            "Python 3.10.12\n"
          ]
        }
      ]
    },
    {
      "cell_type": "markdown",
      "source": [
        "코드 셀에서 명령창(command prompt)에서 실행하는 명령어를 작성하고 실행할 때는 !로 시작."
      ],
      "metadata": {
        "id": "aIl3fqSw2jd1"
      }
    },
    {
      "cell_type": "markdown",
      "source": [
        "# 파이썬 소개\n"
      ],
      "metadata": {
        "id": "KmO-Wo760sG-"
      }
    },
    {
      "cell_type": "code",
      "execution_count": 3,
      "metadata": {
        "colab": {
          "base_uri": "https://localhost:8080/"
        },
        "id": "Q9xz9ABtxzSq",
        "outputId": "49fce8f8-be2f-4193-84ab-3a9395a5940d"
      },
      "outputs": [
        {
          "output_type": "stream",
          "name": "stdout",
          "text": [
            "안녕하세요 pyton!\n"
          ]
        }
      ],
      "source": [
        "# inline comment(주석)\n",
        "print('안녕하세요 pyton!') #파이썬 문장은 세미콜론을 사용하지 않음."
      ]
    },
    {
      "cell_type": "markdown",
      "source": [
        "#코드셀 실행 방법\n",
        "\n",
        "\n",
        "*   코드셀 왼쪽의 실행 버튼을 클릭.\n",
        "*   Ctrl + Enter: 현제 포커스가 있는 코드셀을 실행.\n",
        "*   Shift + Enter : 현제 포거스가 있는 코드셀을 실횅하고, 그 다음 셀로 포커스를 이동.\n",
        "*   런타임 메뉴\n",
        "\n"
      ],
      "metadata": {
        "id": "fJLz5nHEl7Zq"
      }
    },
    {
      "cell_type": "code",
      "source": [
        "print('hello, python!')"
      ],
      "metadata": {
        "colab": {
          "base_uri": "https://localhost:8080/"
        },
        "id": "akRUKg2hmXxI",
        "outputId": "ba483c32-4dcc-41be-fc5c-7f62c223b589"
      },
      "execution_count": 4,
      "outputs": [
        {
          "output_type": "stream",
          "name": "stdout",
          "text": [
            "hello, python!\n"
          ]
        }
      ]
    },
    {
      "cell_type": "markdown",
      "source": [
        "#`print()` 함수"
      ],
      "metadata": {
        "id": "7QIzhi_rmamf"
      }
    },
    {
      "cell_type": "code",
      "source": [
        "print('hello', 'python', '안녕하세요')"
      ],
      "metadata": {
        "colab": {
          "base_uri": "https://localhost:8080/"
        },
        "id": "e-uH9SgdmqXK",
        "outputId": "1f1944e0-30f5-47dc-ca3a-f935f3f50ad4"
      },
      "execution_count": 5,
      "outputs": [
        {
          "output_type": "stream",
          "name": "stdout",
          "text": [
            "hello python 안녕하세요\n"
          ]
        }
      ]
    },
    {
      "cell_type": "markdown",
      "source": [
        "`print()` 함수에 아규먼트를 여러 개 전달하면, 아규먼트들을 공백으로 연결해서 콘솔에 출력함.\n"
      ],
      "metadata": {
        "id": "PDyGRk6Hmsd2"
      }
    },
    {
      "cell_type": "markdown",
      "source": [
        "#`format()` 메서드를 사용한 출력"
      ],
      "metadata": {
        "id": "hP8z8m64m6GG"
      }
    },
    {
      "cell_type": "code",
      "source": [
        "print('{} + {} = {}'.format(1, 2, 1+2))"
      ],
      "metadata": {
        "colab": {
          "base_uri": "https://localhost:8080/"
        },
        "id": "URkOuZrGmxxO",
        "outputId": "0cbada24-0ba7-44b7-bc56-2ae10e57391d"
      },
      "execution_count": 6,
      "outputs": [
        {
          "output_type": "stream",
          "name": "stdout",
          "text": [
            "1 + 2 = 3\n"
          ]
        }
      ]
    },
    {
      "cell_type": "markdown",
      "source": [
        "#formatted string을 사용한 출력\n",
        "Python 3.6 이상의 버전에서 사용할 수 있음"
      ],
      "metadata": {
        "id": "jsaxqU48m88P"
      }
    },
    {
      "cell_type": "code",
      "source": [
        "# 변수이름 = 값\n",
        "x = 1\n",
        "y = 2\n",
        "print(f'{x} + {y} = {x + y}')"
      ],
      "metadata": {
        "colab": {
          "base_uri": "https://localhost:8080/"
        },
        "id": "mTxDYd9SnA4W",
        "outputId": "89909968-e307-4678-9397-8dcf2f8a93a7"
      },
      "execution_count": 7,
      "outputs": [
        {
          "output_type": "stream",
          "name": "stdout",
          "text": [
            "1 + 2 = 3\n"
          ]
        }
      ]
    },
    {
      "cell_type": "markdown",
      "source": [
        "#ipynb 노트북에서의 콘솔 출력\n",
        "\n",
        "\n",
        "*   식(expression): 값(value), 변수, 연산, 함수 호출\n",
        "\n",
        "> * x, x + y\n",
        "\n",
        "\n",
        "\n",
        "*   문장(statement): 코드의 최소 실행 단위\n",
        "\n",
        "> * z = x + y, result = add(x, y)\n",
        "\n",
        "*   ipynb 노트북 코드셀에서 가장 마지막 줄에 있는 문장이 식(expression)이면, 그 식을 평가한 결과를 콘솔에 출력해 줌\n",
        "\n",
        "> * 마지막 줄에서는 print() 함수를 호출하지 않아도 출력됨.\n",
        "\n",
        "\n",
        "\n",
        "\n",
        "\n",
        "\n",
        "\n",
        "\n",
        "\n",
        "\n",
        "\n",
        "\n",
        "\n",
        "\n",
        "\n",
        "\n"
      ],
      "metadata": {
        "id": "hcTCCkGTnDk_"
      }
    },
    {
      "cell_type": "code",
      "source": [
        "x = 1\n",
        "print(x)\n",
        "y = 2\n",
        "print(y)\n",
        "# print(x + y)\n",
        "x + y"
      ],
      "metadata": {
        "colab": {
          "base_uri": "https://localhost:8080/"
        },
        "id": "bDUjswaenySs",
        "outputId": "6b4fbbed-daa2-4fb4-c587-b6d5bedbdc09"
      },
      "execution_count": 8,
      "outputs": [
        {
          "output_type": "stream",
          "name": "stdout",
          "text": [
            "1\n",
            "2\n"
          ]
        },
        {
          "output_type": "execute_result",
          "data": {
            "text/plain": [
              "3"
            ]
          },
          "metadata": {},
          "execution_count": 8
        }
      ]
    }
  ]
}